{
 "cells": [
  {
   "cell_type": "code",
   "execution_count": 17,
   "id": "08d300e2-3c65-4979-8a0e-3e7e54dd7d5e",
   "metadata": {},
   "outputs": [],
   "source": []
  },
  {
   "cell_type": "code",
   "execution_count": 19,
   "id": "cf6aaa02-a0f8-42d4-8c94-752c2cc0cb39",
   "metadata": {},
   "outputs": [],
   "source": [
    "# Updating Global\n",
    "count = 0\n",
    "def update_global():\n",
    "    global count\n",
    "    count+=1\n",
    "    print (count)"
   ]
  },
  {
   "cell_type": "code",
   "execution_count": 20,
   "id": "96993231-17cd-490c-b8bf-9d060094be05",
   "metadata": {},
   "outputs": [
    {
     "name": "stdout",
     "output_type": "stream",
     "text": [
      "1\n"
     ]
    }
   ],
   "source": [
    "update_global()"
   ]
  },
  {
   "cell_type": "code",
   "execution_count": null,
   "id": "606222f6-2033-4eaf-9e4c-d0d14709ef1c",
   "metadata": {},
   "outputs": [],
   "source": []
  },
  {
   "cell_type": "code",
   "execution_count": 11,
   "id": "8609d497-16ba-4597-ad6b-abc45c87ba7d",
   "metadata": {},
   "outputs": [],
   "source": [
    "def outer():\n",
    "    x= \"data\"\n",
    "    for i in x:\n",
    "        print (i)"
   ]
  },
  {
   "cell_type": "code",
   "execution_count": 12,
   "id": "f0f574fe-2c70-45f9-8240-b2205fba41c6",
   "metadata": {
    "scrolled": true
   },
   "outputs": [
    {
     "name": "stdout",
     "output_type": "stream",
     "text": [
      "d\n",
      "a\n",
      "t\n",
      "a\n"
     ]
    }
   ],
   "source": [
    "outer()\n"
   ]
  },
  {
   "cell_type": "code",
   "execution_count": null,
   "id": "9228102d-79ea-4043-b7a1-3cd951190d32",
   "metadata": {},
   "outputs": [],
   "source": []
  },
  {
   "cell_type": "code",
   "execution_count": null,
   "id": "af096e71-551e-4078-8b28-fdd671efaaf5",
   "metadata": {},
   "outputs": [],
   "source": [
    "# modifing the global to local using NONLOCAL keyword"
   ]
  },
  {
   "cell_type": "code",
   "execution_count": 3,
   "id": "27ac7868-671e-4346-a23d-23946fa0f5c0",
   "metadata": {},
   "outputs": [],
   "source": [
    "x = \"science\"\n",
    "def outer():\n",
    "    x=\"data\"\n",
    "    def inner():\n",
    "        nonlocal x\n",
    "        x = \"machine\"\n",
    "    inner()\n",
    "    print (x)"
   ]
  },
  {
   "cell_type": "code",
   "execution_count": 4,
   "id": "a0bbe4bf-126f-47b7-a8fe-2b0c85d30a63",
   "metadata": {},
   "outputs": [
    {
     "name": "stdout",
     "output_type": "stream",
     "text": [
      "machine\n"
     ]
    }
   ],
   "source": [
    "outer()"
   ]
  },
  {
   "cell_type": "code",
   "execution_count": 9,
   "id": "15a34139-f35d-4ac1-8144-a2e620b703b4",
   "metadata": {},
   "outputs": [],
   "source": [
    "x = \"science\"\n",
    "def outer():\n",
    "    x=\"data\"\n",
    "    def inner():\n",
    "        nonlocal x\n",
    "        x = x*2\n",
    "    inner()\n",
    "    print (x)"
   ]
  },
  {
   "cell_type": "code",
   "execution_count": 10,
   "id": "1fbe3d89-72a9-4759-8f8e-801d80dbab16",
   "metadata": {},
   "outputs": [
    {
     "name": "stdout",
     "output_type": "stream",
     "text": [
      "datadata\n"
     ]
    }
   ],
   "source": [
    "outer()"
   ]
  },
  {
   "cell_type": "code",
   "execution_count": null,
   "id": "1a355bb4-aae8-4364-8fe8-0feb366c2e35",
   "metadata": {},
   "outputs": [],
   "source": [
    "### factorial using function"
   ]
  },
  {
   "cell_type": "code",
   "execution_count": 24,
   "id": "12c21086-b464-4d9e-aa3b-958cf5bcb749",
   "metadata": {},
   "outputs": [],
   "source": [
    "def factorial(n):\n",
    "    if n== 1:\n",
    "        return 1\n",
    "    else:\n",
    "        return n*factorial(n-1)"
   ]
  },
  {
   "cell_type": "code",
   "execution_count": 25,
   "id": "2bbecea1-1294-4ba8-86a8-0cc6ebb8f67c",
   "metadata": {},
   "outputs": [
    {
     "data": {
      "text/plain": [
       "120"
      ]
     },
     "execution_count": 25,
     "metadata": {},
     "output_type": "execute_result"
    }
   ],
   "source": [
    "factorial (5)"
   ]
  },
  {
   "cell_type": "code",
   "execution_count": 24,
   "id": "0d6968ea-7add-4d91-a320-afcdc2604ded",
   "metadata": {},
   "outputs": [],
   "source": [
    "def fibonacci(n):\n",
    "    if n == 0:\n",
    "        return 0\n",
    "    elif n == 1:\n",
    "        return 1\n",
    "    else:\n",
    "        return fibonacci(n-1) + fibonacci(n-2)\n",
    "        "
   ]
  },
  {
   "cell_type": "code",
   "execution_count": 25,
   "id": "351d6c14-63d3-43f6-90c0-4462f99f0dba",
   "metadata": {},
   "outputs": [
    {
     "data": {
      "text/plain": [
       "55"
      ]
     },
     "execution_count": 25,
     "metadata": {},
     "output_type": "execute_result"
    }
   ],
   "source": [
    "fibonacci(10)"
   ]
  },
  {
   "cell_type": "code",
   "execution_count": null,
   "id": "8439abbf-bd1d-4d45-bb54-3a974edf2a0a",
   "metadata": {},
   "outputs": [],
   "source": [
    "### LANDA EXPRESSION"
   ]
  },
  {
   "cell_type": "code",
   "execution_count": 26,
   "id": "21d11c72-a0a3-448a-aa4b-3a3083871002",
   "metadata": {},
   "outputs": [],
   "source": [
    "def add(x): # this is the traditional define function\n",
    "    x=x+2\n",
    "    return x # sso instead of using the traditioan function we can use LAMBDA expression"
   ]
  },
  {
   "cell_type": "code",
   "execution_count": 27,
   "id": "95de9fc7-b861-40d6-a0db-426ed128bfd6",
   "metadata": {},
   "outputs": [
    {
     "data": {
      "text/plain": [
       "12"
      ]
     },
     "execution_count": 27,
     "metadata": {},
     "output_type": "execute_result"
    }
   ],
   "source": [
    "add (10)"
   ]
  },
  {
   "cell_type": "code",
   "execution_count": 28,
   "id": "c5125761-3805-4e3c-b502-e731da9ec1e7",
   "metadata": {},
   "outputs": [
    {
     "data": {
      "text/plain": [
       "<function __main__.<lambda>(x)>"
      ]
     },
     "execution_count": 28,
     "metadata": {},
     "output_type": "execute_result"
    }
   ],
   "source": [
    "lambda x:x+2"
   ]
  },
  {
   "cell_type": "code",
   "execution_count": 30,
   "id": "4a16e698-9e65-46cf-bf35-d8614354a346",
   "metadata": {},
   "outputs": [],
   "source": [
    "add= lambda x:x+2"
   ]
  },
  {
   "cell_type": "code",
   "execution_count": 32,
   "id": "0b597cb9-e326-4de3-a0b1-30d71eedfcba",
   "metadata": {},
   "outputs": [
    {
     "data": {
      "text/plain": [
       "12"
      ]
     },
     "execution_count": 32,
     "metadata": {},
     "output_type": "execute_result"
    }
   ],
   "source": [
    "add (10)"
   ]
  },
  {
   "cell_type": "code",
   "execution_count": 33,
   "id": "5ef0858e-fdf2-4f9a-8d14-92817d5a4fd6",
   "metadata": {},
   "outputs": [],
   "source": [
    "multiplication= lambda x:x*2"
   ]
  },
  {
   "cell_type": "code",
   "execution_count": 34,
   "id": "7a1622f8-eb64-4371-97c6-323c244e9fee",
   "metadata": {},
   "outputs": [
    {
     "data": {
      "text/plain": [
       "20"
      ]
     },
     "execution_count": 34,
     "metadata": {},
     "output_type": "execute_result"
    }
   ],
   "source": [
    "multiplication(10)"
   ]
  },
  {
   "cell_type": "code",
   "execution_count": 35,
   "id": "6c54d1d9-9261-4d3f-8373-757f3aa9bee0",
   "metadata": {},
   "outputs": [],
   "source": [
    "iseven= lambda x:x%2== 0"
   ]
  },
  {
   "cell_type": "code",
   "execution_count": 36,
   "id": "7bf5baa8-0241-4b7a-aa71-657dc69139f1",
   "metadata": {},
   "outputs": [
    {
     "data": {
      "text/plain": [
       "True"
      ]
     },
     "execution_count": 36,
     "metadata": {},
     "output_type": "execute_result"
    }
   ],
   "source": [
    "iseven(10)"
   ]
  },
  {
   "cell_type": "code",
   "execution_count": 37,
   "id": "32792b2a-01ca-47aa-975f-1584ace8f06f",
   "metadata": {},
   "outputs": [],
   "source": [
    "isodd= lambda x:x%2!= 0"
   ]
  },
  {
   "cell_type": "code",
   "execution_count": 39,
   "id": "de78e42d-8357-4219-a457-cb88f5504d53",
   "metadata": {},
   "outputs": [
    {
     "data": {
      "text/plain": [
       "False"
      ]
     },
     "execution_count": 39,
     "metadata": {},
     "output_type": "execute_result"
    }
   ],
   "source": [
    "isodd(10)"
   ]
  },
  {
   "cell_type": "code",
   "execution_count": 40,
   "id": "f7e0d910-d4d4-4b66-8d88-3a5a014ee4a4",
   "metadata": {},
   "outputs": [
    {
     "name": "stdout",
     "output_type": "stream",
     "text": [
      "True\n",
      "False\n",
      "True\n",
      "False\n",
      "True\n",
      "False\n",
      "True\n",
      "False\n",
      "True\n",
      "False\n"
     ]
    }
   ],
   "source": [
    "for i in range (0,10):\n",
    "    print(iseven(i))\n"
   ]
  },
  {
   "cell_type": "code",
   "execution_count": 41,
   "id": "12447711-14fb-4b47-aef9-49f047d1b487",
   "metadata": {},
   "outputs": [],
   "source": [
    "greater = lambda a,b: a if a>b else b"
   ]
  },
  {
   "cell_type": "code",
   "execution_count": 42,
   "id": "4519a5d0-828e-49b0-a35c-593b79b604d8",
   "metadata": {},
   "outputs": [
    {
     "data": {
      "text/plain": [
       "11"
      ]
     },
     "execution_count": 42,
     "metadata": {},
     "output_type": "execute_result"
    }
   ],
   "source": [
    "greater (9,11)"
   ]
  },
  {
   "cell_type": "code",
   "execution_count": 45,
   "id": "0fd24abb-237d-46c9-a83e-bfbd151318a0",
   "metadata": {},
   "outputs": [],
   "source": [
    "x=\"data science machine learning\""
   ]
  },
  {
   "cell_type": "code",
   "execution_count": 77,
   "id": "b11d2a00-6ed1-4f2e-9853-65ca565e5996",
   "metadata": {},
   "outputs": [
    {
     "data": {
      "text/plain": [
       "['data', 'science', 'machine', 'learning']"
      ]
     },
     "execution_count": 77,
     "metadata": {},
     "output_type": "execute_result"
    }
   ],
   "source": [
    "starter = lambda x:x.split()\n",
    "starter(\"data science machine learning\")"
   ]
  },
  {
   "cell_type": "code",
   "execution_count": null,
   "id": "9a15dfe9-a672-4c5d-9ce2-5efb3acb9cd6",
   "metadata": {},
   "outputs": [],
   "source": []
  },
  {
   "cell_type": "code",
   "execution_count": 55,
   "id": "68086586-52f7-4062-8030-ce3f3a9e174f",
   "metadata": {},
   "outputs": [
    {
     "data": {
      "text/plain": [
       "'DATA'"
      ]
     },
     "execution_count": 55,
     "metadata": {},
     "output_type": "execute_result"
    }
   ],
   "source": [
    "capital = lambda x:x.upper()\n",
    "capital(\"data\")"
   ]
  },
  {
   "cell_type": "code",
   "execution_count": 57,
   "id": "e3c5b5cf-23b4-477a-8e5e-88a24ee0e74f",
   "metadata": {},
   "outputs": [
    {
     "data": {
      "text/plain": [
       "'DA'"
      ]
     },
     "execution_count": 57,
     "metadata": {},
     "output_type": "execute_result"
    }
   ],
   "source": [
    "# but if we need only two first letters to be in capital\n",
    "capital = lambda x:x[:2].upper()\n",
    "capital(\"data\")"
   ]
  },
  {
   "cell_type": "code",
   "execution_count": 84,
   "id": "beba5f04-843a-4725-8ff8-9e1dfb572abc",
   "metadata": {},
   "outputs": [
    {
     "name": "stdout",
     "output_type": "stream",
     "text": [
      "atad\n",
      "ecneics\n"
     ]
    }
   ],
   "source": [
    "x= \"data science\"\n",
    "for i in x.split():\n",
    "    print(reverse(i))"
   ]
  },
  {
   "cell_type": "code",
   "execution_count": 85,
   "id": "90fcbbb5-c7cc-4b7a-89b9-f50927f36ca8",
   "metadata": {},
   "outputs": [
    {
     "data": {
      "text/plain": [
       "'ecneics atad'"
      ]
     },
     "execution_count": 85,
     "metadata": {},
     "output_type": "execute_result"
    }
   ],
   "source": [
    "reverse=lambda x:x[::-1]\n",
    "reverse(\"data science\")"
   ]
  },
  {
   "cell_type": "code",
   "execution_count": null,
   "id": "a0af491d-2410-4fe9-8392-6e926b09177a",
   "metadata": {},
   "outputs": [],
   "source": [
    "### LIST COMPREHENSION"
   ]
  },
  {
   "cell_type": "code",
   "execution_count": 99,
   "id": "f11ec7a9-91f9-4c3b-9eca-6b89aa0a8ca7",
   "metadata": {},
   "outputs": [
    {
     "name": "stdout",
     "output_type": "stream",
     "text": [
      "0\n",
      "1\n",
      "2\n",
      "3\n",
      "4\n",
      "5\n",
      "6\n",
      "7\n",
      "8\n",
      "9\n"
     ]
    },
    {
     "data": {
      "text/plain": [
       "[0, 1, 2, 3, 4, 5, 6, 7, 8, 9]"
      ]
     },
     "execution_count": 99,
     "metadata": {},
     "output_type": "execute_result"
    }
   ],
   "source": [
    "for i in range(0,10):\n",
    "    print (i)\n",
    "# istead of writing this code we can use below code\n",
    "[i for i in range(0,10)] # then we will get the output like below"
   ]
  },
  {
   "cell_type": "code",
   "execution_count": 104,
   "id": "3d41ff55-ad36-48f8-9952-3767a71ede16",
   "metadata": {},
   "outputs": [],
   "source": [
    "x= []\n",
    "for i in range (0,10):\n",
    "    x.append(i/2)"
   ]
  },
  {
   "cell_type": "code",
   "execution_count": 105,
   "id": "d1810888-60d9-42d7-ac66-ce9646e56bd9",
   "metadata": {},
   "outputs": [
    {
     "data": {
      "text/plain": [
       "[0.0, 0.5, 1.0, 1.5, 2.0, 2.5, 3.0, 3.5, 4.0, 4.5]"
      ]
     },
     "execution_count": 105,
     "metadata": {},
     "output_type": "execute_result"
    }
   ],
   "source": [
    "x"
   ]
  },
  {
   "cell_type": "code",
   "execution_count": 106,
   "id": "7981d078-2066-4007-8b9a-be4027bfdf5e",
   "metadata": {},
   "outputs": [
    {
     "data": {
      "text/plain": [
       "[0.0, 0.5, 1.0, 1.5, 2.0, 2.5, 3.0, 3.5, 4.0, 4.5]"
      ]
     },
     "execution_count": 106,
     "metadata": {},
     "output_type": "execute_result"
    }
   ],
   "source": [
    "#instead we can code like below\n",
    "[i/2 for i in range(0,10)]"
   ]
  },
  {
   "cell_type": "code",
   "execution_count": 110,
   "id": "34bed837-eda3-4efb-bbf6-9f44a025d73b",
   "metadata": {},
   "outputs": [
    {
     "name": "stdout",
     "output_type": "stream",
     "text": [
      "atad\n",
      "ecneics\n"
     ]
    },
    {
     "data": {
      "text/plain": [
       "['atad', 'ecneics']"
      ]
     },
     "execution_count": 110,
     "metadata": {},
     "output_type": "execute_result"
    }
   ],
   "source": [
    "x =\"data science\"\n",
    "for i in x.split():\n",
    "    print(i[::-1])\n",
    "\n",
    "#instead \n",
    "\n",
    "[i[::-1] for i in x.split()]     ##here we are nothing but putting the print statement in front of the expression"
   ]
  },
  {
   "cell_type": "code",
   "execution_count": null,
   "id": "4e965ff3-a63c-4bb5-943d-2ae7fb797c31",
   "metadata": {},
   "outputs": [],
   "source": [
    "## MAP function"
   ]
  },
  {
   "cell_type": "code",
   "execution_count": 111,
   "id": "9b4e31e2-d3e7-488e-b060-ecc231efff88",
   "metadata": {},
   "outputs": [
    {
     "data": {
      "text/plain": [
       "[3, 4, 5, 6]"
      ]
     },
     "execution_count": 111,
     "metadata": {},
     "output_type": "execute_result"
    }
   ],
   "source": [
    "add= lambda x:x+2\n",
    "list(map(add,[1,2,3,4]))"
   ]
  },
  {
   "cell_type": "code",
   "execution_count": 114,
   "id": "a152cb7a-0151-452b-bb0b-3165a88e2721",
   "metadata": {},
   "outputs": [
    {
     "data": {
      "text/plain": [
       "[3, 4, 5, 6]"
      ]
     },
     "execution_count": 114,
     "metadata": {},
     "output_type": "execute_result"
    }
   ],
   "source": [
    "list(map(lambda x:x+2,[1,2,3,4]))  ## alternative"
   ]
  },
  {
   "cell_type": "code",
   "execution_count": 118,
   "id": "f0d3a379-ac33-43e7-86cc-6c6efc3bac72",
   "metadata": {},
   "outputs": [],
   "source": [
    "def square(x):\n",
    "    return x**2\n",
    "x=[]\n",
    "for i in range (1,10):\n",
    "    x.append(square(i))"
   ]
  },
  {
   "cell_type": "code",
   "execution_count": 121,
   "id": "8527e8d8-6336-4791-a62e-1d0350802ed2",
   "metadata": {},
   "outputs": [
    {
     "data": {
      "text/plain": [
       "[1, 4, 9, 16, 25, 36, 49, 64, 81]"
      ]
     },
     "execution_count": 121,
     "metadata": {},
     "output_type": "execute_result"
    }
   ],
   "source": [
    "x"
   ]
  },
  {
   "cell_type": "code",
   "execution_count": 122,
   "id": "5bfd7d54-996f-49e1-8c72-00caca78cc98",
   "metadata": {},
   "outputs": [
    {
     "data": {
      "text/plain": [
       "[1, 4, 9, 16, 25, 36, 49, 64, 81]"
      ]
     },
     "execution_count": 122,
     "metadata": {},
     "output_type": "execute_result"
    }
   ],
   "source": [
    "#instead\n",
    "list (map(lambda x:x**2,range(1,10)))"
   ]
  },
  {
   "cell_type": "code",
   "execution_count": 7,
   "id": "52733eaa-d5bb-49c5-a371-f06a3c8055bb",
   "metadata": {},
   "outputs": [
    {
     "data": {
      "text/plain": [
       "['atad', 'ecneics', 'enihcam', 'gninrael']"
      ]
     },
     "execution_count": 7,
     "metadata": {},
     "output_type": "execute_result"
    }
   ],
   "source": [
    "x= \"data science machine learning\"\n",
    "\n",
    "[i[::-1] for i in x.split()] "
   ]
  },
  {
   "cell_type": "code",
   "execution_count": 10,
   "id": "a306a4c5-d856-4c2c-8a86-6ed62fc3c9ab",
   "metadata": {},
   "outputs": [
    {
     "data": {
      "text/plain": [
       "['atad', 'ecneics', 'enihcam', 'gninrael']"
      ]
     },
     "execution_count": 10,
     "metadata": {},
     "output_type": "execute_result"
    }
   ],
   "source": [
    "list(map(lambda x:x[::-1],x.split()))"
   ]
  },
  {
   "cell_type": "code",
   "execution_count": 13,
   "id": "11b0e9cd-9577-461d-8bfc-11b66c96318c",
   "metadata": {},
   "outputs": [
    {
     "data": {
      "text/plain": [
       "['data4', 'science7', 'machine7', 'learning8']"
      ]
     },
     "execution_count": 13,
     "metadata": {},
     "output_type": "execute_result"
    }
   ],
   "source": [
    "# we need the output like ['data4', 'science7', 'machine7', 'learning8']\n",
    "\n",
    "x= \"data science machine learning\"\n",
    "list(map(lambda x:x+str(len(x)),x.split()))"
   ]
  },
  {
   "cell_type": "code",
   "execution_count": 17,
   "id": "898ec6de-eefd-4c62-bf12-9c8d9ab7971f",
   "metadata": {},
   "outputs": [
    {
     "data": {
      "text/plain": [
       "'data4 science7 machine7 learning8'"
      ]
     },
     "execution_count": 17,
     "metadata": {},
     "output_type": "execute_result"
    }
   ],
   "source": [
    "# but if we need the output like [\"data4 science7 machine7 learning8\"]\n",
    "\n",
    "x= \"data science machine learning\"\n",
    "\" \".join (list(map(lambda x:x+str(len(x)),x.split())))"
   ]
  },
  {
   "cell_type": "code",
   "execution_count": 32,
   "id": "1fe93afc-c063-4307-9aac-e05c0c3218df",
   "metadata": {},
   "outputs": [
    {
     "data": {
      "text/plain": [
       "'da se me lg'"
      ]
     },
     "execution_count": 32,
     "metadata": {},
     "output_type": "execute_result"
    }
   ],
   "source": [
    "# we need the output like['da se me lg']\n",
    "\n",
    "x= \"data science machine learning\"\n",
    "\" \".join (list(map(lambda x:x[0]+x[-1],x.split())))"
   ]
  },
  {
   "cell_type": "code",
   "execution_count": null,
   "id": "4d9101a9-7c51-4bf2-b596-a2047229dbcb",
   "metadata": {},
   "outputs": [],
   "source": []
  },
  {
   "cell_type": "code",
   "execution_count": null,
   "id": "9acee5b2-9639-40c4-9e40-3188449b2bbf",
   "metadata": {},
   "outputs": [],
   "source": [
    "# FILTER function"
   ]
  },
  {
   "cell_type": "code",
   "execution_count": 35,
   "id": "7cde218d-5305-4bfc-88a6-9ac019c89a78",
   "metadata": {},
   "outputs": [
    {
     "data": {
      "text/plain": [
       "[True, False, True, False, True, False, True, False, True, False]"
      ]
     },
     "execution_count": 35,
     "metadata": {},
     "output_type": "execute_result"
    }
   ],
   "source": [
    "list(map(lambda x:x%2==0,range(0,10))) # using MAP we get the output for every element"
   ]
  },
  {
   "cell_type": "code",
   "execution_count": 36,
   "id": "811a988b-3169-4991-bcd3-723c5f1bb13e",
   "metadata": {},
   "outputs": [
    {
     "data": {
      "text/plain": [
       "[0, 2, 4, 6, 8]"
      ]
     },
     "execution_count": 36,
     "metadata": {},
     "output_type": "execute_result"
    }
   ],
   "source": [
    "list(filter(lambda x:x%2==0,range(0,10))) # but using FILTER we get the output for only required result"
   ]
  },
  {
   "cell_type": "code",
   "execution_count": 41,
   "id": "233b4a5b-284b-4d3b-8f58-7327f56efebd",
   "metadata": {},
   "outputs": [
    {
     "data": {
      "text/plain": [
       "['data', 'learning']"
      ]
     },
     "execution_count": 41,
     "metadata": {},
     "output_type": "execute_result"
    }
   ],
   "source": [
    "# here we need the output of only even length\n",
    "x=\"data science machine learning\" \n",
    "\n",
    "list(filter(lambda x:(len(x)%2==0),x.split()))\n"
   ]
  },
  {
   "cell_type": "code",
   "execution_count": 42,
   "id": "8888291b-297d-4ea9-8307-eae46ef47fab",
   "metadata": {},
   "outputs": [
    {
     "data": {
      "text/plain": [
       "'data learning'"
      ]
     },
     "execution_count": 42,
     "metadata": {},
     "output_type": "execute_result"
    }
   ],
   "source": [
    "\" \".join(list(filter(lambda x:(len(x)%2==0),x.split())))"
   ]
  },
  {
   "cell_type": "code",
   "execution_count": 73,
   "id": "86fdf3e0-d4be-4a23-9fbe-8a878b483ff0",
   "metadata": {},
   "outputs": [
    {
     "data": {
      "text/plain": [
       "[10,\n",
       " 11,\n",
       " 12,\n",
       " 13,\n",
       " 14,\n",
       " 15,\n",
       " 16,\n",
       " 17,\n",
       " 18,\n",
       " 19,\n",
       " 20,\n",
       " 21,\n",
       " 22,\n",
       " 23,\n",
       " 24,\n",
       " 25,\n",
       " 26,\n",
       " 27,\n",
       " 28,\n",
       " 29]"
      ]
     },
     "execution_count": 73,
     "metadata": {},
     "output_type": "execute_result"
    }
   ],
   "source": [
    "\n",
    "list1= [i for i in range (10,30)]\n",
    "list1"
   ]
  },
  {
   "cell_type": "code",
   "execution_count": 74,
   "id": "7e5ebd89-9853-4898-a387-bdd6c87ef2c7",
   "metadata": {},
   "outputs": [
    {
     "data": {
      "text/plain": [
       "[15, 16, 17, 18, 19, 20, 21, 22, 23, 24, 25]"
      ]
     },
     "execution_count": 74,
     "metadata": {},
     "output_type": "execute_result"
    }
   ],
   "source": [
    "# write a code to get the output from 15 to 25\n",
    "\n",
    "list(filter(lambda x:x>=15 and x<=25,range(10,30)))"
   ]
  },
  {
   "cell_type": "code",
   "execution_count": null,
   "id": "11a0118a-1ba3-42d8-9971-daecab6dde7c",
   "metadata": {},
   "outputs": [],
   "source": [
    "## REDUCE function"
   ]
  },
  {
   "cell_type": "code",
   "execution_count": 75,
   "id": "9496ef8f-feb8-4fd2-aa82-f0c8c941acc5",
   "metadata": {},
   "outputs": [],
   "source": [
    "from functools import reduce"
   ]
  },
  {
   "cell_type": "code",
   "execution_count": 77,
   "id": "48f99d6d-35eb-42b1-bfa5-f72a1f47a73f",
   "metadata": {},
   "outputs": [
    {
     "data": {
      "text/plain": [
       "52"
      ]
     },
     "execution_count": 77,
     "metadata": {},
     "output_type": "execute_result"
    }
   ],
   "source": [
    "x=[22,3,24,45,52,1]\n",
    "reduce(lambda a,b: a if a>b else b,x)"
   ]
  },
  {
   "cell_type": "code",
   "execution_count": 81,
   "id": "a48ff12c-8b95-482a-aa88-e9b9ce864afa",
   "metadata": {},
   "outputs": [
    {
     "data": {
      "text/plain": [
       "147"
      ]
     },
     "execution_count": 81,
     "metadata": {},
     "output_type": "execute_result"
    }
   ],
   "source": [
    "# if we need to add all the elements\n",
    "reduce(lambda a,b: a+b, x)"
   ]
  },
  {
   "cell_type": "code",
   "execution_count": 82,
   "id": "ef206f72-a70e-4dd0-a5d5-92ff92e98fa1",
   "metadata": {},
   "outputs": [
    {
     "data": {
      "text/plain": [
       "'learning'"
      ]
     },
     "execution_count": 82,
     "metadata": {},
     "output_type": "execute_result"
    }
   ],
   "source": [
    "x=\"data science machine learning\"\n",
    "\n",
    "reduce(lambda a,b: a if len(a)>len(b) else b, x.split())"
   ]
  },
  {
   "cell_type": "code",
   "execution_count": null,
   "id": "c6d15cfc-d2f1-44ee-93b2-2f0fa8573976",
   "metadata": {},
   "outputs": [],
   "source": []
  }
 ],
 "metadata": {
  "kernelspec": {
   "display_name": "Python 3 (ipykernel)",
   "language": "python",
   "name": "python3"
  },
  "language_info": {
   "codemirror_mode": {
    "name": "ipython",
    "version": 3
   },
   "file_extension": ".py",
   "mimetype": "text/x-python",
   "name": "python",
   "nbconvert_exporter": "python",
   "pygments_lexer": "ipython3",
   "version": "3.13.2"
  }
 },
 "nbformat": 4,
 "nbformat_minor": 5
}
