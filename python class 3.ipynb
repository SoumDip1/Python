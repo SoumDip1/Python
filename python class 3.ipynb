{
 "cells": [
  {
   "cell_type": "code",
   "execution_count": null,
   "id": "f18b2b6d-6e41-4e69-bb23-f15c6965617c",
   "metadata": {},
   "outputs": [],
   "source": [
    "# TUPLES"
   ]
  },
  {
   "cell_type": "code",
   "execution_count": 3,
   "id": "b8c9b929-14c4-4fb6-9d55-e7ea1d10097f",
   "metadata": {},
   "outputs": [],
   "source": [
    "x = (1,7,9,5,6,3,3,3,4)"
   ]
  },
  {
   "cell_type": "code",
   "execution_count": 4,
   "id": "e3468679-2664-45cf-894c-243ee48e625f",
   "metadata": {},
   "outputs": [
    {
     "data": {
      "text/plain": [
       "tuple"
      ]
     },
     "execution_count": 4,
     "metadata": {},
     "output_type": "execute_result"
    }
   ],
   "source": [
    "type(x)"
   ]
  },
  {
   "cell_type": "code",
   "execution_count": null,
   "id": "9a31e476-507d-4aa9-b45e-78648d8cb2bb",
   "metadata": {},
   "outputs": [],
   "source": [
    "# the element of the tuples can not be changed so it is non mutable"
   ]
  },
  {
   "cell_type": "code",
   "execution_count": 3,
   "id": "a1105619-a759-4310-bda5-8bf9996d3f87",
   "metadata": {},
   "outputs": [
    {
     "ename": "TypeError",
     "evalue": "'tuple' object does not support item assignment",
     "output_type": "error",
     "traceback": [
      "\u001b[31m---------------------------------------------------------------------------\u001b[39m",
      "\u001b[31mTypeError\u001b[39m                                 Traceback (most recent call last)",
      "\u001b[36mCell\u001b[39m\u001b[36m \u001b[39m\u001b[32mIn[3]\u001b[39m\u001b[32m, line 1\u001b[39m\n\u001b[32m----> \u001b[39m\u001b[32m1\u001b[39m \u001b[43mx\u001b[49m\u001b[43m[\u001b[49m\u001b[32;43m1\u001b[39;49m\u001b[43m]\u001b[49m = \u001b[32m45\u001b[39m\n",
      "\u001b[31mTypeError\u001b[39m: 'tuple' object does not support item assignment"
     ]
    }
   ],
   "source": [
    "x[1] = 45"
   ]
  },
  {
   "cell_type": "code",
   "execution_count": 5,
   "id": "15c30222-fc42-4c95-812c-84529fc8c5b1",
   "metadata": {},
   "outputs": [
    {
     "data": {
      "text/plain": [
       "1"
      ]
     },
     "execution_count": 5,
     "metadata": {},
     "output_type": "execute_result"
    }
   ],
   "source": [
    "x.count(1)"
   ]
  },
  {
   "cell_type": "code",
   "execution_count": 5,
   "id": "78b47683-b16e-478e-909a-24ab984fbedf",
   "metadata": {},
   "outputs": [
    {
     "data": {
      "text/plain": [
       "3"
      ]
     },
     "execution_count": 5,
     "metadata": {},
     "output_type": "execute_result"
    }
   ],
   "source": [
    "x.count(3)"
   ]
  },
  {
   "cell_type": "code",
   "execution_count": 9,
   "id": "a25a3f77-4bfa-413d-a6f7-d233837dea09",
   "metadata": {},
   "outputs": [
    {
     "data": {
      "text/plain": [
       "5"
      ]
     },
     "execution_count": 9,
     "metadata": {},
     "output_type": "execute_result"
    }
   ],
   "source": [
    "x.index(3)"
   ]
  },
  {
   "cell_type": "code",
   "execution_count": 10,
   "id": "3ab5f8c6-2f27-4314-aa45-a70b0901c1fe",
   "metadata": {},
   "outputs": [
    {
     "data": {
      "text/plain": [
       "0"
      ]
     },
     "execution_count": 10,
     "metadata": {},
     "output_type": "execute_result"
    }
   ],
   "source": [
    "x.index(1)"
   ]
  },
  {
   "cell_type": "code",
   "execution_count": null,
   "id": "79b95037-10f6-4f2b-aa52-f32e2f688dc9",
   "metadata": {},
   "outputs": [],
   "source": [
    "# DICTIONARY"
   ]
  },
  {
   "cell_type": "code",
   "execution_count": 8,
   "id": "a35eba6f-c004-4690-b042-ac83e65a5407",
   "metadata": {},
   "outputs": [],
   "source": [
    "Y= { 'A': 23, 'B': 34, 'C': 45 }"
   ]
  },
  {
   "cell_type": "code",
   "execution_count": 9,
   "id": "05e6b24a-dbb4-468a-a78f-fa3cefdda11d",
   "metadata": {},
   "outputs": [
    {
     "data": {
      "text/plain": [
       "dict"
      ]
     },
     "execution_count": 9,
     "metadata": {},
     "output_type": "execute_result"
    }
   ],
   "source": [
    "type(Y)"
   ]
  },
  {
   "cell_type": "code",
   "execution_count": null,
   "id": "5a2a1be5-1ad2-4b7c-a0b1-4de142290ef6",
   "metadata": {},
   "outputs": [],
   "source": [
    "# we can store tuples in dict"
   ]
  },
  {
   "cell_type": "code",
   "execution_count": 20,
   "id": "a974d63a-4412-40cf-8692-e39f6ae0928c",
   "metadata": {},
   "outputs": [],
   "source": [
    "Y= { 'A': 23, 'B': 34, 'C': 45 , (1,2,3,4):'D'}"
   ]
  },
  {
   "cell_type": "code",
   "execution_count": 13,
   "id": "e88ffd1c-d9eb-41bf-89e7-b7053dc17140",
   "metadata": {},
   "outputs": [
    {
     "data": {
      "text/plain": [
       "dict"
      ]
     },
     "execution_count": 13,
     "metadata": {},
     "output_type": "execute_result"
    }
   ],
   "source": [
    "type (Y)"
   ]
  },
  {
   "cell_type": "code",
   "execution_count": null,
   "id": "4a905f79-3661-4c3c-82a1-e59438234136",
   "metadata": {},
   "outputs": [],
   "source": [
    "# but we cant store list inside "
   ]
  },
  {
   "cell_type": "code",
   "execution_count": 19,
   "id": "48ea7f90-8ae7-4565-8f38-9490facedf9a",
   "metadata": {},
   "outputs": [
    {
     "ename": "NameError",
     "evalue": "name 'q' is not defined",
     "output_type": "error",
     "traceback": [
      "\u001b[31m---------------------------------------------------------------------------\u001b[39m",
      "\u001b[31mNameError\u001b[39m                                 Traceback (most recent call last)",
      "\u001b[36mCell\u001b[39m\u001b[36m \u001b[39m\u001b[32mIn[19]\u001b[39m\u001b[32m, line 1\u001b[39m\n\u001b[32m----> \u001b[39m\u001b[32m1\u001b[39m Y= { \u001b[33m'\u001b[39m\u001b[33mA\u001b[39m\u001b[33m'\u001b[39m: \u001b[32m23\u001b[39m, \u001b[33m'\u001b[39m\u001b[33mB\u001b[39m\u001b[33m'\u001b[39m: \u001b[32m34\u001b[39m, \u001b[33m'\u001b[39m\u001b[33mC\u001b[39m\u001b[33m'\u001b[39m: \u001b[32m45\u001b[39m , [\u001b[32m1\u001b[39m,\u001b[32m2\u001b[39m,\u001b[32m3\u001b[39m,\u001b[32m4\u001b[39m]:\u001b[43mq\u001b[49m}\n",
      "\u001b[31mNameError\u001b[39m: name 'q' is not defined"
     ]
    }
   ],
   "source": [
    "Y= { 'A': 23, 'B': 34, 'C': 45 , [1,2,3,4]:q}"
   ]
  },
  {
   "cell_type": "code",
   "execution_count": 18,
   "id": "0ccf3a2c-9f4c-458f-83d6-a9538ef27939",
   "metadata": {},
   "outputs": [
    {
     "data": {
      "text/plain": [
       "dict"
      ]
     },
     "execution_count": 18,
     "metadata": {},
     "output_type": "execute_result"
    }
   ],
   "source": [
    "type (Y)"
   ]
  },
  {
   "cell_type": "code",
   "execution_count": null,
   "id": "3933c136-c0cd-4db7-8de0-defdf6ea1cf1",
   "metadata": {},
   "outputs": [],
   "source": [
    "# NESTED disctionary"
   ]
  },
  {
   "cell_type": "code",
   "execution_count": 5,
   "id": "27e41525-ff8d-4732-af6d-dc4ad6e1536d",
   "metadata": {},
   "outputs": [],
   "source": [
    "students = {\n",
    "    \"Abhay Deol\":{\n",
    "    'marks': 78,\n",
    "    'age': 19,\n",
    "    'status': 'passed'},\n",
    "\n",
    "    \"NIkita Sharma\":{\n",
    "    'marks': 89,\n",
    "    'age': 19,\n",
    "    'status': 'passed'\n",
    "    }\n",
    "}"
   ]
  },
  {
   "cell_type": "code",
   "execution_count": 26,
   "id": "8cd3ff57-8fd0-482c-a0a1-86874af9f6df",
   "metadata": {},
   "outputs": [
    {
     "data": {
      "text/plain": [
       "{'Abhay Deol': {'marks': 78, 'age': 19, 'status': 'passed'},\n",
       " 'NIkita Sharma': {'marks': 89, 'age': 19, 'status': 'passed'}}"
      ]
     },
     "execution_count": 26,
     "metadata": {},
     "output_type": "execute_result"
    }
   ],
   "source": [
    "students"
   ]
  },
  {
   "cell_type": "code",
   "execution_count": 6,
   "id": "14108b8b-3c62-4ba7-96fa-9318ebdfcd65",
   "metadata": {},
   "outputs": [
    {
     "data": {
      "text/plain": [
       "{'marks': 78, 'age': 19, 'status': 'passed'}"
      ]
     },
     "execution_count": 6,
     "metadata": {},
     "output_type": "execute_result"
    }
   ],
   "source": [
    "students[\"Abhay Deol\"]"
   ]
  },
  {
   "cell_type": "code",
   "execution_count": 7,
   "id": "84e0b698-4fee-49d1-8b55-26a0eab841de",
   "metadata": {},
   "outputs": [
    {
     "data": {
      "text/plain": [
       "{'marks': 89, 'age': 19, 'status': 'passed'}"
      ]
     },
     "execution_count": 7,
     "metadata": {},
     "output_type": "execute_result"
    }
   ],
   "source": [
    "students[\"NIkita Sharma\"]"
   ]
  },
  {
   "cell_type": "code",
   "execution_count": 8,
   "id": "d7a4110c-0efc-4181-8a8b-a64f7973112d",
   "metadata": {},
   "outputs": [
    {
     "data": {
      "text/plain": [
       "'passed'"
      ]
     },
     "execution_count": 8,
     "metadata": {},
     "output_type": "execute_result"
    }
   ],
   "source": [
    "students ['Abhay Deol'] ['status']"
   ]
  },
  {
   "cell_type": "code",
   "execution_count": 11,
   "id": "96d2020c-bb00-4538-9d3c-855a2aa1ef3d",
   "metadata": {},
   "outputs": [],
   "source": [
    "Weather_Data = {\n",
    "    'Bangalore':{\n",
    "        'temp': 28,\n",
    "        'condition': \"cloudy\",\n",
    "        'humidity': '65%',\n",
    "        'wind speed': 12},\n",
    "    \n",
    "    'Kolkata':{\n",
    "        'temp': 44,\n",
    "        'condition': \"sunny\",\n",
    "        'humidity':'70%',\n",
    "        'wind speed': 17\n",
    "    }\n",
    "}"
   ]
  },
  {
   "cell_type": "code",
   "execution_count": 12,
   "id": "6b1f39dd-c65b-45a2-a048-2b09442f78c9",
   "metadata": {},
   "outputs": [
    {
     "data": {
      "text/plain": [
       "{'Bangalore': {'temp': 28,\n",
       "  'condition': 'cloudy',\n",
       "  'humidity': '65%',\n",
       "  'wind speed': 12},\n",
       " 'Kolkata': {'temp': 44,\n",
       "  'condition': 'sunny',\n",
       "  'humidity': '70%',\n",
       "  'wind speed': 17}}"
      ]
     },
     "execution_count": 12,
     "metadata": {},
     "output_type": "execute_result"
    }
   ],
   "source": [
    "Weather_Data "
   ]
  },
  {
   "cell_type": "code",
   "execution_count": null,
   "id": "9fbb62bb-2b7e-460b-a813-b974749c7a88",
   "metadata": {},
   "outputs": [],
   "source": [
    "# the average wind speed of both the cities are:"
   ]
  },
  {
   "cell_type": "code",
   "execution_count": 14,
   "id": "d98f231f-12fa-4834-9ca8-daaebcd92bbd",
   "metadata": {},
   "outputs": [
    {
     "data": {
      "text/plain": [
       "14.5"
      ]
     },
     "execution_count": 14,
     "metadata": {},
     "output_type": "execute_result"
    }
   ],
   "source": [
    "(Weather_Data['Bangalore']['wind speed'] + Weather_Data['Kolkata']['wind speed'])/2"
   ]
  },
  {
   "cell_type": "code",
   "execution_count": 48,
   "id": "3a9cab14-2cd9-4309-a11b-afb98c73a657",
   "metadata": {},
   "outputs": [],
   "source": [
    "retail_data = {\n",
    "    \"Product_IDs\": [101, 102, 103, 104],\n",
    "    \"Product_Names\": [\"T-Shirt\", \"Jeans\", \"Shoes\", \"Jacket\"],\n",
    "    \"Prices\": [499, 1299, 1999, 2499],\n",
    "    \"Stock_Quantity\": [50, 30, 20, 15],\n",
    "    \"Categories\": [\"Apparel\", \"Apparel\", \"Footwear\", \"Apparel\"],\n",
    "    \"Is_Available\": [True, True, False, True]\n",
    "}\n"
   ]
  },
  {
   "cell_type": "code",
   "execution_count": 49,
   "id": "9b66cd7d-8423-402a-8c23-8359728b55e4",
   "metadata": {},
   "outputs": [
    {
     "data": {
      "text/plain": [
       "115"
      ]
     },
     "execution_count": 49,
     "metadata": {},
     "output_type": "execute_result"
    }
   ],
   "source": [
    "sum (retail_data [\"Stock_Quantity\"])"
   ]
  },
  {
   "cell_type": "code",
   "execution_count": 50,
   "id": "a0156047-8899-417e-a200-6e61c8bd46f8",
   "metadata": {},
   "outputs": [
    {
     "data": {
      "text/plain": [
       "115"
      ]
     },
     "execution_count": 50,
     "metadata": {},
     "output_type": "execute_result"
    }
   ],
   "source": [
    "retail_data [\"Stock_Quantity\"][0]+retail_data [\"Stock_Quantity\"][1]+retail_data [\"Stock_Quantity\"][2]+retail_data [\"Stock_Quantity\"][3]"
   ]
  },
  {
   "cell_type": "code",
   "execution_count": 51,
   "id": "20a69edf-9e1b-4ea2-a9a0-832e43f53d4d",
   "metadata": {},
   "outputs": [
    {
     "data": {
      "text/plain": [
       "('Shoes', 'Footwear')"
      ]
     },
     "execution_count": 51,
     "metadata": {},
     "output_type": "execute_result"
    }
   ],
   "source": [
    "retail_data ['Product_Names'][2],retail_data['Categories'][2]"
   ]
  },
  {
   "cell_type": "code",
   "execution_count": 27,
   "id": "552372ab-a2e0-407f-be2d-a029bdbb5519",
   "metadata": {},
   "outputs": [],
   "source": [
    "data = {\n",
    "    \"lat\": 33.44,\n",
    "    \"lon\": -94.04,\n",
    "    \"timezone\": \"America/Chicago\",\n",
    "    \"timezone_offset\": -18000,\n",
    "    \"current\": {\n",
    "        \"dt\": 1684929490,\n",
    "        \"sunrise\": 1684926645,\n",
    "        \"sunset\": 1684977332,\n",
    "        \"temp\": 292.55,\n",
    "        \"feels_like\": 292.87,\n",
    "        \"pressure\": 1014,\n",
    "        \"humidity\": 89,\n",
    "        \"dew_point\": 290.69,\n",
    "        \"uvi\": 0.16,\n",
    "        \"clouds\": 53,\n",
    "        \"visibility\": 10000,\n",
    "        \"wind_speed\": 3.13,\n",
    "        \"wind_deg\": 93,\n",
    "        \"wind_gust\": 6.71\n",
    "    }\n",
    "}"
   ]
  },
  {
   "cell_type": "code",
   "execution_count": 30,
   "id": "ee1b8845-e160-4adc-ab0d-33a18811ecc9",
   "metadata": {},
   "outputs": [
    {
     "data": {
      "text/plain": [
       "3.13"
      ]
     },
     "execution_count": 30,
     "metadata": {},
     "output_type": "execute_result"
    }
   ],
   "source": [
    "data['current'] ['wind_speed']"
   ]
  },
  {
   "cell_type": "code",
   "execution_count": 32,
   "id": "d277c27b-867c-4a19-bf9f-9c4ffa675393",
   "metadata": {},
   "outputs": [],
   "source": [
    "retail_data = {\n",
    "    \"Product_IDs\": [101, 102, 103, 104],\n",
    "    \"Product_Names\": [\"T-Shirt\", \"Jeans\", \"Shoes\", \"Jacket\"],\n",
    "    \"Prices\": [499, 1299, 1999, 2499],\n",
    "    \"Stock_Quantity\": [50, 30, 20, 15],\n",
    "    \"Categories\": [\"Apparel\", \"Apparel\", \"Footwear\", \"Apparel\"],\n",
    "    \"Is_Available\": [True, True, False, True]\n",
    "}"
   ]
  },
  {
   "cell_type": "code",
   "execution_count": 34,
   "id": "b649e9c2-26da-42c3-8f88-e3f1c602d29f",
   "metadata": {},
   "outputs": [
    {
     "data": {
      "text/plain": [
       "dict_keys(['Product_IDs', 'Product_Names', 'Prices', 'Stock_Quantity', 'Categories', 'Is_Available'])"
      ]
     },
     "execution_count": 34,
     "metadata": {},
     "output_type": "execute_result"
    }
   ],
   "source": [
    "retail_data.keys()"
   ]
  },
  {
   "cell_type": "code",
   "execution_count": 36,
   "id": "14074085-0edc-480f-b72b-a20bdcdcdf89",
   "metadata": {},
   "outputs": [
    {
     "data": {
      "text/plain": [
       "6"
      ]
     },
     "execution_count": 36,
     "metadata": {},
     "output_type": "execute_result"
    }
   ],
   "source": [
    "len(retail_data)"
   ]
  },
  {
   "cell_type": "code",
   "execution_count": 37,
   "id": "ef0bd183-2633-460d-a166-476644aa3b74",
   "metadata": {},
   "outputs": [
    {
     "data": {
      "text/plain": [
       "dict_values([[101, 102, 103, 104], ['T-Shirt', 'Jeans', 'Shoes', 'Jacket'], [499, 1299, 1999, 2499], [50, 30, 20, 15], ['Apparel', 'Apparel', 'Footwear', 'Apparel'], [True, True, False, True]])"
      ]
     },
     "execution_count": 37,
     "metadata": {},
     "output_type": "execute_result"
    }
   ],
   "source": [
    "retail_data.values()"
   ]
  },
  {
   "cell_type": "code",
   "execution_count": 38,
   "id": "d6789033-86b9-40a6-b678-4c67a86024cd",
   "metadata": {},
   "outputs": [
    {
     "data": {
      "text/plain": [
       "dict_items([('Product_IDs', [101, 102, 103, 104]), ('Product_Names', ['T-Shirt', 'Jeans', 'Shoes', 'Jacket']), ('Prices', [499, 1299, 1999, 2499]), ('Stock_Quantity', [50, 30, 20, 15]), ('Categories', ['Apparel', 'Apparel', 'Footwear', 'Apparel']), ('Is_Available', [True, True, False, True])])"
      ]
     },
     "execution_count": 38,
     "metadata": {},
     "output_type": "execute_result"
    }
   ],
   "source": [
    "retail_data.items()"
   ]
  },
  {
   "cell_type": "code",
   "execution_count": 42,
   "id": "b7ddc3d0-5135-4fd6-beb8-b32d29a88395",
   "metadata": {},
   "outputs": [
    {
     "data": {
      "text/plain": [
       "[('Product_IDs', [101, 102, 103, 104]),\n",
       " ('Product_Names', ['T-Shirt', 'Jeans', 'Shoes', 'Jacket']),\n",
       " ('Prices', [499, 1299, 1999, 2499]),\n",
       " ('Stock_Quantity', [50, 30, 20, 15]),\n",
       " ('Categories', ['Apparel', 'Apparel', 'Footwear', 'Apparel']),\n",
       " ('Is_Available', [True, True, False, True])]"
      ]
     },
     "execution_count": 42,
     "metadata": {},
     "output_type": "execute_result"
    }
   ],
   "source": [
    "list(retail_data.items())"
   ]
  },
  {
   "cell_type": "code",
   "execution_count": 49,
   "id": "cc28ac04-de04-473c-b2e1-e17b29c1a3ef",
   "metadata": {},
   "outputs": [
    {
     "data": {
      "text/plain": [
       "2"
      ]
     },
     "execution_count": 49,
     "metadata": {},
     "output_type": "execute_result"
    }
   ],
   "source": [
    "retail_data ['Product_Names'].index('Shoes')"
   ]
  },
  {
   "cell_type": "code",
   "execution_count": 51,
   "id": "a7266909-faad-4dca-ad1f-b8db97c6cce6",
   "metadata": {},
   "outputs": [
    {
     "data": {
      "text/plain": [
       "['Apparel', 'Apparel', 'Footwear', 'Apparel']"
      ]
     },
     "execution_count": 51,
     "metadata": {},
     "output_type": "execute_result"
    }
   ],
   "source": [
    "retail_data.get('Categories')"
   ]
  },
  {
   "cell_type": "code",
   "execution_count": 52,
   "id": "8179c02f-8386-44db-a28a-d0dbdd955e33",
   "metadata": {},
   "outputs": [
    {
     "data": {
      "text/plain": [
       "['Apparel', 'Apparel', 'Footwear', 'Apparel']"
      ]
     },
     "execution_count": 52,
     "metadata": {},
     "output_type": "execute_result"
    }
   ],
   "source": [
    "retail_data.pop('Categories')"
   ]
  },
  {
   "cell_type": "code",
   "execution_count": 54,
   "id": "8b5e4608-43b9-44bb-ae2e-3b6843e8e4ea",
   "metadata": {},
   "outputs": [],
   "source": [
    "retail_data.clear()"
   ]
  },
  {
   "cell_type": "code",
   "execution_count": 55,
   "id": "5283d9c2-a972-4a33-996d-798bcf6b09dd",
   "metadata": {},
   "outputs": [
    {
     "data": {
      "text/plain": [
       "{}"
      ]
     },
     "execution_count": 55,
     "metadata": {},
     "output_type": "execute_result"
    }
   ],
   "source": [
    "retail_data"
   ]
  },
  {
   "cell_type": "code",
   "execution_count": 58,
   "id": "c807364b-ef70-4751-9e49-ef3c3acbddd4",
   "metadata": {},
   "outputs": [],
   "source": [
    "retail_data = {\n",
    "    \"Product_IDs\": [101, 102, 103, 104],\n",
    "    \"Product_Names\": [\"T-Shirt\", \"Jeans\", \"Shoes\", \"Jacket\"],\n",
    "    \"Prices\": [499, 1299, 1999, 2499],\n",
    "    \"Stock_Quantity\": [50, 30, 20, 15],\n",
    "    \"Categories\": [\"Apparel\", \"Apparel\", \"Footwear\", \"Apparel\"],\n",
    "    \"Is_Available\": [True, True, False, True]\n",
    "}"
   ]
  },
  {
   "cell_type": "code",
   "execution_count": 59,
   "id": "b58d80b1-e0fe-443a-92bd-169aae21c739",
   "metadata": {},
   "outputs": [
    {
     "data": {
      "text/plain": [
       "('Is_Available', [True, True, False, True])"
      ]
     },
     "execution_count": 59,
     "metadata": {},
     "output_type": "execute_result"
    }
   ],
   "source": [
    "retail_data.popitem()"
   ]
  },
  {
   "cell_type": "code",
   "execution_count": 61,
   "id": "7fd6a693-dc9a-4725-9dd9-7f3aff828cae",
   "metadata": {},
   "outputs": [],
   "source": [
    "retail_data.update({\"a\":\"B\"})"
   ]
  },
  {
   "cell_type": "code",
   "execution_count": 62,
   "id": "51630ae5-b97e-4419-b7fb-fc334ffcae70",
   "metadata": {},
   "outputs": [
    {
     "data": {
      "text/plain": [
       "{'Product_IDs': [101, 102, 103, 104],\n",
       " 'Product_Names': ['T-Shirt', 'Jeans', 'Shoes', 'Jacket'],\n",
       " 'Prices': [499, 1299, 1999, 2499],\n",
       " 'Stock_Quantity': [50, 30, 20, 15],\n",
       " 'Categories': ['Apparel', 'Apparel', 'Footwear', 'Apparel'],\n",
       " 'a': 'B'}"
      ]
     },
     "execution_count": 62,
     "metadata": {},
     "output_type": "execute_result"
    }
   ],
   "source": [
    "retail_data"
   ]
  },
  {
   "cell_type": "code",
   "execution_count": 63,
   "id": "6810d535-a9ac-4bea-876e-92fe67014ff7",
   "metadata": {},
   "outputs": [],
   "source": [
    "### SETS"
   ]
  },
  {
   "cell_type": "code",
   "execution_count": 10,
   "id": "7e27ddff-b61c-42b2-9b80-f69ec20d2146",
   "metadata": {},
   "outputs": [],
   "source": [
    "x= {1,2,3,4}"
   ]
  },
  {
   "cell_type": "code",
   "execution_count": 65,
   "id": "e62bc764-e982-4b3c-8d74-fe3ed6f680bb",
   "metadata": {},
   "outputs": [
    {
     "data": {
      "text/plain": [
       "{1, 2, 3, 4}"
      ]
     },
     "execution_count": 65,
     "metadata": {},
     "output_type": "execute_result"
    }
   ],
   "source": [
    "x"
   ]
  },
  {
   "cell_type": "code",
   "execution_count": 2,
   "id": "94ee4d14-334c-4f6f-8772-52b3ede259ab",
   "metadata": {},
   "outputs": [],
   "source": [
    "y= {2,1,3,4,4,6,7,7,7}"
   ]
  },
  {
   "cell_type": "code",
   "execution_count": 67,
   "id": "189572ae-12d1-414d-a0d7-7f8a1601c802",
   "metadata": {},
   "outputs": [
    {
     "data": {
      "text/plain": [
       "{1, 2, 3, 4, 6, 7}"
      ]
     },
     "execution_count": 67,
     "metadata": {},
     "output_type": "execute_result"
    }
   ],
   "source": [
    "y"
   ]
  },
  {
   "cell_type": "code",
   "execution_count": null,
   "id": "805e154d-c470-4545-9dd7-16fcfd062fb2",
   "metadata": {},
   "outputs": [],
   "source": [
    "# sets do not allow duplicates values\n",
    "# sets give the output as ascending order"
   ]
  },
  {
   "cell_type": "code",
   "execution_count": 3,
   "id": "0f1d1820-cd19-46bf-bf7d-717ffb775c03",
   "metadata": {},
   "outputs": [],
   "source": [
    "y.add(\"data\")"
   ]
  },
  {
   "cell_type": "code",
   "execution_count": 4,
   "id": "62be11e2-1bf6-4a7e-bf0d-ac97a869d681",
   "metadata": {},
   "outputs": [
    {
     "data": {
      "text/plain": [
       "{1, 2, 3, 4, 6, 7, 'data'}"
      ]
     },
     "execution_count": 4,
     "metadata": {},
     "output_type": "execute_result"
    }
   ],
   "source": [
    "y"
   ]
  },
  {
   "cell_type": "code",
   "execution_count": null,
   "id": "42220334-0214-46c4-b717-5b5d35e463a7",
   "metadata": {},
   "outputs": [],
   "source": [
    "# so we can store different types of datatype in sets"
   ]
  },
  {
   "cell_type": "code",
   "execution_count": 12,
   "id": "05f7faf3-f278-4260-8a2c-9ebf1e78b97a",
   "metadata": {},
   "outputs": [],
   "source": [
    "x.update([3,4,7.8,'m'])"
   ]
  },
  {
   "cell_type": "code",
   "execution_count": 13,
   "id": "3f3f9bf7-1400-4828-a3f3-c4475c0f8b25",
   "metadata": {},
   "outputs": [
    {
     "data": {
      "text/plain": [
       "{1, 2, 3, 4, 7.8, 'm'}"
      ]
     },
     "execution_count": 13,
     "metadata": {},
     "output_type": "execute_result"
    }
   ],
   "source": [
    "x"
   ]
  },
  {
   "cell_type": "code",
   "execution_count": 14,
   "id": "5471a4f2-0d44-4d70-9281-19b647e1a4a6",
   "metadata": {},
   "outputs": [],
   "source": [
    "x.remove(4)"
   ]
  },
  {
   "cell_type": "code",
   "execution_count": 15,
   "id": "f6be1da9-4c02-4e84-8270-c3ac4a4fad54",
   "metadata": {},
   "outputs": [
    {
     "data": {
      "text/plain": [
       "{1, 2, 3, 7.8, 'm'}"
      ]
     },
     "execution_count": 15,
     "metadata": {},
     "output_type": "execute_result"
    }
   ],
   "source": [
    "x"
   ]
  },
  {
   "cell_type": "code",
   "execution_count": 16,
   "id": "35de9512-cd6a-4d4d-b3c7-ca42bcb400c3",
   "metadata": {},
   "outputs": [],
   "source": [
    "A = {1,2,3,4}\n",
    "B = {4,5,6,7}\n",
    "C = {8,9}"
   ]
  },
  {
   "cell_type": "code",
   "execution_count": 17,
   "id": "dbeed028-8adc-437c-b2cf-94a37c54a9a2",
   "metadata": {},
   "outputs": [
    {
     "data": {
      "text/plain": [
       "{1, 2, 3, 4, 5, 6, 7}"
      ]
     },
     "execution_count": 17,
     "metadata": {},
     "output_type": "execute_result"
    }
   ],
   "source": [
    "A.union(B)"
   ]
  },
  {
   "cell_type": "code",
   "execution_count": 18,
   "id": "1b5c1462-ae2b-425b-a382-2672dc092c3d",
   "metadata": {},
   "outputs": [
    {
     "data": {
      "text/plain": [
       "{4}"
      ]
     },
     "execution_count": 18,
     "metadata": {},
     "output_type": "execute_result"
    }
   ],
   "source": [
    "A.intersection(B)"
   ]
  },
  {
   "cell_type": "code",
   "execution_count": 19,
   "id": "ca8dc169-3f45-48b6-9902-25e3a4f5fe2c",
   "metadata": {},
   "outputs": [
    {
     "data": {
      "text/plain": [
       "{1, 2, 3}"
      ]
     },
     "execution_count": 19,
     "metadata": {},
     "output_type": "execute_result"
    }
   ],
   "source": [
    "A.difference(B)"
   ]
  },
  {
   "cell_type": "code",
   "execution_count": null,
   "id": "6524e14c-6e50-4fe7-ad70-8c5b0a17e139",
   "metadata": {},
   "outputs": [],
   "source": [
    "# SUBSET and SUPERSET"
   ]
  },
  {
   "cell_type": "code",
   "execution_count": 26,
   "id": "54dce181-7d26-4640-ba7e-483da90b0b48",
   "metadata": {},
   "outputs": [],
   "source": [
    "A = {1,2,3,4}\n",
    "B = {3,4,5,6,7}\n",
    "C = {3,4}"
   ]
  },
  {
   "cell_type": "code",
   "execution_count": 27,
   "id": "a394880b-14f9-43ba-95d7-f7f2d85ac322",
   "metadata": {},
   "outputs": [
    {
     "data": {
      "text/plain": [
       "True"
      ]
     },
     "execution_count": 27,
     "metadata": {},
     "output_type": "execute_result"
    }
   ],
   "source": [
    "C.issubset(A)"
   ]
  },
  {
   "cell_type": "code",
   "execution_count": 28,
   "id": "485f9051-68c6-4f8c-840e-56e839275e8c",
   "metadata": {},
   "outputs": [
    {
     "data": {
      "text/plain": [
       "True"
      ]
     },
     "execution_count": 28,
     "metadata": {},
     "output_type": "execute_result"
    }
   ],
   "source": [
    "A.issuperset(C)"
   ]
  },
  {
   "cell_type": "code",
   "execution_count": 29,
   "id": "789a2e16-35c7-47a8-8242-d18d0c5b95f6",
   "metadata": {},
   "outputs": [
    {
     "data": {
      "text/plain": [
       "False"
      ]
     },
     "execution_count": 29,
     "metadata": {},
     "output_type": "execute_result"
    }
   ],
   "source": [
    "A.isdisjoint(C)"
   ]
  },
  {
   "cell_type": "code",
   "execution_count": 45,
   "id": "f936d691-0ac6-4c95-96b3-e4767b97f5be",
   "metadata": {},
   "outputs": [],
   "source": [
    "A = {1,2,3,4}\n",
    "B = {3,4,5,6,7}\n",
    "C = {13,14}"
   ]
  },
  {
   "cell_type": "code",
   "execution_count": 39,
   "id": "651e52dd-6f2e-46a3-b34f-650042b945ef",
   "metadata": {},
   "outputs": [
    {
     "data": {
      "text/plain": [
       "True"
      ]
     },
     "execution_count": 39,
     "metadata": {},
     "output_type": "execute_result"
    }
   ],
   "source": [
    "A.isdisjoint(C)"
   ]
  },
  {
   "cell_type": "code",
   "execution_count": 41,
   "id": "360978c6-5dd3-4d62-8903-98b248b59388",
   "metadata": {},
   "outputs": [
    {
     "data": {
      "text/plain": [
       "{1, 2, 5, 6, 7}"
      ]
     },
     "execution_count": 41,
     "metadata": {},
     "output_type": "execute_result"
    }
   ],
   "source": [
    "A.symmetric_difference(B)"
   ]
  },
  {
   "cell_type": "code",
   "execution_count": 46,
   "id": "cf7e4716-43b5-4def-8aa3-7914ac100d7b",
   "metadata": {},
   "outputs": [],
   "source": [
    "A.symmetric_difference_update(B)"
   ]
  },
  {
   "cell_type": "code",
   "execution_count": 47,
   "id": "8ce8442c-a284-4503-b722-2096eff49d30",
   "metadata": {},
   "outputs": [
    {
     "data": {
      "text/plain": [
       "{1, 2, 5, 6, 7}"
      ]
     },
     "execution_count": 47,
     "metadata": {},
     "output_type": "execute_result"
    }
   ],
   "source": [
    "A"
   ]
  },
  {
   "cell_type": "code",
   "execution_count": null,
   "id": "1feb7685-892d-4b7c-9dc4-b8100cbc308f",
   "metadata": {},
   "outputs": [],
   "source": []
  }
 ],
 "metadata": {
  "kernelspec": {
   "display_name": "Python 3 (ipykernel)",
   "language": "python",
   "name": "python3"
  },
  "language_info": {
   "codemirror_mode": {
    "name": "ipython",
    "version": 3
   },
   "file_extension": ".py",
   "mimetype": "text/x-python",
   "name": "python",
   "nbconvert_exporter": "python",
   "pygments_lexer": "ipython3",
   "version": "3.13.2"
  }
 },
 "nbformat": 4,
 "nbformat_minor": 5
}
