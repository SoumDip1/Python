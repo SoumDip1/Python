{
 "cells": [
  {
   "cell_type": "code",
   "execution_count": 14,
   "id": "f2a46aea-fbe4-4a88-ae39-e722e51f4e3b",
   "metadata": {},
   "outputs": [],
   "source": [
    "import math\n",
    "class Circle:\n",
    "    def __init__ (self,radius):\n",
    "        self.r = radius\n",
    "    def area (self):\n",
    "        return math.pi*self.r*self.r\n",
    "    def perimeter (self):\n",
    "        return math.pi*self.r*2\n",
    "    def diameter (self):\n",
    "        return 2*self.r"
   ]
  },
  {
   "cell_type": "code",
   "execution_count": 15,
   "id": "60c5ee3d-5627-4b75-a43f-fb55fc97fc5a",
   "metadata": {},
   "outputs": [],
   "source": [
    "c1 = Circle(10)"
   ]
  },
  {
   "cell_type": "code",
   "execution_count": 18,
   "id": "11350c09-59db-4a8e-ab37-20b95ab7b642",
   "metadata": {},
   "outputs": [
    {
     "data": {
      "text/plain": [
       "(314.1592653589793, 62.83185307179586, 20)"
      ]
     },
     "execution_count": 18,
     "metadata": {},
     "output_type": "execute_result"
    }
   ],
   "source": [
    "c1.area(), c1.perimeter(), c1.diameter()"
   ]
  },
  {
   "cell_type": "code",
   "execution_count": null,
   "id": "f7ec007e-6f4e-4eb4-9d43-261fd81ea277",
   "metadata": {},
   "outputs": [],
   "source": []
  },
  {
   "cell_type": "code",
   "execution_count": 27,
   "id": "b928554a-b540-44d9-b960-6cf03c2225e3",
   "metadata": {},
   "outputs": [],
   "source": [
    "import pandas as pd\n",
    "\n",
    "class Preprocessing:\n",
    "    def __init__(self, filepath):\n",
    "        self.filepath = filepath\n",
    "        self.df = pd.read_csv(filepath, encoding= 'latin1')  # Store the DataFrame as an attribute\n",
    "\n",
    "    def show(self):\n",
    "        return self.df.head()  # Example method"
   ]
  },
  {
   "cell_type": "code",
   "execution_count": 28,
   "id": "26c4033b-146a-4501-a61f-a86d4194ca98",
   "metadata": {},
   "outputs": [],
   "source": [
    "p1 = Preprocessing(r\"C:\\Users\\dell\\Desktop\\DE CLASSES PYTHON\\Python codes\\DATA SET\\DATA SET 1\\Sample - Superstore.csv\")"
   ]
  },
  {
   "cell_type": "code",
   "execution_count": 29,
   "id": "42f47050-f8c0-481a-b405-55b00a7f8411",
   "metadata": {},
   "outputs": [
    {
     "data": {
      "text/html": [
       "<div>\n",
       "<style scoped>\n",
       "    .dataframe tbody tr th:only-of-type {\n",
       "        vertical-align: middle;\n",
       "    }\n",
       "\n",
       "    .dataframe tbody tr th {\n",
       "        vertical-align: top;\n",
       "    }\n",
       "\n",
       "    .dataframe thead th {\n",
       "        text-align: right;\n",
       "    }\n",
       "</style>\n",
       "<table border=\"1\" class=\"dataframe\">\n",
       "  <thead>\n",
       "    <tr style=\"text-align: right;\">\n",
       "      <th></th>\n",
       "      <th>Row ID</th>\n",
       "      <th>Order ID</th>\n",
       "      <th>Order Date</th>\n",
       "      <th>Ship Date</th>\n",
       "      <th>Ship Mode</th>\n",
       "      <th>Customer ID</th>\n",
       "      <th>Customer Name</th>\n",
       "      <th>Segment</th>\n",
       "      <th>Country</th>\n",
       "      <th>City</th>\n",
       "      <th>...</th>\n",
       "      <th>Postal Code</th>\n",
       "      <th>Region</th>\n",
       "      <th>Product ID</th>\n",
       "      <th>Category</th>\n",
       "      <th>Sub-Category</th>\n",
       "      <th>Product Name</th>\n",
       "      <th>Sales</th>\n",
       "      <th>Quantity</th>\n",
       "      <th>Discount</th>\n",
       "      <th>Profit</th>\n",
       "    </tr>\n",
       "  </thead>\n",
       "  <tbody>\n",
       "    <tr>\n",
       "      <th>0</th>\n",
       "      <td>1</td>\n",
       "      <td>CA-2016-152156</td>\n",
       "      <td>08-11-2016</td>\n",
       "      <td>11-11-2016</td>\n",
       "      <td>Second Class</td>\n",
       "      <td>CG-12520</td>\n",
       "      <td>Claire Gute</td>\n",
       "      <td>Consumer</td>\n",
       "      <td>United States</td>\n",
       "      <td>Henderson</td>\n",
       "      <td>...</td>\n",
       "      <td>42420</td>\n",
       "      <td>South</td>\n",
       "      <td>FUR-BO-10001798</td>\n",
       "      <td>Furniture</td>\n",
       "      <td>Bookcases</td>\n",
       "      <td>Bush Somerset Collection Bookcase</td>\n",
       "      <td>261.9600</td>\n",
       "      <td>2</td>\n",
       "      <td>0.00</td>\n",
       "      <td>41.9136</td>\n",
       "    </tr>\n",
       "    <tr>\n",
       "      <th>1</th>\n",
       "      <td>2</td>\n",
       "      <td>CA-2016-152156</td>\n",
       "      <td>08-11-2016</td>\n",
       "      <td>11-11-2016</td>\n",
       "      <td>Second Class</td>\n",
       "      <td>CG-12520</td>\n",
       "      <td>Claire Gute</td>\n",
       "      <td>Consumer</td>\n",
       "      <td>United States</td>\n",
       "      <td>Henderson</td>\n",
       "      <td>...</td>\n",
       "      <td>42420</td>\n",
       "      <td>South</td>\n",
       "      <td>FUR-CH-10000454</td>\n",
       "      <td>Furniture</td>\n",
       "      <td>Chairs</td>\n",
       "      <td>Hon Deluxe Fabric Upholstered Stacking Chairs,...</td>\n",
       "      <td>731.9400</td>\n",
       "      <td>3</td>\n",
       "      <td>0.00</td>\n",
       "      <td>219.5820</td>\n",
       "    </tr>\n",
       "    <tr>\n",
       "      <th>2</th>\n",
       "      <td>3</td>\n",
       "      <td>CA-2016-138688</td>\n",
       "      <td>12-06-2016</td>\n",
       "      <td>16-06-2016</td>\n",
       "      <td>Second Class</td>\n",
       "      <td>DV-13045</td>\n",
       "      <td>Darrin Van Huff</td>\n",
       "      <td>Corporate</td>\n",
       "      <td>United States</td>\n",
       "      <td>Los Angeles</td>\n",
       "      <td>...</td>\n",
       "      <td>90036</td>\n",
       "      <td>West</td>\n",
       "      <td>OFF-LA-10000240</td>\n",
       "      <td>Office Supplies</td>\n",
       "      <td>Labels</td>\n",
       "      <td>Self-Adhesive Address Labels for Typewriters b...</td>\n",
       "      <td>14.6200</td>\n",
       "      <td>2</td>\n",
       "      <td>0.00</td>\n",
       "      <td>6.8714</td>\n",
       "    </tr>\n",
       "    <tr>\n",
       "      <th>3</th>\n",
       "      <td>4</td>\n",
       "      <td>US-2015-108966</td>\n",
       "      <td>11-10-2015</td>\n",
       "      <td>18-10-2015</td>\n",
       "      <td>Standard Class</td>\n",
       "      <td>SO-20335</td>\n",
       "      <td>Sean O'Donnell</td>\n",
       "      <td>Consumer</td>\n",
       "      <td>United States</td>\n",
       "      <td>Fort Lauderdale</td>\n",
       "      <td>...</td>\n",
       "      <td>33311</td>\n",
       "      <td>South</td>\n",
       "      <td>FUR-TA-10000577</td>\n",
       "      <td>Furniture</td>\n",
       "      <td>Tables</td>\n",
       "      <td>Bretford CR4500 Series Slim Rectangular Table</td>\n",
       "      <td>957.5775</td>\n",
       "      <td>5</td>\n",
       "      <td>0.45</td>\n",
       "      <td>-383.0310</td>\n",
       "    </tr>\n",
       "    <tr>\n",
       "      <th>4</th>\n",
       "      <td>5</td>\n",
       "      <td>US-2015-108966</td>\n",
       "      <td>11-10-2015</td>\n",
       "      <td>18-10-2015</td>\n",
       "      <td>Standard Class</td>\n",
       "      <td>SO-20335</td>\n",
       "      <td>Sean O'Donnell</td>\n",
       "      <td>Consumer</td>\n",
       "      <td>United States</td>\n",
       "      <td>Fort Lauderdale</td>\n",
       "      <td>...</td>\n",
       "      <td>33311</td>\n",
       "      <td>South</td>\n",
       "      <td>OFF-ST-10000760</td>\n",
       "      <td>Office Supplies</td>\n",
       "      <td>Storage</td>\n",
       "      <td>Eldon Fold 'N Roll Cart System</td>\n",
       "      <td>22.3680</td>\n",
       "      <td>2</td>\n",
       "      <td>0.20</td>\n",
       "      <td>2.5164</td>\n",
       "    </tr>\n",
       "  </tbody>\n",
       "</table>\n",
       "<p>5 rows × 21 columns</p>\n",
       "</div>"
      ],
      "text/plain": [
       "   Row ID        Order ID  Order Date   Ship Date       Ship Mode Customer ID  \\\n",
       "0       1  CA-2016-152156  08-11-2016  11-11-2016    Second Class    CG-12520   \n",
       "1       2  CA-2016-152156  08-11-2016  11-11-2016    Second Class    CG-12520   \n",
       "2       3  CA-2016-138688  12-06-2016  16-06-2016    Second Class    DV-13045   \n",
       "3       4  US-2015-108966  11-10-2015  18-10-2015  Standard Class    SO-20335   \n",
       "4       5  US-2015-108966  11-10-2015  18-10-2015  Standard Class    SO-20335   \n",
       "\n",
       "     Customer Name    Segment        Country             City  ...  \\\n",
       "0      Claire Gute   Consumer  United States        Henderson  ...   \n",
       "1      Claire Gute   Consumer  United States        Henderson  ...   \n",
       "2  Darrin Van Huff  Corporate  United States      Los Angeles  ...   \n",
       "3   Sean O'Donnell   Consumer  United States  Fort Lauderdale  ...   \n",
       "4   Sean O'Donnell   Consumer  United States  Fort Lauderdale  ...   \n",
       "\n",
       "  Postal Code  Region       Product ID         Category Sub-Category  \\\n",
       "0       42420   South  FUR-BO-10001798        Furniture    Bookcases   \n",
       "1       42420   South  FUR-CH-10000454        Furniture       Chairs   \n",
       "2       90036    West  OFF-LA-10000240  Office Supplies       Labels   \n",
       "3       33311   South  FUR-TA-10000577        Furniture       Tables   \n",
       "4       33311   South  OFF-ST-10000760  Office Supplies      Storage   \n",
       "\n",
       "                                        Product Name     Sales  Quantity  \\\n",
       "0                  Bush Somerset Collection Bookcase  261.9600         2   \n",
       "1  Hon Deluxe Fabric Upholstered Stacking Chairs,...  731.9400         3   \n",
       "2  Self-Adhesive Address Labels for Typewriters b...   14.6200         2   \n",
       "3      Bretford CR4500 Series Slim Rectangular Table  957.5775         5   \n",
       "4                     Eldon Fold 'N Roll Cart System   22.3680         2   \n",
       "\n",
       "   Discount    Profit  \n",
       "0      0.00   41.9136  \n",
       "1      0.00  219.5820  \n",
       "2      0.00    6.8714  \n",
       "3      0.45 -383.0310  \n",
       "4      0.20    2.5164  \n",
       "\n",
       "[5 rows x 21 columns]"
      ]
     },
     "execution_count": 29,
     "metadata": {},
     "output_type": "execute_result"
    }
   ],
   "source": [
    "p1.show()"
   ]
  },
  {
   "cell_type": "code",
   "execution_count": 32,
   "id": "d8bfab49-d1e0-4da8-a84d-da5bb641e984",
   "metadata": {},
   "outputs": [],
   "source": [
    "## SINGLE INHERITANCE\n",
    "\n",
    "class Arithmatic:\n",
    "    def add(self,a,b):\n",
    "        return a+b\n",
    "\n",
    "class ExtendedArithmatic(Arithmatic):\n",
    "    def multiply(self,a,b):\n",
    "        return a*b"
   ]
  },
  {
   "cell_type": "code",
   "execution_count": 33,
   "id": "1f774316-89f5-4cb3-9b59-2406afdefb05",
   "metadata": {},
   "outputs": [],
   "source": [
    "a1= ExtendedArithmatic()"
   ]
  },
  {
   "cell_type": "code",
   "execution_count": 34,
   "id": "8818befd-c1a3-416c-acfe-d10179837960",
   "metadata": {},
   "outputs": [
    {
     "data": {
      "text/plain": [
       "39"
      ]
     },
     "execution_count": 34,
     "metadata": {},
     "output_type": "execute_result"
    }
   ],
   "source": [
    "a1.add(10,29)"
   ]
  },
  {
   "cell_type": "code",
   "execution_count": 35,
   "id": "3b2040ca-5e7c-43a5-be88-087e6f3419b4",
   "metadata": {},
   "outputs": [
    {
     "data": {
      "text/plain": [
       "890"
      ]
     },
     "execution_count": 35,
     "metadata": {},
     "output_type": "execute_result"
    }
   ],
   "source": [
    "a1.multiply(10,89)"
   ]
  },
  {
   "cell_type": "code",
   "execution_count": null,
   "id": "03da47ca-8e57-46d4-a106-ed3d317042b9",
   "metadata": {},
   "outputs": [],
   "source": []
  },
  {
   "cell_type": "code",
   "execution_count": 53,
   "id": "b106d5c5-8eb0-4e4f-89ab-ac134d30b2d1",
   "metadata": {},
   "outputs": [],
   "source": [
    "## MULTILEVEL INHERITANCE\n",
    "\n",
    "import math\n",
    "class shape:\n",
    "    def __init__(self, radius):\n",
    "        self.r=radius\n",
    "class perimeter(shape):\n",
    "    def perimeter(self):\n",
    "        return math.pi*self.r*2\n",
    "class area(perimeter):\n",
    "    def area(self):\n",
    "        return math.pi*self.r*self.r\n",
    "class CircleDetails(area):\n",
    "    def display(self):\n",
    "        print(\"Radius:\", self.r)\n",
    "        print(\"Area:\", self.area())\n",
    "        print(\"Perimeter:\", self.perimeter())"
   ]
  },
  {
   "cell_type": "code",
   "execution_count": 54,
   "id": "39d699a4-c018-43bf-ab8b-5461f4a91a75",
   "metadata": {},
   "outputs": [],
   "source": [
    "a1 = CircleDetails(20)\n"
   ]
  },
  {
   "cell_type": "code",
   "execution_count": 55,
   "id": "c4c8c251-15fe-4a21-a60b-1e14378c1641",
   "metadata": {},
   "outputs": [
    {
     "data": {
      "text/plain": [
       "1256.6370614359173"
      ]
     },
     "execution_count": 55,
     "metadata": {},
     "output_type": "execute_result"
    }
   ],
   "source": [
    "a1.area()"
   ]
  },
  {
   "cell_type": "code",
   "execution_count": 56,
   "id": "b348efb2-a210-427e-ae38-536d312d7acb",
   "metadata": {},
   "outputs": [
    {
     "data": {
      "text/plain": [
       "125.66370614359172"
      ]
     },
     "execution_count": 56,
     "metadata": {},
     "output_type": "execute_result"
    }
   ],
   "source": [
    "a1.perimeter()"
   ]
  },
  {
   "cell_type": "code",
   "execution_count": 64,
   "id": "f5f46c7b-6857-44a0-858c-9060a89e18d6",
   "metadata": {},
   "outputs": [],
   "source": [
    "## HEIRARCHICAL INHERITANCE\n",
    "\n",
    "class Shape:\n",
    "    def __init__(self, radius):\n",
    "        self.r = radius\n",
    "class Area(Shape):\n",
    "    def area(self):\n",
    "        return math.pi * self.r * self.r\n",
    "class Perimeter(Shape):\n",
    "    def perimeter(self):\n",
    "        return math.pi * self.r * 2\n"
   ]
  },
  {
   "cell_type": "code",
   "execution_count": 68,
   "id": "e2795427-8ceb-43a8-89a2-2d4a1b60d45f",
   "metadata": {},
   "outputs": [
    {
     "data": {
      "text/plain": [
       "314.1592653589793"
      ]
     },
     "execution_count": 68,
     "metadata": {},
     "output_type": "execute_result"
    }
   ],
   "source": [
    "a1 = area(10)\n",
    "a1.area()"
   ]
  },
  {
   "cell_type": "code",
   "execution_count": 66,
   "id": "c5e6a8fa-33f9-4c70-9e82-16863745b212",
   "metadata": {},
   "outputs": [
    {
     "data": {
      "text/plain": [
       "62.83185307179586"
      ]
     },
     "execution_count": 66,
     "metadata": {},
     "output_type": "execute_result"
    }
   ],
   "source": [
    "p1 = perimeter(10)\n",
    "p1.perimeter()"
   ]
  },
  {
   "cell_type": "code",
   "execution_count": null,
   "id": "4c8195f0-82e5-4f4f-be04-f85d9477b87f",
   "metadata": {},
   "outputs": [],
   "source": [
    "## HYBRID INHERITANCE\n",
    "\n",
    "class A:\n",
    "    def display(self):\n",
    "        return \"A\"\n",
    "class B(A):\n",
    "    def display(self):\n",
    "        return \"B\"\n",
    "class C(A):\n",
    "    def display(self):\n",
    "        return \"C\"\n",
    "class D(B,C):\n",
    "    def display(self):\n",
    "        return \"D\""
   ]
  },
  {
   "cell_type": "code",
   "execution_count": 74,
   "id": "cdfeac48-2384-4d31-b336-6e4186e1157e",
   "metadata": {},
   "outputs": [],
   "source": [
    "d = display()"
   ]
  },
  {
   "cell_type": "code",
   "execution_count": 1,
   "id": "dd36f7b5-8624-4846-9cad-e67dca4a7266",
   "metadata": {},
   "outputs": [
    {
     "ename": "NameError",
     "evalue": "name 'd' is not defined",
     "output_type": "error",
     "traceback": [
      "\u001b[31m---------------------------------------------------------------------------\u001b[39m",
      "\u001b[31mNameError\u001b[39m                                 Traceback (most recent call last)",
      "\u001b[36mCell\u001b[39m\u001b[36m \u001b[39m\u001b[32mIn[1]\u001b[39m\u001b[32m, line 1\u001b[39m\n\u001b[32m----> \u001b[39m\u001b[32m1\u001b[39m \u001b[38;5;28mprint\u001b[39m(\u001b[43md\u001b[49m.display())\n",
      "\u001b[31mNameError\u001b[39m: name 'd' is not defined"
     ]
    }
   ],
   "source": [
    "print(d.display())"
   ]
  },
  {
   "cell_type": "code",
   "execution_count": null,
   "id": "380695ff-d6fc-4aff-8758-a76b1abe4b58",
   "metadata": {},
   "outputs": [],
   "source": []
  },
  {
   "cell_type": "code",
   "execution_count": null,
   "id": "08353200-0f5c-4afa-82a5-18b4f4c365b9",
   "metadata": {},
   "outputs": [],
   "source": []
  },
  {
   "cell_type": "code",
   "execution_count": null,
   "id": "bcbe6312-4199-484a-9eba-096d8694d65a",
   "metadata": {},
   "outputs": [],
   "source": []
  },
  {
   "cell_type": "code",
   "execution_count": null,
   "id": "4d2c5760-fa3f-4293-ae5e-c8d02c272d7b",
   "metadata": {},
   "outputs": [],
   "source": []
  },
  {
   "cell_type": "code",
   "execution_count": null,
   "id": "4cf18a57-6d08-49a4-bbad-058cb420e0e2",
   "metadata": {},
   "outputs": [],
   "source": []
  },
  {
   "cell_type": "code",
   "execution_count": null,
   "id": "aefa477c-fdaa-4388-8ac6-f82b6249d626",
   "metadata": {},
   "outputs": [],
   "source": []
  },
  {
   "cell_type": "code",
   "execution_count": null,
   "id": "f93594e4-9870-495a-86ed-f95093de0978",
   "metadata": {},
   "outputs": [],
   "source": []
  },
  {
   "cell_type": "code",
   "execution_count": null,
   "id": "f0eb7af0-53c0-4aa8-aa26-f62545b2de35",
   "metadata": {},
   "outputs": [],
   "source": []
  },
  {
   "cell_type": "code",
   "execution_count": null,
   "id": "bc7969ce-eb35-4164-9ed1-9c958210dd36",
   "metadata": {},
   "outputs": [],
   "source": []
  },
  {
   "cell_type": "code",
   "execution_count": null,
   "id": "056d6989-d137-4240-995b-0afaed109078",
   "metadata": {},
   "outputs": [],
   "source": []
  },
  {
   "cell_type": "code",
   "execution_count": null,
   "id": "524441c4-7f2c-43db-9664-ded2caabf6e0",
   "metadata": {},
   "outputs": [],
   "source": []
  },
  {
   "cell_type": "code",
   "execution_count": null,
   "id": "2fd5ad5d-5447-42fd-8100-dd685aaa8c01",
   "metadata": {},
   "outputs": [],
   "source": []
  },
  {
   "cell_type": "code",
   "execution_count": null,
   "id": "97d2958f-c805-491a-bdb8-95bee9209cb4",
   "metadata": {},
   "outputs": [],
   "source": []
  },
  {
   "cell_type": "code",
   "execution_count": null,
   "id": "20a0dcd2-2eca-4723-99a5-41a6a369f65e",
   "metadata": {},
   "outputs": [],
   "source": []
  },
  {
   "cell_type": "code",
   "execution_count": null,
   "id": "2456a91c-ac3c-4846-94a2-081ac345ee0e",
   "metadata": {},
   "outputs": [],
   "source": []
  },
  {
   "cell_type": "code",
   "execution_count": null,
   "id": "55e0434d-9d63-40ef-9903-b4cf2e911af5",
   "metadata": {},
   "outputs": [],
   "source": []
  },
  {
   "cell_type": "code",
   "execution_count": null,
   "id": "719cff28-851a-4440-a7e6-ec8505491c44",
   "metadata": {},
   "outputs": [],
   "source": []
  },
  {
   "cell_type": "code",
   "execution_count": null,
   "id": "4176a9aa-9c5d-45e9-8fa8-fc9a78181653",
   "metadata": {},
   "outputs": [],
   "source": []
  },
  {
   "cell_type": "code",
   "execution_count": null,
   "id": "1e9015f8-31c1-4baa-827f-a806ff666e3f",
   "metadata": {},
   "outputs": [],
   "source": []
  },
  {
   "cell_type": "code",
   "execution_count": null,
   "id": "c771d21a-221e-4152-86e1-93f4d70f3ec4",
   "metadata": {},
   "outputs": [],
   "source": []
  },
  {
   "cell_type": "code",
   "execution_count": null,
   "id": "be4fc0e4-061c-4a98-820f-5b69718aeb6c",
   "metadata": {},
   "outputs": [],
   "source": []
  },
  {
   "cell_type": "code",
   "execution_count": null,
   "id": "a9e7102b-3281-4daf-aa0a-1b20077e44d0",
   "metadata": {},
   "outputs": [],
   "source": []
  },
  {
   "cell_type": "code",
   "execution_count": null,
   "id": "67fe8e8a-2fcf-4636-9263-c77cb493f2ef",
   "metadata": {},
   "outputs": [],
   "source": []
  },
  {
   "cell_type": "code",
   "execution_count": null,
   "id": "4ee0ba97-2262-4e13-a959-b5df20aa77c1",
   "metadata": {},
   "outputs": [],
   "source": []
  },
  {
   "cell_type": "code",
   "execution_count": null,
   "id": "48f82afd-f7d4-4a1f-82e8-23010f30692c",
   "metadata": {},
   "outputs": [],
   "source": []
  },
  {
   "cell_type": "code",
   "execution_count": null,
   "id": "ea70c371-ec4e-492f-a89b-d57182eb0031",
   "metadata": {},
   "outputs": [],
   "source": []
  },
  {
   "cell_type": "code",
   "execution_count": null,
   "id": "d09b9e84-acba-4815-aec5-93ccf65c3edc",
   "metadata": {},
   "outputs": [],
   "source": []
  },
  {
   "cell_type": "code",
   "execution_count": null,
   "id": "3e465476-1a80-4302-b222-ecb062755002",
   "metadata": {},
   "outputs": [],
   "source": []
  },
  {
   "cell_type": "code",
   "execution_count": null,
   "id": "5bc0d709-ce93-426b-82ea-897f4203c558",
   "metadata": {},
   "outputs": [],
   "source": []
  },
  {
   "cell_type": "code",
   "execution_count": null,
   "id": "27b00c7e-39e7-4679-88cf-2638d483053b",
   "metadata": {},
   "outputs": [],
   "source": []
  },
  {
   "cell_type": "code",
   "execution_count": null,
   "id": "1d21e7aa-5d20-42f1-913c-217382e1a9c4",
   "metadata": {},
   "outputs": [],
   "source": []
  },
  {
   "cell_type": "code",
   "execution_count": null,
   "id": "1beed18d-9c88-4f6e-9696-62b382b84e3b",
   "metadata": {},
   "outputs": [],
   "source": []
  },
  {
   "cell_type": "code",
   "execution_count": null,
   "id": "72b5d863-d190-43f4-818b-57fb828afe45",
   "metadata": {},
   "outputs": [],
   "source": []
  },
  {
   "cell_type": "code",
   "execution_count": null,
   "id": "da2532fa-a939-430d-8b53-596f22703b1c",
   "metadata": {},
   "outputs": [],
   "source": []
  },
  {
   "cell_type": "code",
   "execution_count": null,
   "id": "308c7504-5aff-4589-bfa0-2c0496c888db",
   "metadata": {},
   "outputs": [],
   "source": []
  },
  {
   "cell_type": "code",
   "execution_count": null,
   "id": "4c8cdeb9-45f9-479c-a373-954ad7cc8964",
   "metadata": {},
   "outputs": [],
   "source": []
  },
  {
   "cell_type": "code",
   "execution_count": null,
   "id": "1cbc409f-2f75-4f44-8818-1897221fad35",
   "metadata": {},
   "outputs": [],
   "source": []
  },
  {
   "cell_type": "code",
   "execution_count": null,
   "id": "3c26e6c7-6ed2-4878-ad63-98295dd83405",
   "metadata": {},
   "outputs": [],
   "source": []
  },
  {
   "cell_type": "code",
   "execution_count": null,
   "id": "39cac811-12fa-40db-a868-578d9a016e66",
   "metadata": {},
   "outputs": [],
   "source": []
  },
  {
   "cell_type": "code",
   "execution_count": null,
   "id": "40cf7d65-e1f7-4f5b-b209-3420dffa6457",
   "metadata": {},
   "outputs": [],
   "source": []
  },
  {
   "cell_type": "code",
   "execution_count": null,
   "id": "81f1c18c-d70f-493d-a42c-6a8d58e98e1a",
   "metadata": {},
   "outputs": [],
   "source": []
  },
  {
   "cell_type": "code",
   "execution_count": null,
   "id": "49dc4a42-eae4-4e56-b395-b458f4c46a5d",
   "metadata": {},
   "outputs": [],
   "source": []
  },
  {
   "cell_type": "code",
   "execution_count": null,
   "id": "814d063b-4859-4e0f-b84f-6281512e56df",
   "metadata": {},
   "outputs": [],
   "source": []
  },
  {
   "cell_type": "code",
   "execution_count": null,
   "id": "ef4fed76-0919-4151-b205-f954a82605cb",
   "metadata": {},
   "outputs": [],
   "source": []
  },
  {
   "cell_type": "code",
   "execution_count": null,
   "id": "4be402a2-4f58-41c9-bd30-43cc2b1d3121",
   "metadata": {},
   "outputs": [],
   "source": []
  },
  {
   "cell_type": "code",
   "execution_count": null,
   "id": "ab173c55-471d-427a-8604-3a31cf46bb6b",
   "metadata": {},
   "outputs": [],
   "source": []
  }
 ],
 "metadata": {
  "kernelspec": {
   "display_name": "Python 3 (ipykernel)",
   "language": "python",
   "name": "python3"
  },
  "language_info": {
   "codemirror_mode": {
    "name": "ipython",
    "version": 3
   },
   "file_extension": ".py",
   "mimetype": "text/x-python",
   "name": "python",
   "nbconvert_exporter": "python",
   "pygments_lexer": "ipython3",
   "version": "3.13.2"
  }
 },
 "nbformat": 4,
 "nbformat_minor": 5
}
