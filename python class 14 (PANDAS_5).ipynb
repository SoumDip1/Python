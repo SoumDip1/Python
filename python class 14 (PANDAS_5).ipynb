{
 "cells": [
  {
   "cell_type": "markdown",
   "id": "08d214c0-9057-45dc-ac2e-80d5c292a21d",
   "metadata": {},
   "source": [
    "# PACKAGES FOR DRAWING GRAPHS IN PYTHON\n",
    "1.PANDAS IN-BUILT GRAPHS\n",
    "2.matplotlib\n",
    "3.seaborn\n",
    "4.plotly : interactive graohs(integrate with web apps like html, .net)\n",
    "5.stramlit"
   ]
  },
  {
   "cell_type": "code",
   "execution_count": 9,
   "id": "87b6eacc-2392-4f36-b8bf-748c52574f6a",
   "metadata": {},
   "outputs": [
    {
     "data": {
      "text/plain": [
       "<Axes: >"
      ]
     },
     "execution_count": 9,
     "metadata": {},
     "output_type": "execute_result"
    },
    {
     "data": {
      "image/png": "[encoded data removed]",
      "text/plain": [
       "<Figure size 640x480 with 2 Axes>"
      ]
     },
     "metadata": {},
     "output_type": "display_data"
    }
   ],
   "source": [
    "import seaborn as sns\n",
    "import numpy as np\n",
    "sns.heatmap(np.random.randint(0,100,(5,5)),annot=True)"
   ]
  },
  {
   "cell_type": "code",
   "execution_count": 6,
   "id": "083005b6-70a0-40d6-8c4e-a1f32b8e2b2a",
   "metadata": {},
   "outputs": [],
   "source": [
    "import numpy as np\n",
    "df = np.random.randint(0,10,(5,5))\n",
    "df= df.astype(float)"
   ]
  },
  {
   "cell_type": "code",
   "execution_count": 11,
   "id": "88619850-1af6-4963-a5ab-28c61ce76936",
   "metadata": {},
   "outputs": [],
   "source": [
    "df[0:2,0:2]=np.nan"
   ]
  },
  {
   "cell_type": "code",
   "execution_count": 12,
   "id": "3c6c4d35-4b2d-4703-9421-40eb0b2a765e",
   "metadata": {},
   "outputs": [
    {
     "data": {
      "text/plain": [
       "<Axes: >"
      ]
     },
     "execution_count": 12,
     "metadata": {},
     "output_type": "execute_result"
    },
    {
     "data": {
      "image/png": "[encoded data removed]",
      "text/plain": [
       "<Figure size 640x480 with 2 Axes>"
      ]
     },
     "metadata": {},
     "output_type": "display_data"
    }
   ],
   "source": [
    "sns.heatmap(df)"
   ]
  },
  {
   "cell_type": "code",
   "execution_count": null,
   "id": "aedf227d-77d1-42a6-93bd-35645e58051b",
   "metadata": {},
   "outputs": [],
   "source": []
  },
  {
   "cell_type": "code",
   "execution_count": null,
   "id": "5a751f30-c42a-4ad7-b9d9-5668734e276b",
   "metadata": {},
   "outputs": [],
   "source": []
  },
  {
   "cell_type": "code",
   "execution_count": null,
   "id": "0bdbb521-7510-4eea-a412-2bd68cee1531",
   "metadata": {},
   "outputs": [],
   "source": []
  },
  {
   "cell_type": "code",
   "execution_count": null,
   "id": "bb45923c-d19d-4d76-b611-ebc5b2700949",
   "metadata": {},
   "outputs": [],
   "source": []
  },
  {
   "cell_type": "code",
   "execution_count": null,
   "id": "dec3de5c-bf7e-45b7-9a90-5f46039575d3",
   "metadata": {},
   "outputs": [],
   "source": []
  },
  {
   "cell_type": "code",
   "execution_count": null,
   "id": "171581a9-4477-4f83-93da-7ae712218134",
   "metadata": {},
   "outputs": [],
   "source": []
  },
  {
   "cell_type": "code",
   "execution_count": null,
   "id": "23b07699-3aa8-458e-a82c-46b82aaf3591",
   "metadata": {},
   "outputs": [],
   "source": []
  },
  {
   "cell_type": "code",
   "execution_count": null,
   "id": "9ec405c9-4adc-4810-b6c4-ea683131f29f",
   "metadata": {},
   "outputs": [],
   "source": []
  },
  {
   "cell_type": "code",
   "execution_count": null,
   "id": "f5193317-c45e-4e9b-8831-9f6d86f283cc",
   "metadata": {},
   "outputs": [],
   "source": []
  },
  {
   "cell_type": "code",
   "execution_count": null,
   "id": "c368c58f-77bb-4469-80e9-1849c9d9dca2",
   "metadata": {},
   "outputs": [],
   "source": []
  },
  {
   "cell_type": "code",
   "execution_count": null,
   "id": "ff32b0f4-7261-4f64-be29-543b461efab2",
   "metadata": {},
   "outputs": [],
   "source": []
  },
  {
   "cell_type": "code",
   "execution_count": null,
   "id": "35f8a8f2-d6cd-4467-bc81-9a85e1a31075",
   "metadata": {},
   "outputs": [],
   "source": []
  },
  {
   "cell_type": "code",
   "execution_count": null,
   "id": "db5b5fd1-1877-497f-8526-42812fbc5d41",
   "metadata": {},
   "outputs": [],
   "source": []
  },
  {
   "cell_type": "code",
   "execution_count": null,
   "id": "cbc45d57-1b34-4849-9371-65877b87e681",
   "metadata": {},
   "outputs": [],
   "source": []
  },
  {
   "cell_type": "code",
   "execution_count": null,
   "id": "86a7e292-c063-4491-a3a7-9fca5c4f9cf3",
   "metadata": {},
   "outputs": [],
   "source": []
  },
  {
   "cell_type": "code",
   "execution_count": null,
   "id": "42fa906a-9de8-408f-9a16-ec52e30e833c",
   "metadata": {},
   "outputs": [],
   "source": []
  },
  {
   "cell_type": "code",
   "execution_count": null,
   "id": "9d88dc9d-952c-4961-bb31-e26d027876cd",
   "metadata": {},
   "outputs": [],
   "source": []
  },
  {
   "cell_type": "code",
   "execution_count": null,
   "id": "5a7341e7-94f3-4d7e-8b40-1a79ed9f59d0",
   "metadata": {},
   "outputs": [],
   "source": []
  },
  {
   "cell_type": "code",
   "execution_count": null,
   "id": "9925941d-87d4-44d4-99f6-636a1d0c0022",
   "metadata": {},
   "outputs": [],
   "source": []
  },
  {
   "cell_type": "code",
   "execution_count": null,
   "id": "50219c54-c2be-47ac-88d6-feea3465d358",
   "metadata": {},
   "outputs": [],
   "source": []
  },
  {
   "cell_type": "code",
   "execution_count": null,
   "id": "913eb057-7b7a-405c-8614-1b07f7060d45",
   "metadata": {},
   "outputs": [],
   "source": []
  },
  {
   "cell_type": "code",
   "execution_count": null,
   "id": "b94acce7-d647-4ecf-81c8-359016853991",
   "metadata": {},
   "outputs": [],
   "source": []
  },
  {
   "cell_type": "code",
   "execution_count": null,
   "id": "f165a056-e1ca-430d-956d-b2525d377b7d",
   "metadata": {},
   "outputs": [],
   "source": []
  },
  {
   "cell_type": "code",
   "execution_count": null,
   "id": "a08847c2-b0fe-457a-9047-41ff9782017b",
   "metadata": {},
   "outputs": [],
   "source": []
  },
  {
   "cell_type": "code",
   "execution_count": null,
   "id": "156b1787-d20f-4764-92d3-ccd2bd4d2dad",
   "metadata": {},
   "outputs": [],
   "source": []
  },
  {
   "cell_type": "code",
   "execution_count": null,
   "id": "46b7e869-cd51-40ef-9d27-328509b438b2",
   "metadata": {},
   "outputs": [],
   "source": []
  },
  {
   "cell_type": "code",
   "execution_count": null,
   "id": "eb2554cb-4637-43c8-a3d1-63c91d6fe6ee",
   "metadata": {},
   "outputs": [],
   "source": []
  },
  {
   "cell_type": "code",
   "execution_count": null,
   "id": "7b76e390-908a-4850-ad12-b678d7f586e3",
   "metadata": {},
   "outputs": [],
   "source": []
  },
  {
   "cell_type": "code",
   "execution_count": null,
   "id": "e21271c4-70fc-44ee-9cf8-cfd4ce718237",
   "metadata": {},
   "outputs": [],
   "source": []
  },
  {
   "cell_type": "code",
   "execution_count": null,
   "id": "6e7413f5-fa94-488b-86ea-aa144b65ab19",
   "metadata": {},
   "outputs": [],
   "source": []
  },
  {
   "cell_type": "code",
   "execution_count": null,
   "id": "ea9d3165-346a-4bcb-a995-cebebc47a97a",
   "metadata": {},
   "outputs": [],
   "source": []
  },
  {
   "cell_type": "code",
   "execution_count": null,
   "id": "1e7e2936-1ea9-4eaa-9d06-102d9daa2b26",
   "metadata": {},
   "outputs": [],
   "source": []
  },
  {
   "cell_type": "code",
   "execution_count": null,
   "id": "734487b5-0a1d-4613-9376-748d60f784c5",
   "metadata": {},
   "outputs": [],
   "source": []
  },
  {
   "cell_type": "code",
   "execution_count": null,
   "id": "7ebc9158-8681-4ffe-a76f-9135a62342ae",
   "metadata": {},
   "outputs": [],
   "source": []
  },
  {
   "cell_type": "code",
   "execution_count": null,
   "id": "7dcfb8c0-c527-4a37-bdbe-59e51bcaf863",
   "metadata": {},
   "outputs": [],
   "source": []
  },
  {
   "cell_type": "code",
   "execution_count": null,
   "id": "3ffbc218-cbb9-4cca-a199-b0ba249a6fd0",
   "metadata": {},
   "outputs": [],
   "source": []
  },
  {
   "cell_type": "code",
   "execution_count": null,
   "id": "0324bf73-50ad-4a65-8700-86e36f2ce8e4",
   "metadata": {},
   "outputs": [],
   "source": []
  },
  {
   "cell_type": "code",
   "execution_count": null,
   "id": "7a7f89b1-1ff2-4adc-b9e5-fd963e2c0044",
   "metadata": {},
   "outputs": [],
   "source": []
  },
  {
   "cell_type": "code",
   "execution_count": null,
   "id": "671bfda6-a8ca-4942-a319-faa36049f1d0",
   "metadata": {},
   "outputs": [],
   "source": []
  },
  {
   "cell_type": "code",
   "execution_count": null,
   "id": "a3b64dcf-1e32-4118-9cd9-4ba049bfde19",
   "metadata": {},
   "outputs": [],
   "source": []
  },
  {
   "cell_type": "code",
   "execution_count": null,
   "id": "c124c02c-9a4e-48b3-8296-c8d4be359ac1",
   "metadata": {},
   "outputs": [],
   "source": []
  },
  {
   "cell_type": "code",
   "execution_count": null,
   "id": "2fc51692-b1b0-4171-812d-d9190f35dd37",
   "metadata": {},
   "outputs": [],
   "source": []
  },
  {
   "cell_type": "code",
   "execution_count": null,
   "id": "0abb61b4-d262-4704-a205-fac36287baf0",
   "metadata": {},
   "outputs": [],
   "source": []
  },
  {
   "cell_type": "code",
   "execution_count": null,
   "id": "bd87dc20-6a7d-407d-8353-21377397e413",
   "metadata": {},
   "outputs": [],
   "source": []
  }
 ],
 "metadata": {
  "kernelspec": {
   "display_name": "Python 3 (ipykernel)",
   "language": "python",
   "name": "python3"
  },
  "language_info": {
   "codemirror_mode": {
    "name": "ipython",
    "version": 3
   },
   "file_extension": ".py",
   "mimetype": "text/x-python",
   "name": "python",
   "nbconvert_exporter": "python",
   "pygments_lexer": "ipython3",
   "version": "3.13.2"
  }
 },
 "nbformat": 4,
 "nbformat_minor": 5
}
