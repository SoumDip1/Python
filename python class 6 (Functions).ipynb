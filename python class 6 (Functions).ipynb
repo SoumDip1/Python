{
 "cells": [
  {
   "cell_type": "code",
   "execution_count": null,
   "id": "d20d2d8f-e5fa-4823-9e6f-d5f5cf9bd61e",
   "metadata": {},
   "outputs": [],
   "source": [
    "#### FUNCTIONS"
   ]
  },
  {
   "cell_type": "code",
   "execution_count": 1,
   "id": "f884fe98-bcff-440e-8d04-631d1b9b1d09",
   "metadata": {},
   "outputs": [],
   "source": [
    "# this way we can declare a function (def stands for define)\n",
    "def add():\n",
    "    print (\"test\")"
   ]
  },
  {
   "cell_type": "code",
   "execution_count": 2,
   "id": "f110ada6-f3f2-41dc-bef0-fc0b28d2111e",
   "metadata": {},
   "outputs": [
    {
     "name": "stdout",
     "output_type": "stream",
     "text": [
      "test\n"
     ]
    }
   ],
   "source": [
    "add()"
   ]
  },
  {
   "cell_type": "code",
   "execution_count": 11,
   "id": "6bf28897-0908-49e5-a64d-e1ab4b824093",
   "metadata": {},
   "outputs": [],
   "source": [
    "# generalize function\n",
    "def operation(x,y):\n",
    "    print (x*y)\n",
    "    print (x+y)\n",
    "    print (x-y)"
   ]
  },
  {
   "cell_type": "code",
   "execution_count": 7,
   "id": "985dc678-c1ce-4ddb-abf8-d14be9fffa5c",
   "metadata": {},
   "outputs": [
    {
     "name": "stdout",
     "output_type": "stream",
     "text": [
      "6\n",
      "5\n",
      "-1\n"
     ]
    }
   ],
   "source": [
    "operation (2,3)"
   ]
  },
  {
   "cell_type": "code",
   "execution_count": 13,
   "id": "ab06370e-4203-49b7-b5b1-357d47a5afc2",
   "metadata": {},
   "outputs": [],
   "source": [
    "def operation(x,y):\n",
    "    print (x*y)"
   ]
  },
  {
   "cell_type": "code",
   "execution_count": 14,
   "id": "b8d214d0-679d-4a45-abc8-b3a6a58105e9",
   "metadata": {},
   "outputs": [
    {
     "name": "stdout",
     "output_type": "stream",
     "text": [
      "datadata\n"
     ]
    }
   ],
   "source": [
    "operation (2, \"data\")"
   ]
  },
  {
   "cell_type": "code",
   "execution_count": 19,
   "id": "89e8211f-5896-41e0-8272-43d95d0db060",
   "metadata": {},
   "outputs": [],
   "source": [
    "def greater (x,y):\n",
    "    if x>y:\n",
    "        print (\"true\")\n",
    "    else:\n",
    "        print (\"false\")"
   ]
  },
  {
   "cell_type": "code",
   "execution_count": 26,
   "id": "5cd4481a-fa49-4345-8884-2b84b08b2866",
   "metadata": {},
   "outputs": [
    {
     "name": "stdout",
     "output_type": "stream",
     "text": [
      "false\n",
      "true\n"
     ]
    }
   ],
   "source": [
    "greater (10,20)\n",
    "greater (100,11)"
   ]
  },
  {
   "cell_type": "code",
   "execution_count": null,
   "id": "dd29ae09-dcd6-4a85-98f8-7907201d52cc",
   "metadata": {},
   "outputs": [],
   "source": [
    "# fundamental difference between PRINT and RETURN is \n",
    "print will display the value where return will store the value"
   ]
  },
  {
   "cell_type": "code",
   "execution_count": 1,
   "id": "6e6ad39a-be39-4b9b-9448-d2e0be5bf60e",
   "metadata": {},
   "outputs": [],
   "source": [
    "def add (x,y):\n",
    "    print (x+y)"
   ]
  },
  {
   "cell_type": "code",
   "execution_count": 2,
   "id": "74dabe61-dafe-41e9-b0aa-a75a20325f7e",
   "metadata": {},
   "outputs": [
    {
     "name": "stdout",
     "output_type": "stream",
     "text": [
      "30\n"
     ]
    }
   ],
   "source": [
    "var= add(10,20)"
   ]
  },
  {
   "cell_type": "code",
   "execution_count": 12,
   "id": "953ba1e8-df38-4fc9-a5d6-d38750c7a9d2",
   "metadata": {},
   "outputs": [
    {
     "data": {
      "text/plain": [
       "30"
      ]
     },
     "execution_count": 12,
     "metadata": {},
     "output_type": "execute_result"
    }
   ],
   "source": [
    "var #var is getting called but it has not stored the value"
   ]
  },
  {
   "cell_type": "code",
   "execution_count": 7,
   "id": "5ca99262-e826-4d1a-af2a-2ed6672b93d3",
   "metadata": {},
   "outputs": [],
   "source": [
    "def add1 (x,y):\n",
    "    return (x+y)"
   ]
  },
  {
   "cell_type": "code",
   "execution_count": 9,
   "id": "09c78d09-83f6-4082-86e3-ccce82c6b74c",
   "metadata": {},
   "outputs": [],
   "source": [
    "var= add1 (10,20)"
   ]
  },
  {
   "cell_type": "code",
   "execution_count": 11,
   "id": "6b67d129-9b6c-4b50-807f-e383fe476a51",
   "metadata": {},
   "outputs": [
    {
     "data": {
      "text/plain": [
       "30"
      ]
     },
     "execution_count": 11,
     "metadata": {},
     "output_type": "execute_result"
    }
   ],
   "source": [
    "var # here the output is stored in var thats why we have called var and got the output"
   ]
  },
  {
   "cell_type": "code",
   "execution_count": 21,
   "id": "a25eff7b-53f8-40d4-bd51-231a6d93c5c4",
   "metadata": {},
   "outputs": [],
   "source": [
    "# 2nd cenario (here PRINT is called ahead of RETURN thats why the output is displaying and also got stored in VAR)\n",
    "def add (x,y):\n",
    "    print (x+y)\n",
    "    return (x+y)"
   ]
  },
  {
   "cell_type": "code",
   "execution_count": 24,
   "id": "8e1d8585-93e7-430a-9b06-dcef4b3c432d",
   "metadata": {},
   "outputs": [
    {
     "data": {
      "text/plain": [
       "30"
      ]
     },
     "execution_count": 24,
     "metadata": {},
     "output_type": "execute_result"
    }
   ],
   "source": [
    "var= add (10,20)\n",
    "var"
   ]
  },
  {
   "cell_type": "code",
   "execution_count": 22,
   "id": "7c298158-7e98-453d-8475-1dda44c88e5c",
   "metadata": {},
   "outputs": [],
   "source": [
    "# 3rd cenario (here RETURN is called ahead of PRINT thats why it is not diplaying the the output only storing inside VAR)\n",
    "# AFTER RETURN STATEMENT NO OTHER STATEMENT WILL GET EXECUTED\n",
    "def add (x,y):\n",
    "    return (x+y)\n",
    "    print (x+y)"
   ]
  },
  {
   "cell_type": "code",
   "execution_count": 23,
   "id": "e2c7a12e-b349-4c17-8b5c-0cba6dbc0c92",
   "metadata": {},
   "outputs": [
    {
     "data": {
      "text/plain": [
       "30"
      ]
     },
     "execution_count": 23,
     "metadata": {},
     "output_type": "execute_result"
    }
   ],
   "source": [
    "var= add (10,20)\n",
    "var"
   ]
  },
  {
   "cell_type": "code",
   "execution_count": 35,
   "id": "271f71c3-0764-4791-a0df-835ca3596026",
   "metadata": {},
   "outputs": [],
   "source": [
    "# count the occurence of letters in the string \"DATA\"\n",
    "def check (x):\n",
    "    for i in list(set(x)):\n",
    "        print (i,x.count(i))\n"
   ]
  },
  {
   "cell_type": "code",
   "execution_count": 36,
   "id": "310d7998-a144-4793-9067-b8d072fa99d8",
   "metadata": {},
   "outputs": [
    {
     "name": "stdout",
     "output_type": "stream",
     "text": [
      "t 1\n",
      "d 1\n",
      "a 2\n"
     ]
    }
   ],
   "source": [
    "check (\"data\")"
   ]
  },
  {
   "cell_type": "code",
   "execution_count": 32,
   "id": "f2178246-d9e6-4d43-a8c9-c35ff12a701d",
   "metadata": {},
   "outputs": [
    {
     "name": "stdout",
     "output_type": "stream",
     "text": [
      "e 2\n",
      "a 2\n",
      "t 1\n",
      "c 2\n",
      "d 1\n",
      "i 1\n",
      "n 1\n",
      "  1\n",
      "s 1\n"
     ]
    }
   ],
   "source": [
    "check ('data science')"
   ]
  },
  {
   "cell_type": "code",
   "execution_count": 38,
   "id": "f2b09a50-43fb-469f-aa83-110fb0b56bfe",
   "metadata": {},
   "outputs": [],
   "source": [
    "# if We need to ignore the space then the code will be like below\n",
    "def check (x):\n",
    "    for i in list(set(x)):\n",
    "        if i.isalpha():\n",
    "            print (i,x.count(i))"
   ]
  },
  {
   "cell_type": "code",
   "execution_count": 39,
   "id": "a13624e9-b38a-46f4-9c4d-53546decb8b1",
   "metadata": {},
   "outputs": [
    {
     "name": "stdout",
     "output_type": "stream",
     "text": [
      "e 2\n",
      "a 2\n",
      "t 1\n",
      "c 2\n",
      "d 1\n",
      "i 1\n",
      "n 1\n",
      "s 1\n"
     ]
    }
   ],
   "source": [
    "check ('data science')"
   ]
  },
  {
   "cell_type": "code",
   "execution_count": 49,
   "id": "40a4a2d5-e149-43c2-a6f1-8a1254a863ab",
   "metadata": {},
   "outputs": [],
   "source": [
    "# build a list of unique characters from the string \"data\"\n",
    "\n",
    "unique=[]\n",
    "for i in \"data\":\n",
    "    if i not in unique:\n",
    "        unique.append(i)"
   ]
  },
  {
   "cell_type": "code",
   "execution_count": 50,
   "id": "b5aa629c-fc2f-41eb-9039-53146e6ab036",
   "metadata": {},
   "outputs": [
    {
     "data": {
      "text/plain": [
       "['d', 'a', 't']"
      ]
     },
     "execution_count": 50,
     "metadata": {},
     "output_type": "execute_result"
    }
   ],
   "source": [
    " unique"
   ]
  },
  {
   "cell_type": "code",
   "execution_count": 75,
   "id": "230b30d9-b10d-4729-a2f3-dbff51a47b41",
   "metadata": {},
   "outputs": [],
   "source": [
    "# build a dict of unique characters from the string \"xyz\"\n",
    "def count_char(x):\n",
    "    d={}\n",
    "    for i in x:\n",
    "        if i in d:\n",
    "            d[i]=d[i]+1\n",
    "        else:\n",
    "            d[i]=1\n",
    "    return d"
   ]
  },
  {
   "cell_type": "code",
   "execution_count": 81,
   "id": "5e13eb33-bc80-4723-99d1-25dc848e1244",
   "metadata": {},
   "outputs": [
    {
     "data": {
      "text/plain": [
       "{'d': 1, 'a': 1, 't': 1, 'A': 1}"
      ]
     },
     "execution_count": 81,
     "metadata": {},
     "output_type": "execute_result"
    }
   ],
   "source": [
    "count_char(\"datA\")"
   ]
  },
  {
   "cell_type": "code",
   "execution_count": 82,
   "id": "5f7915fd-1cf4-42f6-a351-d82116ae729b",
   "metadata": {},
   "outputs": [
    {
     "data": {
      "text/plain": [
       "{'d': 1, 'a': 2, 't': 1, ' ': 1, 's': 1, 'c': 2, 'i': 1, 'e': 2, 'n': 1}"
      ]
     },
     "execution_count": 82,
     "metadata": {},
     "output_type": "execute_result"
    }
   ],
   "source": [
    "count_char(\"data science\")"
   ]
  },
  {
   "cell_type": "code",
   "execution_count": 108,
   "id": "f4edaae2-0db6-4684-9fe1-48bae6995906",
   "metadata": {},
   "outputs": [],
   "source": [
    "# build a dict of unique characters from the string \"xyz\" but it should consider upper and lower as same character\n",
    "\n",
    "def count_char(x):\n",
    "    d={}\n",
    "    for i in x:\n",
    "        i=i.lower()\n",
    "        if i in d:\n",
    "            d[i]=d[i]+1\n",
    "        else:\n",
    "            d[i]=1\n",
    "    return d"
   ]
  },
  {
   "cell_type": "code",
   "execution_count": 110,
   "id": "97e3b8f2-e311-4072-b23f-b35fa1654fee",
   "metadata": {},
   "outputs": [
    {
     "data": {
      "text/plain": [
       "{'d': 3, 'a': 2, 't': 1}"
      ]
     },
     "execution_count": 110,
     "metadata": {},
     "output_type": "execute_result"
    }
   ],
   "source": [
    "count_char (\"DATAdd\")"
   ]
  },
  {
   "cell_type": "code",
   "execution_count": 111,
   "id": "51d519d1-6a3c-45e8-b0fb-f8f35d91dceb",
   "metadata": {},
   "outputs": [],
   "source": [
    "# alternative\n",
    "\n",
    "def count_char(x):\n",
    "    d={}\n",
    "    for i in x.lower():\n",
    "        if i in d:\n",
    "            d[i]=d[i]+1\n",
    "        else:\n",
    "            d[i]=1\n",
    "    return d"
   ]
  },
  {
   "cell_type": "code",
   "execution_count": 112,
   "id": "92f995f9-ee7c-488c-b3e7-d369581eeb67",
   "metadata": {},
   "outputs": [
    {
     "data": {
      "text/plain": [
       "{'d': 3, 'a': 2, 't': 1}"
      ]
     },
     "execution_count": 112,
     "metadata": {},
     "output_type": "execute_result"
    }
   ],
   "source": [
    "count_char (\"DATAdd\")"
   ]
  },
  {
   "cell_type": "code",
   "execution_count": 6,
   "id": "a4119577-c39f-4aec-a5ab-6dd872f7356f",
   "metadata": {},
   "outputs": [],
   "source": [
    "# Find the length, number of words, numbers of small case, number of upper case, number of numeric and number of special char\n",
    "\n",
    "data= '''Haier 328 L, 3 Star, Convertible 10-in-1, \n",
    "Triple Inverter & Dual Fan Motor Technology,\n",
    "Frost Free Double Door Refrigerator (HEF-333TS-P, Inox Steel)'''"
   ]
  },
  {
   "cell_type": "code",
   "execution_count": 7,
   "id": "6162af0d-9fc9-4743-af46-c6df6f08d8bf",
   "metadata": {},
   "outputs": [
    {
     "data": {
      "text/plain": [
       "'Haier 328 L, 3 Star, Convertible 10-in-1, \\nTriple Inverter & Dual Fan Motor Technology,\\nFrost Free Double Door Refrigerator (HEF-333TS-P, Inox Steel)'"
      ]
     },
     "execution_count": 7,
     "metadata": {},
     "output_type": "execute_result"
    }
   ],
   "source": [
    "data"
   ]
  },
  {
   "cell_type": "code",
   "execution_count": 21,
   "id": "f459eeec-e2be-437b-962b-e0765cd310ab",
   "metadata": {},
   "outputs": [],
   "source": [
    "\n",
    "def analyze(x):\n",
    "    length = len(x)\n",
    "    numbers_of_words = len(x.split())\n",
    "    small_count = 0\n",
    "    caps_count= 0\n",
    "    num_count= 0\n",
    "    special_char_count= 0\n",
    "    for i in x:\n",
    "        if i.isalpha() and i.islower():\n",
    "            small_count += 1\n",
    "        elif i.isalpha() and i.isupper():\n",
    "            caps_count += 1\n",
    "        elif i.isnumeric():\n",
    "            num_count += 1\n",
    "        else:\n",
    "            special_char_count += 1\n",
    "        \n",
    "    return [length,numbers_of_words,small_count,caps_count,num_count, special_char_count]"
   ]
  },
  {
   "cell_type": "code",
   "execution_count": 22,
   "id": "59d170ab-3437-49a5-beae-ad75fabf5980",
   "metadata": {},
   "outputs": [
    {
     "data": {
      "text/plain": [
       "[149, 22, 82, 23, 10, 34]"
      ]
     },
     "execution_count": 22,
     "metadata": {},
     "output_type": "execute_result"
    }
   ],
   "source": [
    "analyze(data)"
   ]
  },
  {
   "cell_type": "code",
   "execution_count": 39,
   "id": "6b228c8a-4df2-42d9-bc28-e233c1a07e8c",
   "metadata": {},
   "outputs": [],
   "source": [
    "AC_specs= '''[25 January 2022\n",
    "Manufacturer,\n",
    "\n",
    "Daikin airconditioning India Pvt. Ltd., 210, 1st Floor, Okhla Industrial Area, Phase 3, Delhi 110020, Daikin airconditioning India Pvt. Ltd., 210, 1st Floor, Okhla Industrial Area, Phase 3, Delhi 110020\n",
    "Packer\tDaikin airconditioning India Pvt. Ltd., 210, 1st Floor, Okhla Industrial Area, Phase 3, Delhi 110020\n",
    "Importer,\n",
    "\n",
    "\n",
    "Daikin airconditioning India Pvt. Ltd., 210, 1st Floor, Okhla Industrial Area, Phase 3, Delhi 110020\n",
    "Item Weight\t36 kg,\n",
    "\n",
    "Item Dimensions LxWxH\t80 x 22.9 x 29.8 Centimeters\n",
    "Net Quantity\t1 count\n",
    "Generic Name\tSplit airconditioner]'''"
   ]
  },
  {
   "cell_type": "code",
   "execution_count": 37,
   "id": "09f6d186-5928-4bfa-a2cf-aa2fcbf36378",
   "metadata": {},
   "outputs": [
    {
     "data": {
      "text/plain": [
       "'25 January 2022\\nManufacturer\\n\\nDaikin airconditioning India Pvt. Ltd., 210, 1st Floor, Okhla Industrial Area, Phase 3, Delhi 110020, Daikin airconditioning India Pvt. Ltd., 210, 1st Floor, Okhla Industrial Area, Phase 3, Delhi 110020\\nPacker\\tDaikin airconditioning India Pvt. Ltd., 210, 1st Floor, Okhla Industrial Area, Phase 3, Delhi 110020\\nImporter\\n\\n\\nDaikin airconditioning India Pvt. Ltd., 210, 1st Floor, Okhla Industrial Area, Phase 3, Delhi 110020\\nItem Weight\\t36 kg\\n\\nItem Dimensions LxWxH\\t80 x 22.9 x 29.8 Centimeters\\nNet Quantity\\t1 count\\nGeneric Name\\tSplit airconditioner'"
      ]
     },
     "execution_count": 37,
     "metadata": {},
     "output_type": "execute_result"
    }
   ],
   "source": [
    "AC_specs"
   ]
  },
  {
   "cell_type": "code",
   "execution_count": 40,
   "id": "40b0a5e1-b7a3-4f31-a78d-57422c23a92c",
   "metadata": {},
   "outputs": [
    {
     "data": {
      "text/plain": [
       "[582, 87, 338, 57, 61, 126]"
      ]
     },
     "execution_count": 40,
     "metadata": {},
     "output_type": "execute_result"
    }
   ],
   "source": [
    "analyze(AC_specs)"
   ]
  },
  {
   "cell_type": "code",
   "execution_count": null,
   "id": "44456b56-c97e-450e-b080-c45a3613cea3",
   "metadata": {},
   "outputs": [],
   "source": [
    "# NESTED FUNCTION"
   ]
  },
  {
   "cell_type": "code",
   "execution_count": 45,
   "id": "4c574270-4597-42b3-aa2d-3090b6d8e2d0",
   "metadata": {},
   "outputs": [],
   "source": [
    "def func1(x):\n",
    "    print(\"function 1\")\n",
    "    def func2():\n",
    "        print(\"function 2\")\n",
    "    def func3():\n",
    "        print(\"function 3\")\n",
    "    if x==10:\n",
    "        func2()\n",
    "    else:\n",
    "        func3()"
   ]
  },
  {
   "cell_type": "code",
   "execution_count": 46,
   "id": "dcb7150a-004f-44ce-ba93-f6ad8af75c49",
   "metadata": {},
   "outputs": [
    {
     "name": "stdout",
     "output_type": "stream",
     "text": [
      "function 1\n",
      "function 2\n"
     ]
    }
   ],
   "source": [
    "func1(10)"
   ]
  },
  {
   "cell_type": "code",
   "execution_count": 49,
   "id": "98b45027-c903-429d-ab71-0ef8e2de45de",
   "metadata": {},
   "outputs": [
    {
     "name": "stdout",
     "output_type": "stream",
     "text": [
      "function 1\n",
      "function 3\n"
     ]
    }
   ],
   "source": [
    "func1(12)"
   ]
  },
  {
   "cell_type": "code",
   "execution_count": 52,
   "id": "bec63c1b-5c9a-4bb9-9ffb-08d02554b3da",
   "metadata": {},
   "outputs": [],
   "source": [
    "# GLOBAL VARIABLE \n",
    "\n",
    "x=10        #here the variable is declared outside of the function \n",
    "def function():\n",
    "    print (x)"
   ]
  },
  {
   "cell_type": "code",
   "execution_count": 53,
   "id": "f17391ac-0f55-4df2-bc22-45b4ed93f113",
   "metadata": {},
   "outputs": [
    {
     "name": "stdout",
     "output_type": "stream",
     "text": [
      "10\n"
     ]
    }
   ],
   "source": [
    "function()"
   ]
  },
  {
   "cell_type": "code",
   "execution_count": 56,
   "id": "5ff20bdc-d0db-4069-b836-73784c332532",
   "metadata": {},
   "outputs": [],
   "source": [
    "# LOCAL VARIABLE\n",
    "\n",
    "x=10              #here the variable is declared outside of the function \n",
    "def function():\n",
    "    x = \"data\"    #here the variable is declared inside of the function\n",
    "    print (x)     #but here it will return the variable inside of the function because it will get prioritized"
   ]
  },
  {
   "cell_type": "code",
   "execution_count": 55,
   "id": "2837c609-2787-4d4f-b066-a2ecbdc48a21",
   "metadata": {},
   "outputs": [
    {
     "name": "stdout",
     "output_type": "stream",
     "text": [
      "data\n"
     ]
    }
   ],
   "source": [
    "function()"
   ]
  },
  {
   "cell_type": "code",
   "execution_count": null,
   "id": "e82de235-1480-4c8e-b233-5abcdd94f0dd",
   "metadata": {},
   "outputs": [],
   "source": []
  },
  {
   "cell_type": "code",
   "execution_count": null,
   "id": "e3d511c8-08f0-4d97-86b6-e2b824e3f3f5",
   "metadata": {},
   "outputs": [],
   "source": []
  }
 ],
 "metadata": {
  "kernelspec": {
   "display_name": "Python 3 (ipykernel)",
   "language": "python",
   "name": "python3"
  },
  "language_info": {
   "codemirror_mode": {
    "name": "ipython",
    "version": 3
   },
   "file_extension": ".py",
   "mimetype": "text/x-python",
   "name": "python",
   "nbconvert_exporter": "python",
   "pygments_lexer": "ipython3",
   "version": "3.13.2"
  }
 },
 "nbformat": 4,
 "nbformat_minor": 5
}
