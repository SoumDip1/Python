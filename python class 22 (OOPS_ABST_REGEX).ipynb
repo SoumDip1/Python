{
 "cells": [
  {
   "cell_type": "markdown",
   "id": "306d4637-d314-499a-9a20-87489a111866",
   "metadata": {},
   "source": [
    "# ABSTRACTION"
   ]
  },
  {
   "cell_type": "code",
   "execution_count": null,
   "id": "7c759adc-0afd-4e95-8288-4dac41a89209",
   "metadata": {},
   "outputs": [],
   "source": []
  },
  {
   "cell_type": "code",
   "execution_count": 5,
   "id": "e1ca3fa1-e942-4275-95ce-dc966ebf2a46",
   "metadata": {},
   "outputs": [],
   "source": [
    "from abc import ABC,abstractmethod\n",
    "\n",
    "class vehicle(ABC):\n",
    "    @abstractmethod\n",
    "    def start_engine(self):\n",
    "        pass\n",
    "class car(vehicle):\n",
    "    def start_engine(self):\n",
    "        print (\"Car Started\")\n",
    "class bike(vehicle):\n",
    "    def start_engine(self):\n",
    "        print (\"Bike Started\")"
   ]
  },
  {
   "cell_type": "code",
   "execution_count": 6,
   "id": "2ac41a59-ee2b-431d-8223-de80bdd94c52",
   "metadata": {},
   "outputs": [
    {
     "name": "stdout",
     "output_type": "stream",
     "text": [
      "Car Started\n"
     ]
    }
   ],
   "source": [
    "v1 = car()\n",
    "v1.start_engine()"
   ]
  },
  {
   "cell_type": "code",
   "execution_count": 7,
   "id": "42e02678-0954-45f0-984f-a56dcadad05e",
   "metadata": {},
   "outputs": [
    {
     "name": "stdout",
     "output_type": "stream",
     "text": [
      "Bike Started\n"
     ]
    }
   ],
   "source": [
    "v2 = bike()\n",
    "v2.start_engine()"
   ]
  },
  {
   "cell_type": "markdown",
   "id": "f9e9417a-0c06-4793-ab4a-e217318d0746",
   "metadata": {},
   "source": [
    "# SUPER Class"
   ]
  },
  {
   "cell_type": "code",
   "execution_count": null,
   "id": "d2e31317-734a-4c27-9b40-747c7b14b14a",
   "metadata": {},
   "outputs": [],
   "source": []
  },
  {
   "cell_type": "code",
   "execution_count": 17,
   "id": "228e99df-c053-47b8-b752-d4eb13df1d27",
   "metadata": {},
   "outputs": [],
   "source": [
    "class person:\n",
    "    def __init__(self,name):\n",
    "        self.name = name\n",
    "        print (\"test\")\n",
    "class student(person):\n",
    "    def __init__(self,name, student_id):\n",
    "        super().__init__(name)\n",
    "        self.student_id = student_id\n",
    "        print (\"test2\")"
   ]
  },
  {
   "cell_type": "code",
   "execution_count": 18,
   "id": "f87f20d4-2f4a-4675-9817-b79d5f34eb57",
   "metadata": {},
   "outputs": [
    {
     "name": "stdout",
     "output_type": "stream",
     "text": [
      "test\n",
      "test2\n"
     ]
    }
   ],
   "source": [
    "s = student(\"Abhaay\",100)"
   ]
  },
  {
   "cell_type": "code",
   "execution_count": null,
   "id": "fb99624e-1bfd-4edd-9573-02cccc798810",
   "metadata": {},
   "outputs": [],
   "source": []
  },
  {
   "cell_type": "code",
   "execution_count": null,
   "id": "b0f02013-cd3b-4432-8bfd-5ffdbcd2a486",
   "metadata": {},
   "outputs": [],
   "source": []
  },
  {
   "cell_type": "markdown",
   "id": "5abf0819-2efc-4335-8d20-f7641aaf2ecb",
   "metadata": {},
   "source": [
    "## REGEX"
   ]
  },
  {
   "cell_type": "code",
   "execution_count": 5,
   "id": "4f2f49fe-952d-4a4e-a62b-9d4dd965b972",
   "metadata": {},
   "outputs": [],
   "source": [
    "import regex as re"
   ]
  },
  {
   "cell_type": "markdown",
   "id": "208bc497-a235-4585-bcf3-f3c7c19a7f5b",
   "metadata": {},
   "source": [
    "## SETS"
   ]
  },
  {
   "cell_type": "code",
   "execution_count": 11,
   "id": "5f25c4a0-7de6-42cb-8491-9cd6679f7a52",
   "metadata": {},
   "outputs": [
    {
     "data": {
      "text/plain": [
       "['5', '5']"
      ]
     },
     "execution_count": 11,
     "metadata": {},
     "output_type": "execute_result"
    }
   ],
   "source": [
    "re.findall(r\"5\", \"Data AAsdcience187654345689098723\")"
   ]
  },
  {
   "cell_type": "code",
   "execution_count": 12,
   "id": "406f9481-6604-4e97-9626-b64d0a1c8ae4",
   "metadata": {},
   "outputs": [
    {
     "data": {
      "text/plain": [
       "['a', 'a', 'A', 'A']"
      ]
     },
     "execution_count": 12,
     "metadata": {},
     "output_type": "execute_result"
    }
   ],
   "source": [
    "re.findall (r\"[aA]\", \"Data AAScience\")"
   ]
  },
  {
   "cell_type": "code",
   "execution_count": 15,
   "id": "d72a3345-d305-4b77-a68d-da9d58fcf0b8",
   "metadata": {},
   "outputs": [
    {
     "data": {
      "text/plain": [
       "['a', 'a', 'A', 'A', 's', 'i']"
      ]
     },
     "execution_count": 15,
     "metadata": {},
     "output_type": "execute_result"
    }
   ],
   "source": [
    "re.findall (r\"[aAsi]\", \"Data AAscience\")"
   ]
  },
  {
   "cell_type": "code",
   "execution_count": 16,
   "id": "d1eeb059-237b-4305-8c34-d239a0298af7",
   "metadata": {},
   "outputs": [
    {
     "data": {
      "text/plain": [
       "['a', 't', 'a', 's', 'c', 'i', 'e', 'n', 'c', 'e']"
      ]
     },
     "execution_count": 16,
     "metadata": {},
     "output_type": "execute_result"
    }
   ],
   "source": [
    "re.findall (r\"[a-z]\", \"Data1234590 AAscience\")"
   ]
  },
  {
   "cell_type": "code",
   "execution_count": 17,
   "id": "196f5c8b-5398-4c4c-b7c5-903ca442fc9f",
   "metadata": {},
   "outputs": [
    {
     "data": {
      "text/plain": [
       "['D', 'A', 'A']"
      ]
     },
     "execution_count": 17,
     "metadata": {},
     "output_type": "execute_result"
    }
   ],
   "source": [
    "re.findall (r\"[A-Z]\", \"Data1234590 AAscience\")"
   ]
  },
  {
   "cell_type": "code",
   "execution_count": 18,
   "id": "59211e5f-2753-493e-859c-ea82e4305cc8",
   "metadata": {},
   "outputs": [
    {
     "data": {
      "text/plain": [
       "['a', 'a', 'c', 'e', 'c', 'e']"
      ]
     },
     "execution_count": 18,
     "metadata": {},
     "output_type": "execute_result"
    }
   ],
   "source": [
    "re.findall (r\"[a-g]\", \"Data1234590 AAscience\")"
   ]
  },
  {
   "cell_type": "code",
   "execution_count": 19,
   "id": "29ea5c6e-3676-439c-b37b-5929502ce621",
   "metadata": {},
   "outputs": [
    {
     "data": {
      "text/plain": [
       "[' ']"
      ]
     },
     "execution_count": 19,
     "metadata": {},
     "output_type": "execute_result"
    }
   ],
   "source": [
    "re.findall (r\"[ ]\", \"Data1234590 AAscience\")"
   ]
  },
  {
   "cell_type": "code",
   "execution_count": 21,
   "id": "b38a1254-960c-4943-afc5-8bece7180182",
   "metadata": {},
   "outputs": [
    {
     "data": {
      "text/plain": [
       "['1', '2', '3', '4', '5', '9']"
      ]
     },
     "execution_count": 21,
     "metadata": {},
     "output_type": "execute_result"
    }
   ],
   "source": [
    "re.findall (r\"[1-9]\", \"Data1234590 AAscience\")"
   ]
  },
  {
   "cell_type": "code",
   "execution_count": 22,
   "id": "c1479c1e-6806-4962-9228-6e96412c07bf",
   "metadata": {},
   "outputs": [
    {
     "data": {
      "text/plain": [
       "['D', 'a', 't', 'a', ' ', 'A', 'A', 's', 'c', 'i', 'e', 'n', 'c', 'e']"
      ]
     },
     "execution_count": 22,
     "metadata": {},
     "output_type": "execute_result"
    }
   ],
   "source": [
    "re.findall (r\"[a-z A-Z]\", \"Data1234590 AAscience\")"
   ]
  },
  {
   "cell_type": "code",
   "execution_count": 26,
   "id": "6ef19a8f-88ea-402c-bef6-4e27de2ab3e9",
   "metadata": {},
   "outputs": [
    {
     "data": {
      "text/plain": [
       "['D',\n",
       " '1',\n",
       " '2',\n",
       " '3',\n",
       " '4',\n",
       " '5',\n",
       " '9',\n",
       " '0',\n",
       " ' ',\n",
       " 'A',\n",
       " 'A',\n",
       " 's',\n",
       " 'c',\n",
       " 'i',\n",
       " 'e',\n",
       " 'n',\n",
       " 'c',\n",
       " 'e']"
      ]
     },
     "execution_count": 26,
     "metadata": {},
     "output_type": "execute_result"
    }
   ],
   "source": [
    "re.findall (r\"[^at]\", \"Data1234590 AAscience\")    # it will give all the letters excepts a and t"
   ]
  },
  {
   "cell_type": "code",
   "execution_count": null,
   "id": "2a5dba94-d13a-476a-bc70-33a83a175b25",
   "metadata": {},
   "outputs": [],
   "source": []
  }
 ],
 "metadata": {
  "kernelspec": {
   "display_name": "Python 3 (ipykernel)",
   "language": "python",
   "name": "python3"
  },
  "language_info": {
   "codemirror_mode": {
    "name": "ipython",
    "version": 3
   },
   "file_extension": ".py",
   "mimetype": "text/x-python",
   "name": "python",
   "nbconvert_exporter": "python",
   "pygments_lexer": "ipython3",
   "version": "3.13.2"
  }
 },
 "nbformat": 4,
 "nbformat_minor": 5
}
