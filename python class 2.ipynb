{
 "cells": [
  {
   "cell_type": "code",
   "execution_count": 1,
   "id": "e420a9a3-f23c-4b2b-9e6e-1d4cbc1751a6",
   "metadata": {},
   "outputs": [
    {
     "name": "stdout",
     "output_type": "stream",
     "text": [
      "DATA SCIENCE\n"
     ]
    }
   ],
   "source": [
    "string = \"data science\"\n",
    "print (string.upper())"
   ]
  },
  {
   "cell_type": "code",
   "execution_count": 2,
   "id": "5909f811-b603-4f14-8b30-1bc5749eb724",
   "metadata": {},
   "outputs": [
    {
     "name": "stdout",
     "output_type": "stream",
     "text": [
      "data science\n"
     ]
    }
   ],
   "source": [
    "print (string.lower())"
   ]
  },
  {
   "cell_type": "code",
   "execution_count": 4,
   "id": "d74a23aa-5819-4fc3-9339-c0d4def696c0",
   "metadata": {},
   "outputs": [
    {
     "data": {
      "text/plain": [
       "True"
      ]
     },
     "execution_count": 4,
     "metadata": {},
     "output_type": "execute_result"
    }
   ],
   "source": [
    "string = \"DATA \"\n",
    "string.isupper()"
   ]
  },
  {
   "cell_type": "code",
   "execution_count": 5,
   "id": "b259066f-d41e-40aa-a6ba-2bee1fb95688",
   "metadata": {},
   "outputs": [
    {
     "data": {
      "text/plain": [
       "False"
      ]
     },
     "execution_count": 5,
     "metadata": {},
     "output_type": "execute_result"
    }
   ],
   "source": [
    "string = \"DATA \"\n",
    "string.islower()"
   ]
  },
  {
   "cell_type": "code",
   "execution_count": 7,
   "id": "b15e3754-dc43-4305-afd8-6471b6dbb793",
   "metadata": {},
   "outputs": [
    {
     "data": {
      "text/plain": [
       "'Data science'"
      ]
     },
     "execution_count": 7,
     "metadata": {},
     "output_type": "execute_result"
    }
   ],
   "source": [
    "string = \"data science\"\n",
    "string.capitalize()"
   ]
  },
  {
   "cell_type": "code",
   "execution_count": 8,
   "id": "9db2c1c8-da58-4184-a87e-4f820281e5a5",
   "metadata": {},
   "outputs": [
    {
     "data": {
      "text/plain": [
       "'Data Science'"
      ]
     },
     "execution_count": 8,
     "metadata": {},
     "output_type": "execute_result"
    }
   ],
   "source": [
    "string = \"data science\"\n",
    "string.title()"
   ]
  },
  {
   "cell_type": "code",
   "execution_count": 9,
   "id": "3447a225-7332-4743-9c12-e085631acf39",
   "metadata": {},
   "outputs": [
    {
     "data": {
      "text/plain": [
       "'data SCIENCE'"
      ]
     },
     "execution_count": 9,
     "metadata": {},
     "output_type": "execute_result"
    }
   ],
   "source": [
    "string = \"DATA science\"\n",
    "string.swapcase()"
   ]
  },
  {
   "cell_type": "code",
   "execution_count": 10,
   "id": "d2de7d3b-d6f4-4ac3-a7ea-ba0587931835",
   "metadata": {},
   "outputs": [
    {
     "data": {
      "text/plain": [
       "'data'"
      ]
     },
     "execution_count": 10,
     "metadata": {},
     "output_type": "execute_result"
    }
   ],
   "source": [
    "string = \" data \"\n",
    "string.strip()"
   ]
  },
  {
   "cell_type": "code",
   "execution_count": 11,
   "id": "5ddd0ce2-b477-4a0a-9a13-92ad12ebdfcb",
   "metadata": {},
   "outputs": [
    {
     "data": {
      "text/plain": [
       "'data '"
      ]
     },
     "execution_count": 11,
     "metadata": {},
     "output_type": "execute_result"
    }
   ],
   "source": [
    "string.lstrip()"
   ]
  },
  {
   "cell_type": "code",
   "execution_count": 12,
   "id": "57191281-4073-480a-aba4-8884ba115492",
   "metadata": {},
   "outputs": [
    {
     "data": {
      "text/plain": [
       "' data'"
      ]
     },
     "execution_count": 12,
     "metadata": {},
     "output_type": "execute_result"
    }
   ],
   "source": [
    "string.rstrip()"
   ]
  },
  {
   "cell_type": "code",
   "execution_count": 15,
   "id": "87659fdf-4e32-4362-a864-d80bd36995ad",
   "metadata": {},
   "outputs": [
    {
     "data": {
      "text/plain": [
       "'dndtnd'"
      ]
     },
     "execution_count": 15,
     "metadata": {},
     "output_type": "execute_result"
    }
   ],
   "source": [
    "string = \"data\"\n",
    "string.replace(\"a\", \"nd\")"
   ]
  },
  {
   "cell_type": "code",
   "execution_count": 16,
   "id": "6371e501-75d1-4493-9698-94390c4a957d",
   "metadata": {},
   "outputs": [
    {
     "data": {
      "text/plain": [
       "'225_h67890766'"
      ]
     },
     "execution_count": 16,
     "metadata": {},
     "output_type": "execute_result"
    }
   ],
   "source": [
    "string = \"225 h67890766\"\n",
    "string.replace (\" \",\"_\")"
   ]
  },
  {
   "cell_type": "code",
   "execution_count": 17,
   "id": "7d99685c-b48c-42a3-9628-1600da1934bb",
   "metadata": {},
   "outputs": [
    {
     "data": {
      "text/plain": [
       "2"
      ]
     },
     "execution_count": 17,
     "metadata": {},
     "output_type": "execute_result"
    }
   ],
   "source": [
    "string = \"data science\"\n",
    "string.count(\"a\",1,6 )"
   ]
  },
  {
   "cell_type": "code",
   "execution_count": 21,
   "id": "d243f795-fc67-40b5-8cd4-359b679ddeb0",
   "metadata": {},
   "outputs": [
    {
     "ename": "ValueError",
     "evalue": "substring not found",
     "output_type": "error",
     "traceback": [
      "\u001b[31m---------------------------------------------------------------------------\u001b[39m",
      "\u001b[31mValueError\u001b[39m                                Traceback (most recent call last)",
      "\u001b[36mCell\u001b[39m\u001b[36m \u001b[39m\u001b[32mIn[21]\u001b[39m\u001b[32m, line 2\u001b[39m\n\u001b[32m      1\u001b[39m string = \u001b[33m\"\u001b[39m\u001b[33mdata science\u001b[39m\u001b[33m\"\u001b[39m\n\u001b[32m----> \u001b[39m\u001b[32m2\u001b[39m \u001b[43mstring\u001b[49m\u001b[43m.\u001b[49m\u001b[43mindex\u001b[49m\u001b[43m(\u001b[49m\u001b[33;43m\"\u001b[39;49m\u001b[33;43mx\u001b[39;49m\u001b[33;43m\"\u001b[39;49m\u001b[43m)\u001b[49m\n",
      "\u001b[31mValueError\u001b[39m: substring not found"
     ]
    }
   ],
   "source": [
    "string = \"data science\"\n",
    "string.index(\"x\")"
   ]
  },
  {
   "cell_type": "code",
   "execution_count": 20,
   "id": "b028f35a-3330-403c-893f-46c58d3d8c62",
   "metadata": {},
   "outputs": [
    {
     "data": {
      "text/plain": [
       "-1"
      ]
     },
     "execution_count": 20,
     "metadata": {},
     "output_type": "execute_result"
    }
   ],
   "source": [
    "string = \"data science\"\n",
    "string.find (\"x\")"
   ]
  },
  {
   "cell_type": "code",
   "execution_count": 22,
   "id": "aa2cd2f7-8274-4223-a7e9-a39e235b8864",
   "metadata": {},
   "outputs": [
    {
     "data": {
      "text/plain": [
       "True"
      ]
     },
     "execution_count": 22,
     "metadata": {},
     "output_type": "execute_result"
    }
   ],
   "source": [
    "string = \"data science\"\n",
    "string.endswith(\"ce\")"
   ]
  },
  {
   "cell_type": "code",
   "execution_count": 23,
   "id": "a3869078-aae7-4671-93a5-927e92769e2e",
   "metadata": {},
   "outputs": [
    {
     "data": {
      "text/plain": [
       "False"
      ]
     },
     "execution_count": 23,
     "metadata": {},
     "output_type": "execute_result"
    }
   ],
   "source": [
    "string = \"data science\"\n",
    "string.startswith(\"ce\")"
   ]
  },
  {
   "cell_type": "code",
   "execution_count": 1,
   "id": "a8f08685-9ba1-42ea-b61f-50daef85ef2c",
   "metadata": {},
   "outputs": [
    {
     "data": {
      "text/plain": [
       "True"
      ]
     },
     "execution_count": 1,
     "metadata": {},
     "output_type": "execute_result"
    }
   ],
   "source": [
    "string = \"66857689\"\n",
    "string.isnumeric()"
   ]
  },
  {
   "cell_type": "code",
   "execution_count": 3,
   "id": "7e4f5125-353a-4682-888c-65fa197f5107",
   "metadata": {},
   "outputs": [
    {
     "data": {
      "text/plain": [
       "True"
      ]
     },
     "execution_count": 3,
     "metadata": {},
     "output_type": "execute_result"
    }
   ],
   "source": [
    "string = \"data\"\n",
    "string.isalpha()"
   ]
  },
  {
   "cell_type": "code",
   "execution_count": 5,
   "id": "9b9d33fc-f6d7-446b-bc9f-756a1c35924d",
   "metadata": {},
   "outputs": [
    {
     "data": {
      "text/plain": [
       "True"
      ]
     },
     "execution_count": 5,
     "metadata": {},
     "output_type": "execute_result"
    }
   ],
   "source": [
    "string = \"data\"\n",
    "string.isalnum()"
   ]
  },
  {
   "cell_type": "code",
   "execution_count": 7,
   "id": "087a5340-f603-40a0-aaed-beff8eb3ea9d",
   "metadata": {},
   "outputs": [
    {
     "data": {
      "text/plain": [
       "False"
      ]
     },
     "execution_count": 7,
     "metadata": {},
     "output_type": "execute_result"
    }
   ],
   "source": [
    "string = \"data 6878 science\"\n",
    "string[0:4].isupper()"
   ]
  },
  {
   "cell_type": "code",
   "execution_count": 8,
   "id": "ca618f07-42d5-416c-90e1-ecfb7d42ee5f",
   "metadata": {},
   "outputs": [
    {
     "data": {
      "text/plain": [
       "'NC'"
      ]
     },
     "execution_count": 8,
     "metadata": {},
     "output_type": "execute_result"
    }
   ],
   "source": [
    "string = \"data 6878 science\"\n",
    "string[-3:-1].swapcase()"
   ]
  },
  {
   "cell_type": "code",
   "execution_count": 9,
   "id": "c8458dfb-1391-4705-8cf6-a77d334617be",
   "metadata": {},
   "outputs": [
    {
     "data": {
      "text/plain": [
       "'Dat'"
      ]
     },
     "execution_count": 9,
     "metadata": {},
     "output_type": "execute_result"
    }
   ],
   "source": [
    "string = \"data 6878 science\"\n",
    "string[0:3].title()"
   ]
  },
  {
   "cell_type": "code",
   "execution_count": 12,
   "id": "4a7b3638-da09-45a0-b7dc-8e8744694347",
   "metadata": {},
   "outputs": [
    {
     "data": {
      "text/plain": [
       "'000000data'"
      ]
     },
     "execution_count": 12,
     "metadata": {},
     "output_type": "execute_result"
    }
   ],
   "source": [
    "string = \"data\"\n",
    "string.zfill(10)"
   ]
  },
  {
   "cell_type": "code",
   "execution_count": 13,
   "id": "a14e025c-1533-4499-9e38-cd86874e7041",
   "metadata": {},
   "outputs": [
    {
     "data": {
      "text/plain": [
       "'data'"
      ]
     },
     "execution_count": 13,
     "metadata": {},
     "output_type": "execute_result"
    }
   ],
   "source": [
    "string.zfill(2)"
   ]
  },
  {
   "cell_type": "code",
   "execution_count": 15,
   "id": "586b0b93-4749-4e1d-84f3-d310487111e1",
   "metadata": {},
   "outputs": [
    {
     "data": {
      "text/plain": [
       "'***data**'"
      ]
     },
     "execution_count": 15,
     "metadata": {},
     "output_type": "execute_result"
    }
   ],
   "source": [
    "string.center(9,\"*\")"
   ]
  },
  {
   "cell_type": "code",
   "execution_count": 16,
   "id": "4ef2a8e6-57e6-4a04-b055-f6982a46d0fa",
   "metadata": {},
   "outputs": [
    {
     "data": {
      "text/plain": [
       "['data', 'science']"
      ]
     },
     "execution_count": 16,
     "metadata": {},
     "output_type": "execute_result"
    }
   ],
   "source": [
    "string = \"data science\"\n",
    "string.split()"
   ]
  },
  {
   "cell_type": "code",
   "execution_count": 17,
   "id": "eb80cd3f-f442-4901-9373-82b46f4372d8",
   "metadata": {},
   "outputs": [
    {
     "data": {
      "text/plain": [
       "['data', 'science']"
      ]
     },
     "execution_count": 17,
     "metadata": {},
     "output_type": "execute_result"
    }
   ],
   "source": [
    "string = \"data_science\"\n",
    "string.split(\"_\")"
   ]
  },
  {
   "cell_type": "code",
   "execution_count": 19,
   "id": "94829b37-942c-42ea-9761-e9af841b9a6c",
   "metadata": {},
   "outputs": [
    {
     "data": {
      "text/plain": [
       "['d', 't', '_science']"
      ]
     },
     "execution_count": 19,
     "metadata": {},
     "output_type": "execute_result"
    }
   ],
   "source": [
    "string = \"data_science\"\n",
    "string.split(\"a\")"
   ]
  },
  {
   "cell_type": "code",
   "execution_count": 20,
   "id": "e87a8f4e-6f0c-4aad-9d34-41e004e75a6f",
   "metadata": {},
   "outputs": [
    {
     "data": {
      "text/plain": [
       "['data_sci', 'nc', '']"
      ]
     },
     "execution_count": 20,
     "metadata": {},
     "output_type": "execute_result"
    }
   ],
   "source": [
    "string.split(\"e\")"
   ]
  },
  {
   "cell_type": "code",
   "execution_count": 22,
   "id": "ec4c01cd-e2cd-4eba-ac20-a95981c1edfa",
   "metadata": {},
   "outputs": [
    {
     "data": {
      "text/plain": [
       "'datascience'"
      ]
     },
     "execution_count": 22,
     "metadata": {},
     "output_type": "execute_result"
    }
   ],
   "source": [
    "\"data\"+\"science\""
   ]
  },
  {
   "cell_type": "code",
   "execution_count": 23,
   "id": "b4126b93-05a7-4b8d-9420-68f47d739323",
   "metadata": {},
   "outputs": [
    {
     "data": {
      "text/plain": [
       "'datadata'"
      ]
     },
     "execution_count": 23,
     "metadata": {},
     "output_type": "execute_result"
    }
   ],
   "source": [
    "\"data\"*2"
   ]
  },
  {
   "cell_type": "code",
   "execution_count": 25,
   "id": "4c5f568e-54b2-4a11-8ca7-eda518a87829",
   "metadata": {},
   "outputs": [
    {
     "data": {
      "text/plain": [
       "'dA'"
      ]
     },
     "execution_count": 25,
     "metadata": {},
     "output_type": "execute_result"
    }
   ],
   "source": [
    "string = \"data science\"\n",
    "string[0:2].capitalize().swapcase()"
   ]
  },
  {
   "cell_type": "code",
   "execution_count": 1,
   "id": "48faeb27-1c65-4242-912e-4557b2d8a446",
   "metadata": {},
   "outputs": [
    {
     "data": {
      "text/plain": [
       "'DATA Engineering'"
      ]
     },
     "execution_count": 1,
     "metadata": {},
     "output_type": "execute_result"
    }
   ],
   "source": [
    "string = \"data engineering\"\n",
    "string[0:4].upper()+' '+string[5:].capitalize()"
   ]
  },
  {
   "cell_type": "code",
   "execution_count": null,
   "id": "0bfbdc82-0e6d-4a59-ba7a-caccc7e166be",
   "metadata": {},
   "outputs": [],
   "source": [
    "###list"
   ]
  },
  {
   "cell_type": "code",
   "execution_count": 3,
   "id": "68079470-f522-4d79-baa9-df52c16d5a16",
   "metadata": {},
   "outputs": [
    {
     "data": {
      "text/plain": [
       "list"
      ]
     },
     "execution_count": 3,
     "metadata": {},
     "output_type": "execute_result"
    }
   ],
   "source": [
    "x = [1,3.4,3+4j,\"stop\"]\n",
    "type(x)"
   ]
  },
  {
   "cell_type": "code",
   "execution_count": 5,
   "id": "b90a4824-ee76-45f1-a763-948fb6b92767",
   "metadata": {},
   "outputs": [
    {
     "data": {
      "text/plain": [
       "(int, float, complex, str)"
      ]
     },
     "execution_count": 5,
     "metadata": {},
     "output_type": "execute_result"
    }
   ],
   "source": [
    "type(x[0]),type(x[1]),type (x[2]),type (x[3])"
   ]
  },
  {
   "cell_type": "code",
   "execution_count": 6,
   "id": "0e126df7-2fb2-4b27-8e02-92b6e6b68ece",
   "metadata": {},
   "outputs": [
    {
     "data": {
      "text/plain": [
       "list"
      ]
     },
     "execution_count": 6,
     "metadata": {},
     "output_type": "execute_result"
    }
   ],
   "source": [
    "x = [\"data science\", \"data analytics\"]\n",
    "type (x)"
   ]
  },
  {
   "cell_type": "code",
   "execution_count": 8,
   "id": "6a1f0849-f2ea-415d-b3b6-2794eb0bf673",
   "metadata": {},
   "outputs": [
    {
     "data": {
      "text/plain": [
       "'data science'"
      ]
     },
     "execution_count": 8,
     "metadata": {},
     "output_type": "execute_result"
    }
   ],
   "source": [
    "x[0]"
   ]
  },
  {
   "cell_type": "code",
   "execution_count": 10,
   "id": "0f73cba9-d71d-4b15-a5bb-cf662a271e64",
   "metadata": {},
   "outputs": [
    {
     "data": {
      "text/plain": [
       "'data'"
      ]
     },
     "execution_count": 10,
     "metadata": {},
     "output_type": "execute_result"
    }
   ],
   "source": [
    "x[0][0:4]"
   ]
  },
  {
   "cell_type": "code",
   "execution_count": 11,
   "id": "072bf51d-f83c-438c-94ba-bd35944f0295",
   "metadata": {},
   "outputs": [
    {
     "data": {
      "text/plain": [
       "'ic'"
      ]
     },
     "execution_count": 11,
     "metadata": {},
     "output_type": "execute_result"
    }
   ],
   "source": [
    "x[1][-3:-1]"
   ]
  },
  {
   "cell_type": "code",
   "execution_count": null,
   "id": "f0891be2-1e8c-4de0-b14a-5d57aaa5db24",
   "metadata": {},
   "outputs": [],
   "source": [
    "### nested list"
   ]
  },
  {
   "cell_type": "code",
   "execution_count": 14,
   "id": "f3214fad-9705-4a3e-a0b7-a4295165c595",
   "metadata": {},
   "outputs": [],
   "source": [
    "x = [1,4.7,7+9j,[1,2,3]]"
   ]
  },
  {
   "cell_type": "code",
   "execution_count": 15,
   "id": "7b0b6836-49b9-4b94-a51b-01a0d67ce08a",
   "metadata": {},
   "outputs": [
    {
     "data": {
      "text/plain": [
       "list"
      ]
     },
     "execution_count": 15,
     "metadata": {},
     "output_type": "execute_result"
    }
   ],
   "source": [
    "type (x)"
   ]
  },
  {
   "cell_type": "code",
   "execution_count": 23,
   "id": "8efc30f3-009c-4b56-9a20-820a75b515d3",
   "metadata": {},
   "outputs": [],
   "source": [
    "class_groups = [\n",
    "    [\"arav\",\"vivan\"],\n",
    "    [\"ishita\",\"ayan\"],\n",
    "    [\"ananya\",\"rohan\"]\n",
    "]"
   ]
  },
  {
   "cell_type": "code",
   "execution_count": 24,
   "id": "7d74237c-0215-49dd-a9b9-f1484ed42550",
   "metadata": {},
   "outputs": [
    {
     "data": {
      "text/plain": [
       "list"
      ]
     },
     "execution_count": 24,
     "metadata": {},
     "output_type": "execute_result"
    }
   ],
   "source": [
    "type (class_groups)"
   ]
  },
  {
   "cell_type": "code",
   "execution_count": 27,
   "id": "7d908552-4edd-4dd1-97f8-a869e55e80ea",
   "metadata": {},
   "outputs": [
    {
     "data": {
      "text/plain": [
       "'ananya'"
      ]
     },
     "execution_count": 27,
     "metadata": {},
     "output_type": "execute_result"
    }
   ],
   "source": [
    "class_groups [2][0]"
   ]
  },
  {
   "cell_type": "code",
   "execution_count": 28,
   "id": "b786d775-f2b3-4c1f-abba-1215b5ace840",
   "metadata": {},
   "outputs": [],
   "source": [
    "list1 = [1,2,3,4,5]"
   ]
  },
  {
   "cell_type": "code",
   "execution_count": 33,
   "id": "825a9508-aa10-4748-8a22-a0cb0b5e1177",
   "metadata": {},
   "outputs": [],
   "source": [
    "list1.append (2)"
   ]
  },
  {
   "cell_type": "code",
   "execution_count": 34,
   "id": "f60c3f35-fb3f-4a43-a8eb-6b9f26005be8",
   "metadata": {},
   "outputs": [
    {
     "data": {
      "text/plain": [
       "[1, 2, 3, 4, 5, 10, 10, 2]"
      ]
     },
     "execution_count": 34,
     "metadata": {},
     "output_type": "execute_result"
    }
   ],
   "source": [
    "list1"
   ]
  },
  {
   "cell_type": "code",
   "execution_count": 35,
   "id": "1815d23f-b325-48f1-8c69-d29cb6b4cc31",
   "metadata": {},
   "outputs": [],
   "source": [
    "list1.insert (2,\"data\")"
   ]
  },
  {
   "cell_type": "code",
   "execution_count": 36,
   "id": "2ecb9edc-c2ed-455f-8341-df2e9b3656a9",
   "metadata": {},
   "outputs": [
    {
     "data": {
      "text/plain": [
       "[1, 2, 'data', 3, 4, 5, 10, 10, 2]"
      ]
     },
     "execution_count": 36,
     "metadata": {},
     "output_type": "execute_result"
    }
   ],
   "source": [
    "list1"
   ]
  },
  {
   "cell_type": "code",
   "execution_count": 37,
   "id": "895df332-93a5-4508-88ae-972431b218d9",
   "metadata": {},
   "outputs": [
    {
     "data": {
      "text/plain": [
       "4"
      ]
     },
     "execution_count": 37,
     "metadata": {},
     "output_type": "execute_result"
    }
   ],
   "source": [
    "list1.pop (4)"
   ]
  },
  {
   "cell_type": "code",
   "execution_count": 38,
   "id": "34dde629-e945-44f5-9fa5-e90cf7e32cd1",
   "metadata": {},
   "outputs": [
    {
     "data": {
      "text/plain": [
       "[1, 2, 'data', 3, 5, 10, 10, 2]"
      ]
     },
     "execution_count": 38,
     "metadata": {},
     "output_type": "execute_result"
    }
   ],
   "source": [
    "list1 "
   ]
  },
  {
   "cell_type": "code",
   "execution_count": 39,
   "id": "5e34225a-04aa-484e-b570-2ff4b49d292b",
   "metadata": {},
   "outputs": [],
   "source": [
    "del list1"
   ]
  },
  {
   "cell_type": "code",
   "execution_count": 40,
   "id": "876a1554-8e44-4b87-bd6e-579f30bfab85",
   "metadata": {},
   "outputs": [
    {
     "ename": "NameError",
     "evalue": "name 'list1' is not defined",
     "output_type": "error",
     "traceback": [
      "\u001b[31m---------------------------------------------------------------------------\u001b[39m",
      "\u001b[31mNameError\u001b[39m                                 Traceback (most recent call last)",
      "\u001b[36mCell\u001b[39m\u001b[36m \u001b[39m\u001b[32mIn[40]\u001b[39m\u001b[32m, line 1\u001b[39m\n\u001b[32m----> \u001b[39m\u001b[32m1\u001b[39m \u001b[43mlist1\u001b[49m\n",
      "\u001b[31mNameError\u001b[39m: name 'list1' is not defined"
     ]
    }
   ],
   "source": [
    "list1"
   ]
  },
  {
   "cell_type": "code",
   "execution_count": null,
   "id": "0ea366ca-9dfb-469d-9d7c-c3167cd1db04",
   "metadata": {},
   "outputs": [],
   "source": [
    "# count method is used to get the occurences of a particular data"
   ]
  },
  {
   "cell_type": "code",
   "execution_count": 2,
   "id": "1a59f26d-d0a2-43d6-8b94-5e8969fc8330",
   "metadata": {},
   "outputs": [
    {
     "data": {
      "text/plain": [
       "4"
      ]
     },
     "execution_count": 2,
     "metadata": {},
     "output_type": "execute_result"
    }
   ],
   "source": [
    "list = [1,2,3,4,5,2,2,2]\n",
    "list.count (2)"
   ]
  },
  {
   "cell_type": "code",
   "execution_count": 3,
   "id": "0fa12c4f-f11e-447e-a184-9564e5f71abf",
   "metadata": {},
   "outputs": [
    {
     "data": {
      "text/plain": [
       "1"
      ]
     },
     "execution_count": 3,
     "metadata": {},
     "output_type": "execute_result"
    }
   ],
   "source": [
    "list.count(4)"
   ]
  },
  {
   "cell_type": "code",
   "execution_count": 4,
   "id": "b51e8a99-6704-479e-85d9-422059c162b6",
   "metadata": {},
   "outputs": [
    {
     "data": {
      "text/plain": [
       "1"
      ]
     },
     "execution_count": 4,
     "metadata": {},
     "output_type": "execute_result"
    }
   ],
   "source": [
    "list.index(2)"
   ]
  },
  {
   "cell_type": "code",
   "execution_count": 5,
   "id": "785ca18d-e0ba-4615-9b20-31e3d45db891",
   "metadata": {},
   "outputs": [
    {
     "data": {
      "text/plain": [
       "4"
      ]
     },
     "execution_count": 5,
     "metadata": {},
     "output_type": "execute_result"
    }
   ],
   "source": [
    "list.index (5)"
   ]
  },
  {
   "cell_type": "code",
   "execution_count": 11,
   "id": "cd029e2b-adc1-47e8-ad35-c239c076e916",
   "metadata": {},
   "outputs": [
    {
     "data": {
      "text/plain": [
       "[2, 2, 2, 5, 4, 3, 2, 1]"
      ]
     },
     "execution_count": 11,
     "metadata": {},
     "output_type": "execute_result"
    }
   ],
   "source": [
    "list.reverse ()\n",
    "list"
   ]
  },
  {
   "cell_type": "code",
   "execution_count": 12,
   "id": "072c32e3-0342-49cb-8d4e-5602aa5838fd",
   "metadata": {},
   "outputs": [
    {
     "data": {
      "text/plain": [
       "[1, 2, 2, 2, 2, 3, 4, 5]"
      ]
     },
     "execution_count": 12,
     "metadata": {},
     "output_type": "execute_result"
    }
   ],
   "source": [
    "list.sort()\n",
    "list"
   ]
  },
  {
   "cell_type": "code",
   "execution_count": null,
   "id": "cbe1955b-131f-4212-b23a-8dc29b6896ff",
   "metadata": {},
   "outputs": [],
   "source": []
  }
 ],
 "metadata": {
  "kernelspec": {
   "display_name": "Python 3 (ipykernel)",
   "language": "python",
   "name": "python3"
  },
  "language_info": {
   "codemirror_mode": {
    "name": "ipython",
    "version": 3
   },
   "file_extension": ".py",
   "mimetype": "text/x-python",
   "name": "python",
   "nbconvert_exporter": "python",
   "pygments_lexer": "ipython3",
   "version": "3.13.2"
  }
 },
 "nbformat": 4,
 "nbformat_minor": 5
}
