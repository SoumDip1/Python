{
 "cells": [
  {
   "cell_type": "markdown",
   "id": "2e2ac7b9-1017-41d8-9a3c-290589251ee6",
   "metadata": {},
   "source": [
    "# POLYMORPHISM"
   ]
  },
  {
   "cell_type": "code",
   "execution_count": null,
   "id": "87a5fafb-09fa-46ad-8131-653b29bb056d",
   "metadata": {},
   "outputs": [],
   "source": []
  },
  {
   "cell_type": "markdown",
   "id": "a1723c5b-83c2-41a8-a5ef-218f2fbaef57",
   "metadata": {},
   "source": [
    "**COMPILE TIME POLYMORPHISM**"
   ]
  },
  {
   "cell_type": "code",
   "execution_count": null,
   "id": "7bdcbf23-319d-429f-9ae7-03949e24702a",
   "metadata": {},
   "outputs": [],
   "source": [
    "## *args"
   ]
  },
  {
   "cell_type": "code",
   "execution_count": 9,
   "id": "fc94f0a4-5a74-4c9e-b198-c1c52e371ec6",
   "metadata": {},
   "outputs": [],
   "source": [
    "def sample(*args):\n",
    "    return sum(args)"
   ]
  },
  {
   "cell_type": "code",
   "execution_count": 10,
   "id": "f660b45d-44a0-4226-be91-d7ec9511e94c",
   "metadata": {},
   "outputs": [
    {
     "data": {
      "text/plain": [
       "60"
      ]
     },
     "execution_count": 10,
     "metadata": {},
     "output_type": "execute_result"
    }
   ],
   "source": [
    "sample(10,20,30)"
   ]
  },
  {
   "cell_type": "code",
   "execution_count": 11,
   "id": "39239ae8-7e67-4b3f-b07f-b65f4861bdc0",
   "metadata": {},
   "outputs": [],
   "source": [
    "def sample(*args):\n",
    "    return args"
   ]
  },
  {
   "cell_type": "code",
   "execution_count": 12,
   "id": "80cabd0a-61d4-40c0-b1e9-378603ae4d8e",
   "metadata": {},
   "outputs": [
    {
     "data": {
      "text/plain": [
       "(10, 20, 30)"
      ]
     },
     "execution_count": 12,
     "metadata": {},
     "output_type": "execute_result"
    }
   ],
   "source": [
    "sample(10,20,30)"
   ]
  },
  {
   "cell_type": "code",
   "execution_count": 20,
   "id": "0c4893a4-3947-4441-b294-de151dfc54db",
   "metadata": {},
   "outputs": [],
   "source": [
    "def sample(*args):\n",
    "    return args[0:2]"
   ]
  },
  {
   "cell_type": "code",
   "execution_count": 21,
   "id": "2d1cfa0e-c21a-4982-82b8-4df52fa0a0f8",
   "metadata": {},
   "outputs": [
    {
     "data": {
      "text/plain": [
       "(10, 20)"
      ]
     },
     "execution_count": 21,
     "metadata": {},
     "output_type": "execute_result"
    }
   ],
   "source": [
    "sample(10,20,30)"
   ]
  },
  {
   "cell_type": "code",
   "execution_count": null,
   "id": "6cc9e5f1-7d04-4361-b472-333e6c09d7fa",
   "metadata": {},
   "outputs": [],
   "source": []
  },
  {
   "cell_type": "code",
   "execution_count": 23,
   "id": "9cc62c7a-6821-4008-a9b8-d4194a80bf10",
   "metadata": {},
   "outputs": [],
   "source": [
    "class Addition:\n",
    "    def add(self, *args):\n",
    "        return sum(args)"
   ]
  },
  {
   "cell_type": "code",
   "execution_count": 26,
   "id": "0899c080-14dc-4ef3-9efc-eeec65ec006a",
   "metadata": {},
   "outputs": [
    {
     "data": {
      "text/plain": [
       "100"
      ]
     },
     "execution_count": 26,
     "metadata": {},
     "output_type": "execute_result"
    }
   ],
   "source": [
    "a1=Addition()\n",
    "a1.add(10,20,30,40)"
   ]
  },
  {
   "cell_type": "code",
   "execution_count": null,
   "id": "6195a61e-bf44-4cac-a27d-a39cc8d5ecd6",
   "metadata": {},
   "outputs": [],
   "source": [
    "## **kwargs"
   ]
  },
  {
   "cell_type": "code",
   "execution_count": 27,
   "id": "b3411e90-e281-4e07-a376-f1a8abeb93d2",
   "metadata": {},
   "outputs": [],
   "source": [
    "def sample(**X):\n",
    "    return X['jan'],X['Feb']"
   ]
  },
  {
   "cell_type": "code",
   "execution_count": 28,
   "id": "5c3d47c3-dfa2-41f6-9abb-7a1799ac38ec",
   "metadata": {},
   "outputs": [
    {
     "data": {
      "text/plain": [
       "(200, 300)"
      ]
     },
     "execution_count": 28,
     "metadata": {},
     "output_type": "execute_result"
    }
   ],
   "source": [
    "sample(jan=200, Feb= 300)"
   ]
  },
  {
   "cell_type": "code",
   "execution_count": 29,
   "id": "dc21e2c2-dec5-4544-98e2-d64c2707fca8",
   "metadata": {},
   "outputs": [],
   "source": [
    "def sample(**X):\n",
    "    return X"
   ]
  },
  {
   "cell_type": "code",
   "execution_count": 30,
   "id": "00644cf9-437c-4387-babf-aa00ab545a1f",
   "metadata": {},
   "outputs": [
    {
     "data": {
      "text/plain": [
       "{'jan': 200, 'Feb': 300}"
      ]
     },
     "execution_count": 30,
     "metadata": {},
     "output_type": "execute_result"
    }
   ],
   "source": [
    "sample(jan=200, Feb= 300)"
   ]
  },
  {
   "cell_type": "code",
   "execution_count": 38,
   "id": "2e5ab177-edb8-4053-99b1-4a8ca3c2fc07",
   "metadata": {},
   "outputs": [],
   "source": [
    "## Here we need to fetch the values only not the keywords\n",
    "\n",
    "class sample:\n",
    "    def create(self, **kwargs):\n",
    "        for i in kwargs.values():\n",
    "            print (i)"
   ]
  },
  {
   "cell_type": "code",
   "execution_count": 35,
   "id": "c1b152c4-6fd4-436e-b8b8-ceab2f648396",
   "metadata": {},
   "outputs": [
    {
     "name": "stdout",
     "output_type": "stream",
     "text": [
      "test\n",
      "25\n",
      "2000\n"
     ]
    }
   ],
   "source": [
    "p = sample()\n",
    "p.create(name='test', age= 25, salary=2000)"
   ]
  },
  {
   "cell_type": "code",
   "execution_count": 37,
   "id": "8d1c6fda-046e-4ac8-9341-c96417f6923d",
   "metadata": {},
   "outputs": [
    {
     "name": "stdout",
     "output_type": "stream",
     "text": [
      "name test\n",
      "age 25\n",
      "salary 2000\n"
     ]
    }
   ],
   "source": [
    "## to get the keywords and the values we need to use kwargs.items() istead of kwargs.values()\n",
    "\n",
    "class sample:\n",
    "    def create(self, **kwargs):\n",
    "        for i,j in kwargs.items():\n",
    "            print (i,j)\n",
    "p = sample()\n",
    "p.create(name='test', age= 25, salary=2000)         "
   ]
  },
  {
   "cell_type": "code",
   "execution_count": null,
   "id": "b67c0326-7fa0-48b7-9acb-37912550ee71",
   "metadata": {},
   "outputs": [],
   "source": []
  },
  {
   "cell_type": "markdown",
   "id": "b1bfc714-f54c-4053-aca1-7e2c3e406a6e",
   "metadata": {},
   "source": [
    "**RUN TIME POLYMORPHISM**"
   ]
  },
  {
   "cell_type": "code",
   "execution_count": 7,
   "id": "c493936a-71f9-49bd-a0f2-29d71b0a10e8",
   "metadata": {},
   "outputs": [
    {
     "name": "stdout",
     "output_type": "stream",
     "text": [
      "Animal speak\n",
      "dog\n",
      "cat\n"
     ]
    }
   ],
   "source": [
    "\n",
    "class Animal:                    ## creating BASE_CLASS\n",
    "    def speak(self):             ## creating FUNCTION\n",
    "        print ('Animal speak')\n",
    "class dog(Animal):               ## creating SUB_CLASS\n",
    "    def speak(self):\n",
    "        print ('dog')\n",
    "class cat(Animal):\n",
    "    def speak(self):\n",
    "        print ('cat')\n",
    "def make_sound(Animal):\n",
    "    Animal.speak()             ## its a METHOD\n",
    "    \n",
    "## CREATING OBJECTS FOR EACH CLASS\n",
    "a = Animal()\n",
    "d = dog()\n",
    "c = cat()\n",
    "\n",
    "## CALLING THE FUNCTION\n",
    "make_sound(a)\n",
    "make_sound(d)\n",
    "make_sound(c)\n",
    "\n",
    "\n",
    "## IT IS METHOD OVERRIDING WHERE WE HAVE A PREDEFINED METHOD AND BASED ON THE CLASS WE ARE OVERIDING THE PROPERTIES OF EXSISTING CLASS"
   ]
  },
  {
   "cell_type": "code",
   "execution_count": null,
   "id": "ffd271c7-4d3d-4f32-8e9e-1b67c5fc30a4",
   "metadata": {},
   "outputs": [],
   "source": []
  },
  {
   "cell_type": "code",
   "execution_count": 14,
   "id": "9bced716-9229-4d7c-90c9-19a00e573541",
   "metadata": {},
   "outputs": [
    {
     "name": "stdout",
     "output_type": "stream",
     "text": [
      "Send notification\n",
      "Send SMS\n"
     ]
    }
   ],
   "source": [
    "class notifications:\n",
    "    def send(self):\n",
    "        print ('Send notification')\n",
    "class email(notifications):\n",
    "    def send1(self):                ## HERE the function is \"send1\" so it will return as 'Send notification'\n",
    "        print ('Send Email')\n",
    "class sms(notifications):\n",
    "    def send(self):\n",
    "        print ('Send SMS')\n",
    "        \n",
    "def notify(notifications):\n",
    "    notifications.send()\n",
    "\n",
    "notify(email())\n",
    "notify(sms())"
   ]
  },
  {
   "cell_type": "code",
   "execution_count": null,
   "id": "cb2de039-de23-4d0c-81e3-53c48c181ee3",
   "metadata": {},
   "outputs": [],
   "source": []
  },
  {
   "cell_type": "markdown",
   "id": "319a1a76-3fc1-4950-b33c-c345e76d1ef0",
   "metadata": {},
   "source": [
    "# ENCAPSULATION"
   ]
  },
  {
   "cell_type": "markdown",
   "id": "57302ce8-b760-46ab-92a7-f66d39eea270",
   "metadata": {},
   "source": [
    "## Attribute Encapsulation"
   ]
  },
  {
   "cell_type": "markdown",
   "id": "d4c62720-6af1-45cd-9984-964c780c6f2c",
   "metadata": {},
   "source": [
    "**IT HAS THREE PROPERTIES**\n",
    "\n",
    "**PUBLIC:**   self.name : accessible anywhere\n",
    "\n",
    "**PROTECTED:**   self._name : accessible within the class and subclasses\n",
    "\n",
    "**PRIVATE:**   self.__name : accessible within the Class only\n"
   ]
  },
  {
   "cell_type": "code",
   "execution_count": null,
   "id": "337fd071-6e3e-448a-87f5-701049a857ec",
   "metadata": {},
   "outputs": [],
   "source": []
  },
  {
   "cell_type": "markdown",
   "id": "1cf81a29-0e31-492d-9fe0-36e61a141295",
   "metadata": {},
   "source": [
    " **Example of PRIVATE ENCAPSULATION**"
   ]
  },
  {
   "cell_type": "code",
   "execution_count": 15,
   "id": "352982c6-a20b-4a6d-bd9e-7ff3d4d99a4e",
   "metadata": {},
   "outputs": [],
   "source": [
    "class Employee:\n",
    "    def __init__(self,name,salary):\n",
    "        self.__name = name\n",
    "        self.__salary = salary\n",
    "    def get_details(self):\n",
    "        print (self.__name,self.__salary)\n",
    "    def get_salary(self, new_salary):\n",
    "        if new_salary>10:\n",
    "            self.__salary= new_salary\n",
    "        else:\n",
    "            print(\"invalid input\")"
   ]
  },
  {
   "cell_type": "code",
   "execution_count": 17,
   "id": "8ca0a439-9ff5-45d6-ba5a-bd06f653a397",
   "metadata": {},
   "outputs": [],
   "source": [
    "emp= Employee('david',20)"
   ]
  },
  {
   "cell_type": "code",
   "execution_count": 19,
   "id": "9d577971-ba1c-491a-976e-89778aa8edba",
   "metadata": {},
   "outputs": [
    {
     "name": "stdout",
     "output_type": "stream",
     "text": [
      "david 20\n"
     ]
    }
   ],
   "source": [
    "emp.get_details()"
   ]
  },
  {
   "cell_type": "code",
   "execution_count": 23,
   "id": "3b1510c3-8737-428d-b194-2f4c39f9ac0e",
   "metadata": {},
   "outputs": [],
   "source": [
    "emp.get_salary(30) ## here new_salary has been stored"
   ]
  },
  {
   "cell_type": "code",
   "execution_count": 25,
   "id": "5b04efa8-0988-4f41-9c87-0f8a04d1bd69",
   "metadata": {},
   "outputs": [
    {
     "name": "stdout",
     "output_type": "stream",
     "text": [
      "david 30\n"
     ]
    }
   ],
   "source": [
    "emp.get_details()  ## so now the output of salary will be changed to 30 from 20"
   ]
  },
  {
   "cell_type": "code",
   "execution_count": null,
   "id": "d74e7c76-a6ae-4ba6-866b-4dd2c05cd716",
   "metadata": {},
   "outputs": [],
   "source": []
  },
  {
   "cell_type": "code",
   "execution_count": 28,
   "id": "0a580861-7553-4ee2-a8e2-d59b6387e867",
   "metadata": {},
   "outputs": [
    {
     "name": "stdout",
     "output_type": "stream",
     "text": [
      "Balance: 1300\n"
     ]
    }
   ],
   "source": [
    "class Bankaccount:\n",
    "    def __init__ (self, balance):\n",
    "        self.__balance = balance\n",
    "    def deposit (self,amount):\n",
    "        if amount > 0:\n",
    "            self.__balance += amount\n",
    "    def withdraw (self,amount):\n",
    "        if 0< amount <= self.__balance:\n",
    "            self.__balance -= amount\n",
    "        else: \n",
    "            print (\"insufficient balance\")\n",
    "\n",
    "    def get_balance(self):\n",
    "        return self.__balance\n",
    "\n",
    "acc = Bankaccount(1000)\n",
    "acc.deposit(500)\n",
    "acc.withdraw(200)\n",
    "print(\"Balance:\", acc.get_balance())"
   ]
  },
  {
   "cell_type": "code",
   "execution_count": 30,
   "id": "54342a85-1ab6-4ba5-a24d-ad85cf5360a5",
   "metadata": {},
   "outputs": [],
   "source": [
    "acc.deposit(100)"
   ]
  },
  {
   "cell_type": "code",
   "execution_count": 31,
   "id": "724852fd-9f38-465e-95e2-b8880f261bc3",
   "metadata": {},
   "outputs": [
    {
     "data": {
      "text/plain": [
       "1400"
      ]
     },
     "execution_count": 31,
     "metadata": {},
     "output_type": "execute_result"
    }
   ],
   "source": [
    "acc.get_balance()"
   ]
  },
  {
   "cell_type": "code",
   "execution_count": null,
   "id": "8ba97fb6-c399-4347-be78-ec396c6e238b",
   "metadata": {},
   "outputs": [],
   "source": []
  },
  {
   "cell_type": "code",
   "execution_count": 32,
   "id": "cc4d6c87-1fe0-4794-b51e-9c4e7ea4e32f",
   "metadata": {},
   "outputs": [
    {
     "name": "stdout",
     "output_type": "stream",
     "text": [
      "Soumyo's average grade is 87.50\n"
     ]
    }
   ],
   "source": [
    "class Student:\n",
    "    def __init__(self, name):\n",
    "        self.__name = name\n",
    "        self.__grades = []\n",
    "\n",
    "    def add_grade(self, grade):\n",
    "        if 0<= grade <= 100:\n",
    "            self.__grades.append(grade)\n",
    "\n",
    "    def get_average(self):\n",
    "        return sum(self.__grades) / len(self.__grades)\n",
    "\n",
    "    def get_name(self):\n",
    "        return self.__name\n",
    "\n",
    "\n",
    "st = Student(\"Soumyo\")\n",
    "st.add_grade(85)\n",
    "st.add_grade(90)\n",
    "print (f\"{st.get_name()}'s average grade is {st.get_average():.2f}\")"
   ]
  },
  {
   "cell_type": "code",
   "execution_count": null,
   "id": "4a3f9a85-b9f0-4b05-b5df-90569931ba9c",
   "metadata": {},
   "outputs": [],
   "source": []
  },
  {
   "cell_type": "code",
   "execution_count": 33,
   "id": "3c03522b-c927-4cb1-9c96-9a108c2ff738",
   "metadata": {},
   "outputs": [
    {
     "name": "stdout",
     "output_type": "stream",
     "text": [
      "Remaining stock: 7\n"
     ]
    }
   ],
   "source": [
    "class Product:\n",
    "    def __init__(self, name, stock):\n",
    "        self.__name = name\n",
    "        self.__stock = stock\n",
    "\n",
    "    def restock(self, quantity):\n",
    "        self.__stock += quantity\n",
    "\n",
    "    def sell(self, quantity):\n",
    "        if quantity <= self.__stock:\n",
    "            self.__stock -= quantity\n",
    "        else:\n",
    "            print(\"Insufficient stock\")\n",
    "\n",
    "    def get_stock(self):\n",
    "        return self.__stock\n",
    "\n",
    "\n",
    "product = Product(\"Laptop\", 10)\n",
    "product.restock(5)\n",
    "product.sell(8)\n",
    "print(\"Remaining stock:\", product.get_stock())\n"
   ]
  },
  {
   "cell_type": "code",
   "execution_count": null,
   "id": "c3e9bec8-ac6d-44e5-bd08-d776f20bb1a3",
   "metadata": {},
   "outputs": [],
   "source": []
  },
  {
   "cell_type": "markdown",
   "id": "987fc000-6590-4141-bf33-633e61f747fb",
   "metadata": {},
   "source": [
    " **Example of PROTECTED ENCAPSULATION**"
   ]
  },
  {
   "cell_type": "markdown",
   "id": "46a637cc-d8fa-45d5-ab5f-57220c9fc51c",
   "metadata": {},
   "source": []
  },
  {
   "cell_type": "code",
   "execution_count": 35,
   "id": "a63c2907-f207-492c-a7b0-3a98f189e017",
   "metadata": {},
   "outputs": [
    {
     "name": "stdout",
     "output_type": "stream",
     "text": [
      "Name: Soumyo, Age: 30\n"
     ]
    }
   ],
   "source": [
    "class Person:\n",
    "    def __init__ (self, name, age):\n",
    "        self.name = name            ## Public variable\n",
    "        self._age = age             ## Protected variable\n",
    "\n",
    "    def show(self):\n",
    "        print(f\"Name: {self.name}, Age: {self._age}\")\n",
    "\n",
    "p = Person(\"Soumyo\", 30)\n",
    "p.show()"
   ]
  },
  {
   "cell_type": "code",
   "execution_count": 36,
   "id": "fcb865fe-efde-4166-b0c7-e7d9d346d424",
   "metadata": {},
   "outputs": [
    {
     "data": {
      "text/plain": [
       "'Soumyo'"
      ]
     },
     "execution_count": 36,
     "metadata": {},
     "output_type": "execute_result"
    }
   ],
   "source": [
    "p.name"
   ]
  },
  {
   "cell_type": "code",
   "execution_count": 40,
   "id": "cba24a79-2300-4158-848c-18b840ed8d91",
   "metadata": {},
   "outputs": [
    {
     "data": {
      "text/plain": [
       "30"
      ]
     },
     "execution_count": 40,
     "metadata": {},
     "output_type": "execute_result"
    }
   ],
   "source": [
    "p._age"
   ]
  },
  {
   "cell_type": "code",
   "execution_count": null,
   "id": "66816de3-e6a9-455f-a25b-1db3919b8a3b",
   "metadata": {},
   "outputs": [],
   "source": []
  },
  {
   "cell_type": "markdown",
   "id": "57247c5a-a080-403b-b703-16c6942bf11d",
   "metadata": {},
   "source": [
    "## Method Encapsulation"
   ]
  },
  {
   "cell_type": "code",
   "execution_count": null,
   "id": "c6229ad2-5f2b-47ef-94fa-ac66d43dd9e5",
   "metadata": {},
   "outputs": [],
   "source": []
  },
  {
   "cell_type": "code",
   "execution_count": 45,
   "id": "2e4836a2-079d-4fe0-9b1a-2dae571d287e",
   "metadata": {},
   "outputs": [
    {
     "name": "stdout",
     "output_type": "stream",
     "text": [
      "PIN verified\n",
      "withdrawing cash\n"
     ]
    }
   ],
   "source": [
    "class ATM:\n",
    "    def __init__ (self,pin):\n",
    "        self.__pin = pin\n",
    "\n",
    "    def __verify_pin(self):            ## PRIVATE METHOD\n",
    "        print (\"PIN verified\")\n",
    "\n",
    "    def withdraw(self):\n",
    "        self.__verify_pin()           ## used internally\n",
    "        print (\"withdrawing cash\")\n",
    "\n",
    "atm = ATM(1234)\n",
    "atm.withdraw()"
   ]
  },
  {
   "cell_type": "code",
   "execution_count": null,
   "id": "584ce69f-ff99-4dfb-a07e-615174cb93e9",
   "metadata": {},
   "outputs": [],
   "source": []
  }
 ],
 "metadata": {
  "kernelspec": {
   "display_name": "Python 3 (ipykernel)",
   "language": "python",
   "name": "python3"
  },
  "language_info": {
   "codemirror_mode": {
    "name": "ipython",
    "version": 3
   },
   "file_extension": ".py",
   "mimetype": "text/x-python",
   "name": "python",
   "nbconvert_exporter": "python",
   "pygments_lexer": "ipython3",
   "version": "3.13.2"
  }
 },
 "nbformat": 4,
 "nbformat_minor": 5
}
