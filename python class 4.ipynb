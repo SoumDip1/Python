{
 "cells": [
  {
   "cell_type": "code",
   "execution_count": 3,
   "id": "c291470e-8f63-45d5-8428-ea57653e9586",
   "metadata": {},
   "outputs": [],
   "source": [
    "### BOOLEAN OPERATORS"
   ]
  },
  {
   "cell_type": "code",
   "execution_count": 4,
   "id": "e1f9fbef-8965-4bd8-a94b-603fe9e3b349",
   "metadata": {},
   "outputs": [
    {
     "data": {
      "text/plain": [
       "True"
      ]
     },
     "execution_count": 4,
     "metadata": {},
     "output_type": "execute_result"
    }
   ],
   "source": [
    "True"
   ]
  },
  {
   "cell_type": "code",
   "execution_count": 5,
   "id": "04e31d46-584e-4694-8bbb-2b6016f81506",
   "metadata": {},
   "outputs": [
    {
     "data": {
      "text/plain": [
       "False"
      ]
     },
     "execution_count": 5,
     "metadata": {},
     "output_type": "execute_result"
    }
   ],
   "source": [
    "False"
   ]
  },
  {
   "cell_type": "code",
   "execution_count": 6,
   "id": "3a363b3b-637e-402a-94ca-dbbf84436df3",
   "metadata": {},
   "outputs": [
    {
     "data": {
      "text/plain": [
       "2"
      ]
     },
     "execution_count": 6,
     "metadata": {},
     "output_type": "execute_result"
    }
   ],
   "source": [
    "True+1"
   ]
  },
  {
   "cell_type": "code",
   "execution_count": 7,
   "id": "1524e88d-6e7e-4ca4-9a5b-9130882c7db2",
   "metadata": {},
   "outputs": [
    {
     "data": {
      "text/plain": [
       "1"
      ]
     },
     "execution_count": 7,
     "metadata": {},
     "output_type": "execute_result"
    }
   ],
   "source": [
    "False+1"
   ]
  },
  {
   "cell_type": "code",
   "execution_count": 8,
   "id": "d1b5fa3d-c3dc-4667-ac3f-48dcfdf021af",
   "metadata": {},
   "outputs": [
    {
     "data": {
      "text/plain": [
       "0"
      ]
     },
     "execution_count": 8,
     "metadata": {},
     "output_type": "execute_result"
    }
   ],
   "source": [
    "True-1"
   ]
  },
  {
   "cell_type": "code",
   "execution_count": 9,
   "id": "376a8b02-a9a1-4438-b781-f57f1780c54a",
   "metadata": {},
   "outputs": [
    {
     "data": {
      "text/plain": [
       "-1"
      ]
     },
     "execution_count": 9,
     "metadata": {},
     "output_type": "execute_result"
    }
   ],
   "source": [
    "False-1"
   ]
  },
  {
   "cell_type": "code",
   "execution_count": null,
   "id": "1af8bf2c-a2e4-4c53-9fb8-926c338bae6f",
   "metadata": {},
   "outputs": [],
   "source": []
  },
  {
   "cell_type": "code",
   "execution_count": 10,
   "id": "9b99db8a-75ab-47bb-a81a-f56accf32d40",
   "metadata": {},
   "outputs": [],
   "source": [
    "### ARITHMATIC OPERATORS"
   ]
  },
  {
   "cell_type": "code",
   "execution_count": 12,
   "id": "0f567da3-1bd5-45ce-bebf-18410c8fae83",
   "metadata": {},
   "outputs": [
    {
     "name": "stdout",
     "output_type": "stream",
     "text": [
      "5\n"
     ]
    }
   ],
   "source": [
    "# adition\n",
    "a = 2\n",
    "b = 3\n",
    "print(a+b)"
   ]
  },
  {
   "cell_type": "code",
   "execution_count": 13,
   "id": "d87eac25-400c-41c8-8690-9769f6ca4ce9",
   "metadata": {},
   "outputs": [
    {
     "name": "stdout",
     "output_type": "stream",
     "text": [
      "-1\n"
     ]
    }
   ],
   "source": [
    "# substraction\n",
    "a = 2\n",
    "b = 3\n",
    "print(a-b)"
   ]
  },
  {
   "cell_type": "code",
   "execution_count": 14,
   "id": "1631d167-0762-4482-b899-3b799367bb28",
   "metadata": {},
   "outputs": [
    {
     "name": "stdout",
     "output_type": "stream",
     "text": [
      "6\n"
     ]
    }
   ],
   "source": [
    "# multiplication\n",
    "a = 2\n",
    "b = 3\n",
    "print(a*b)"
   ]
  },
  {
   "cell_type": "code",
   "execution_count": 16,
   "id": "a66d8211-1199-4b7f-a3d2-a8af412c69cb",
   "metadata": {},
   "outputs": [
    {
     "name": "stdout",
     "output_type": "stream",
     "text": [
      "1.5\n"
     ]
    }
   ],
   "source": [
    "# division\n",
    "a = 2\n",
    "b = 3\n",
    "print(b/a)"
   ]
  },
  {
   "cell_type": "code",
   "execution_count": 18,
   "id": "a722526a-5ff7-42d4-afea-316d7af6667f",
   "metadata": {},
   "outputs": [
    {
     "name": "stdout",
     "output_type": "stream",
     "text": [
      "1\n"
     ]
    }
   ],
   "source": [
    "# remainder\n",
    "a = 2\n",
    "b = 3\n",
    "print(b%a)"
   ]
  },
  {
   "cell_type": "code",
   "execution_count": 21,
   "id": "f8ab0438-6fa0-48e0-899b-3ab458dea113",
   "metadata": {},
   "outputs": [
    {
     "name": "stdout",
     "output_type": "stream",
     "text": [
      "2\n"
     ]
    }
   ],
   "source": [
    "# floor division (if the output is in float then it will return the lower value of the range in integer format)\n",
    "a = 7\n",
    "b = 3\n",
    "print(a//b)"
   ]
  },
  {
   "cell_type": "code",
   "execution_count": 22,
   "id": "3424b4d6-acdb-4058-a874-96190b1f65ab",
   "metadata": {},
   "outputs": [
    {
     "name": "stdout",
     "output_type": "stream",
     "text": [
      "8\n"
     ]
    }
   ],
   "source": [
    "# power\n",
    "a = 2\n",
    "b = 3\n",
    "print(a**b)"
   ]
  },
  {
   "cell_type": "code",
   "execution_count": null,
   "id": "7dfdebe2-b0b2-42c5-a948-9447ae5a31dc",
   "metadata": {},
   "outputs": [],
   "source": [
    "### COMPARISION OPERATORS"
   ]
  },
  {
   "cell_type": "code",
   "execution_count": 26,
   "id": "86b9ba69-ec51-40f0-ae56-816094ef4d53",
   "metadata": {},
   "outputs": [
    {
     "data": {
      "text/plain": [
       "(False, True, False, True, False, True)"
      ]
     },
     "execution_count": 26,
     "metadata": {},
     "output_type": "execute_result"
    }
   ],
   "source": [
    "x=10\n",
    "y=5\n",
    "(x<y),(x>y),(x<=y),(x>=y),(x==y),(x!=y)"
   ]
  },
  {
   "cell_type": "code",
   "execution_count": 32,
   "id": "51c429be-4eaf-4f97-a322-81c614aed00a",
   "metadata": {},
   "outputs": [
    {
     "data": {
      "text/plain": [
       "True"
      ]
     },
     "execution_count": 32,
     "metadata": {},
     "output_type": "execute_result"
    }
   ],
   "source": [
    "a=\"Data\"\n",
    "b=\"data\"\n",
    "a.title()==b.capitalize()"
   ]
  },
  {
   "cell_type": "code",
   "execution_count": null,
   "id": "e11fd89a-4de6-42b5-8874-8fb0227e0105",
   "metadata": {},
   "outputs": [],
   "source": []
  },
  {
   "cell_type": "code",
   "execution_count": null,
   "id": "7cb1311c-18e1-444c-b247-6c5cbcd56f82",
   "metadata": {},
   "outputs": [],
   "source": [
    "### LOGICAL OPERATORS"
   ]
  },
  {
   "cell_type": "code",
   "execution_count": 33,
   "id": "86bb96f4-373b-4780-9096-5016c1ac821d",
   "metadata": {},
   "outputs": [],
   "source": [
    "x=10\n",
    "y=20"
   ]
  },
  {
   "cell_type": "code",
   "execution_count": 34,
   "id": "eb2eb114-6f0c-45d2-9aa2-28951bc401ae",
   "metadata": {},
   "outputs": [
    {
     "data": {
      "text/plain": [
       "False"
      ]
     },
     "execution_count": 34,
     "metadata": {},
     "output_type": "execute_result"
    }
   ],
   "source": [
    "x>y and x<y"
   ]
  },
  {
   "cell_type": "code",
   "execution_count": 35,
   "id": "a5ae6ebe-2a81-4050-891e-ad46a7e1afd3",
   "metadata": {},
   "outputs": [
    {
     "data": {
      "text/plain": [
       "True"
      ]
     },
     "execution_count": 35,
     "metadata": {},
     "output_type": "execute_result"
    }
   ],
   "source": [
    "x>y or x<y"
   ]
  },
  {
   "cell_type": "code",
   "execution_count": 36,
   "id": "69642f23-9911-4ce9-961b-e5659f3c12e6",
   "metadata": {},
   "outputs": [
    {
     "name": "stdout",
     "output_type": "stream",
     "text": [
      "True\n",
      "False\n",
      "False\n",
      "False\n"
     ]
    }
   ],
   "source": [
    "print (True and True)\n",
    "print (True and False)\n",
    "print (False and True)\n",
    "print (False and False)"
   ]
  },
  {
   "cell_type": "code",
   "execution_count": 37,
   "id": "21eca297-204f-4fed-b452-c42d858b52b8",
   "metadata": {},
   "outputs": [
    {
     "name": "stdout",
     "output_type": "stream",
     "text": [
      "True\n",
      "True\n",
      "True\n",
      "False\n"
     ]
    }
   ],
   "source": [
    "print (True or True)\n",
    "print (True or False)\n",
    "print (False or True)\n",
    "print (False or False)"
   ]
  },
  {
   "cell_type": "code",
   "execution_count": 39,
   "id": "5b906654-07d5-4946-93ed-f51fb1a0e763",
   "metadata": {},
   "outputs": [
    {
     "name": "stdout",
     "output_type": "stream",
     "text": [
      "False\n",
      "False\n",
      "False\n",
      "True\n"
     ]
    }
   ],
   "source": [
    "print (not(True or True))\n",
    "print (not(True or False))\n",
    "print (not(False or True))\n",
    "print (not(False or False))"
   ]
  },
  {
   "cell_type": "code",
   "execution_count": null,
   "id": "d2f3713e-2912-4135-807d-0c1ed62e2335",
   "metadata": {},
   "outputs": [],
   "source": []
  },
  {
   "cell_type": "code",
   "execution_count": null,
   "id": "1d1ddaa4-34b3-4277-92c1-174528ba250d",
   "metadata": {},
   "outputs": [],
   "source": [
    "### IDENTITY OPERATORS or ### MEMBERSHIP OPERATORS"
   ]
  },
  {
   "cell_type": "code",
   "execution_count": null,
   "id": "6233f113-e845-4d3a-bdab-9fd9657bd308",
   "metadata": {},
   "outputs": [],
   "source": [
    "is, is not, in, not in"
   ]
  },
  {
   "cell_type": "code",
   "execution_count": 42,
   "id": "091d45f1-509b-45f3-901d-fab24823f216",
   "metadata": {},
   "outputs": [
    {
     "data": {
      "text/plain": [
       "False"
      ]
     },
     "execution_count": 42,
     "metadata": {},
     "output_type": "execute_result"
    }
   ],
   "source": [
    "x=10\n",
    "y=20\n",
    "x is y"
   ]
  },
  {
   "cell_type": "code",
   "execution_count": 43,
   "id": "f83760c8-26ae-4d4e-b56f-cf0bbffef6c6",
   "metadata": {},
   "outputs": [
    {
     "data": {
      "text/plain": [
       "True"
      ]
     },
     "execution_count": 43,
     "metadata": {},
     "output_type": "execute_result"
    }
   ],
   "source": [
    "x is not y"
   ]
  },
  {
   "cell_type": "code",
   "execution_count": 51,
   "id": "ea7ec3b7-9325-422b-8bf7-2cfc403688ae",
   "metadata": {},
   "outputs": [
    {
     "data": {
      "text/plain": [
       "False"
      ]
     },
     "execution_count": 51,
     "metadata": {},
     "output_type": "execute_result"
    }
   ],
   "source": [
    "x = [1,2,3]\n",
    "y = x\n",
    "z = [1,2,3]\n",
    "\n",
    "x is z  ### it is refering to the location not to the value"
   ]
  },
  {
   "cell_type": "code",
   "execution_count": 48,
   "id": "5a4bdb8f-2d18-461d-b1a6-4eb747eb6e2c",
   "metadata": {},
   "outputs": [
    {
     "data": {
      "text/plain": [
       "True"
      ]
     },
     "execution_count": 48,
     "metadata": {},
     "output_type": "execute_result"
    }
   ],
   "source": [
    "x = [1,2,3]\n",
    "y = x\n",
    "\n",
    "x is y"
   ]
  },
  {
   "cell_type": "code",
   "execution_count": 52,
   "id": "76dc34a2-3198-414b-baff-1ebaa4b04cf6",
   "metadata": {},
   "outputs": [
    {
     "data": {
      "text/plain": [
       "True"
      ]
     },
     "execution_count": 52,
     "metadata": {},
     "output_type": "execute_result"
    }
   ],
   "source": [
    "\"data\" in \"data science\""
   ]
  },
  {
   "cell_type": "code",
   "execution_count": 53,
   "id": "450624f7-4f1d-49d8-a6cb-8d53bbd9639a",
   "metadata": {},
   "outputs": [
    {
     "data": {
      "text/plain": [
       "True"
      ]
     },
     "execution_count": 53,
     "metadata": {},
     "output_type": "execute_result"
    }
   ],
   "source": [
    "\"data \" in \"data science\""
   ]
  },
  {
   "cell_type": "code",
   "execution_count": 54,
   "id": "f84f3c31-4227-471d-8961-3311a76fa010",
   "metadata": {},
   "outputs": [
    {
     "data": {
      "text/plain": [
       "False"
      ]
     },
     "execution_count": 54,
     "metadata": {},
     "output_type": "execute_result"
    }
   ],
   "source": [
    "\"data  \" in \"data science\""
   ]
  },
  {
   "cell_type": "code",
   "execution_count": 55,
   "id": "455ff706-c06f-4dca-9616-50cab2f3db39",
   "metadata": {},
   "outputs": [
    {
     "data": {
      "text/plain": [
       "True"
      ]
     },
     "execution_count": 55,
     "metadata": {},
     "output_type": "execute_result"
    }
   ],
   "source": [
    "\"data  \" not in \"data science\""
   ]
  },
  {
   "cell_type": "code",
   "execution_count": null,
   "id": "d879b022-9c3e-4620-8613-72a8f1331e9f",
   "metadata": {},
   "outputs": [],
   "source": [
    "### BINARY conversion"
   ]
  },
  {
   "cell_type": "code",
   "execution_count": 56,
   "id": "deb9d1ce-99c6-4161-9569-f0bf47758c70",
   "metadata": {},
   "outputs": [
    {
     "data": {
      "text/plain": [
       "'0b10111'"
      ]
     },
     "execution_count": 56,
     "metadata": {},
     "output_type": "execute_result"
    }
   ],
   "source": [
    "bin(23)"
   ]
  },
  {
   "cell_type": "code",
   "execution_count": 57,
   "id": "04d6004f-f4ad-4f84-8af0-fe1aec27a8fa",
   "metadata": {},
   "outputs": [
    {
     "data": {
      "text/plain": [
       "('0b11110', '0b11111')"
      ]
     },
     "execution_count": 57,
     "metadata": {},
     "output_type": "execute_result"
    }
   ],
   "source": [
    "bin(30), bin(31)"
   ]
  },
  {
   "cell_type": "code",
   "execution_count": null,
   "id": "a1975fb9-24e5-4247-b4e6-8e60dce86c6e",
   "metadata": {},
   "outputs": [],
   "source": [
    "### BITWISE OPERATORS"
   ]
  },
  {
   "cell_type": "code",
   "execution_count": null,
   "id": "5d4d7d6b-316c-44b5-a3ab-724c96bcf69f",
   "metadata": {},
   "outputs": [],
   "source": [
    "# 11110 and 11111 = 11110 = 30\n",
    "# 11110 or 11111 = 11111 = 31"
   ]
  },
  {
   "cell_type": "code",
   "execution_count": 60,
   "id": "25767dae-fa07-4f6f-898f-559fb111cdd3",
   "metadata": {},
   "outputs": [
    {
     "data": {
      "text/plain": [
       "30"
      ]
     },
     "execution_count": 60,
     "metadata": {},
     "output_type": "execute_result"
    }
   ],
   "source": [
    "30 & 31"
   ]
  },
  {
   "cell_type": "code",
   "execution_count": 61,
   "id": "c8376428-2fa3-48bf-9814-ae3956b7d913",
   "metadata": {},
   "outputs": [
    {
     "data": {
      "text/plain": [
       "31"
      ]
     },
     "execution_count": 61,
     "metadata": {},
     "output_type": "execute_result"
    }
   ],
   "source": [
    "30 | 31"
   ]
  },
  {
   "cell_type": "code",
   "execution_count": 62,
   "id": "d36b7b48-870d-46f7-9fbd-14f62de5c7b5",
   "metadata": {},
   "outputs": [
    {
     "data": {
      "text/plain": [
       "'0b10101'"
      ]
     },
     "execution_count": 62,
     "metadata": {},
     "output_type": "execute_result"
    }
   ],
   "source": [
    "bin(21)"
   ]
  },
  {
   "cell_type": "code",
   "execution_count": 63,
   "id": "085c2306-a774-4f46-8604-cff3f9623ca6",
   "metadata": {},
   "outputs": [
    {
     "data": {
      "text/plain": [
       "'0b100101'"
      ]
     },
     "execution_count": 63,
     "metadata": {},
     "output_type": "execute_result"
    }
   ],
   "source": [
    "bin(37)"
   ]
  },
  {
   "cell_type": "code",
   "execution_count": 64,
   "id": "447ea3be-2ed7-46c0-92ef-b43ac3054ddd",
   "metadata": {},
   "outputs": [
    {
     "data": {
      "text/plain": [
       "5"
      ]
     },
     "execution_count": 64,
     "metadata": {},
     "output_type": "execute_result"
    }
   ],
   "source": [
    "21 & 37"
   ]
  },
  {
   "cell_type": "code",
   "execution_count": 67,
   "id": "c46e83da-a625-4c1f-ad88-6e67e2767d5c",
   "metadata": {},
   "outputs": [
    {
     "data": {
      "text/plain": [
       "'0b101'"
      ]
     },
     "execution_count": 67,
     "metadata": {},
     "output_type": "execute_result"
    }
   ],
   "source": [
    "bin (5)"
   ]
  },
  {
   "cell_type": "code",
   "execution_count": 68,
   "id": "87856f80-e283-434c-8494-a758d0753388",
   "metadata": {},
   "outputs": [
    {
     "data": {
      "text/plain": [
       "53"
      ]
     },
     "execution_count": 68,
     "metadata": {},
     "output_type": "execute_result"
    }
   ],
   "source": [
    "21 | 37"
   ]
  },
  {
   "cell_type": "code",
   "execution_count": 69,
   "id": "a49efc73-2d8b-47cd-8fbe-fcda73bee597",
   "metadata": {},
   "outputs": [
    {
     "data": {
      "text/plain": [
       "'0b110101'"
      ]
     },
     "execution_count": 69,
     "metadata": {},
     "output_type": "execute_result"
    }
   ],
   "source": [
    "bin(53)"
   ]
  },
  {
   "cell_type": "code",
   "execution_count": null,
   "id": "1f64b39c-1db6-4e05-a395-d52cc52bbbe8",
   "metadata": {},
   "outputs": [],
   "source": [
    "### CONDITIONAL STATEMENT"
   ]
  },
  {
   "cell_type": "code",
   "execution_count": null,
   "id": "f8c68415-0b2a-4386-a13d-5aef6db29b8e",
   "metadata": {},
   "outputs": [],
   "source": [
    "### IF STATEMENT"
   ]
  },
  {
   "cell_type": "code",
   "execution_count": 73,
   "id": "034309e0-eb32-443f-b9e9-ba45f2a23d66",
   "metadata": {},
   "outputs": [],
   "source": [
    "x = \"data science\"\n",
    "if x.isalpha():\n",
    "    print (\"test\")"
   ]
  },
  {
   "cell_type": "code",
   "execution_count": 74,
   "id": "f9defd9b-967d-4909-ad8d-396666fcd785",
   "metadata": {},
   "outputs": [
    {
     "name": "stdout",
     "output_type": "stream",
     "text": [
      "test\n"
     ]
    }
   ],
   "source": [
    "x = \"datascience\"\n",
    "if x.isalpha():\n",
    "    print (\"test\")"
   ]
  },
  {
   "cell_type": "code",
   "execution_count": 75,
   "id": "113388de-dc2a-45be-bfbb-1bb3f429fcfa",
   "metadata": {},
   "outputs": [
    {
     "name": "stdout",
     "output_type": "stream",
     "text": [
      "test\n"
     ]
    }
   ],
   "source": [
    "x = \"123\"\n",
    "if x.isalnum():\n",
    "    print (\"test\")"
   ]
  },
  {
   "cell_type": "code",
   "execution_count": 76,
   "id": "3692f1b9-a6ca-4e91-9038-94f57f69c5d0",
   "metadata": {},
   "outputs": [],
   "source": [
    " x = \"123\"\n",
    "if x.isalnum() and len(x)>5:\n",
    "    print (\"test\")"
   ]
  },
  {
   "cell_type": "code",
   "execution_count": null,
   "id": "5ba9858b-1c1e-4d06-b05f-a14bd0e03a80",
   "metadata": {},
   "outputs": [],
   "source": [
    "### IF ElSE STATEMENT"
   ]
  },
  {
   "cell_type": "code",
   "execution_count": 79,
   "id": "8f5d757a-fe9f-4994-86b7-3bba40227813",
   "metadata": {},
   "outputs": [
    {
     "name": "stdout",
     "output_type": "stream",
     "text": [
      "Edukron\n"
     ]
    }
   ],
   "source": [
    "x = \"data\"\n",
    "if x.startswith(\"D\"):\n",
    "    print (\"test\")\n",
    "else:\n",
    "    print (\"Edukron\")"
   ]
  },
  {
   "cell_type": "code",
   "execution_count": 80,
   "id": "6fd65a18-e781-40c4-b5e3-3574eb07540f",
   "metadata": {},
   "outputs": [
    {
     "name": "stdout",
     "output_type": "stream",
     "text": [
      "Login successful\n"
     ]
    }
   ],
   "source": [
    "username = \"admin\"\n",
    "password = \"admin123\"\n",
    "if username == \"admin\" and password == \"admin123\":\n",
    "    print (\"Login successful\")\n",
    "else:\n",
    "    print (\"Login unsuccessful\")"
   ]
  },
  {
   "cell_type": "code",
   "execution_count": 81,
   "id": "a6cfd30c-c3e8-4987-b571-5779519835a1",
   "metadata": {},
   "outputs": [
    {
     "name": "stdin",
     "output_type": "stream",
     "text": [
      " admin\n",
      " admin1234\n"
     ]
    },
    {
     "name": "stdout",
     "output_type": "stream",
     "text": [
      "Login unsuccessful\n"
     ]
    }
   ],
   "source": [
    "username = input()\n",
    "password = input()\n",
    "if username == \"admin\" and password == \"admin123\":\n",
    "    print (\"Login successful\")\n",
    "else:\n",
    "    print (\"Login unsuccessful\")"
   ]
  },
  {
   "cell_type": "code",
   "execution_count": 82,
   "id": "39051f31-2505-445c-8956-c17970c644b8",
   "metadata": {},
   "outputs": [
    {
     "name": "stdout",
     "output_type": "stream",
     "text": [
      "10 210\n"
     ]
    }
   ],
   "source": [
    "x = 10\n",
    "y = 20\n",
    "if x>y:\n",
    "    x = 200+y\n",
    "else:\n",
    "    y = 200+x\n",
    "print (x,y)"
   ]
  },
  {
   "cell_type": "code",
   "execution_count": 1,
   "id": "42bfb234-1fe2-47f2-8a7c-cdca8d6ff033",
   "metadata": {},
   "outputs": [
    {
     "name": "stdout",
     "output_type": "stream",
     "text": [
      "15 13\n"
     ]
    }
   ],
   "source": [
    " x = 10\n",
    " y = 20\n",
    "if x>5:\n",
    "    x=x+5\n",
    "    y=x-2\n",
    "    x=y+2\n",
    "else:\n",
    "    x=x+1\n",
    "    y=y+2\n",
    "print(x,y)"
   ]
  },
  {
   "cell_type": "code",
   "execution_count": 2,
   "id": "ad597465-0755-4230-a116-930f3de8a38a",
   "metadata": {},
   "outputs": [
    {
     "name": "stdout",
     "output_type": "stream",
     "text": [
      "Example : 2 9\n"
     ]
    }
   ],
   "source": [
    "a = 2\n",
    "b = 18\n",
    "if b % a == 0:\n",
    "    b = b//a\n",
    "else:\n",
    "    a = b % a\n",
    "print (\"Example :\", a,b)"
   ]
  },
  {
   "cell_type": "code",
   "execution_count": null,
   "id": "1fd76c7f-b9bb-445a-b6ee-36d7e4f5910c",
   "metadata": {},
   "outputs": [],
   "source": [
    "### FOR LOOP"
   ]
  },
  {
   "cell_type": "code",
   "execution_count": 3,
   "id": "5f502805-6788-4318-a0a0-3efd13647a78",
   "metadata": {},
   "outputs": [
    {
     "name": "stdout",
     "output_type": "stream",
     "text": [
      "d\n",
      "a\n",
      "t\n",
      "a\n"
     ]
    }
   ],
   "source": [
    " x = \"data\"\n",
    "for i in x:\n",
    "    print(i)"
   ]
  },
  {
   "cell_type": "code",
   "execution_count": 4,
   "id": "b5efaeb3-50e7-4d26-875d-7e402a22b9f6",
   "metadata": {},
   "outputs": [
    {
     "name": "stdout",
     "output_type": "stream",
     "text": [
      "D\n",
      "A\n",
      "T\n",
      "A\n"
     ]
    }
   ],
   "source": [
    " x = \"data\"\n",
    "for i in x:\n",
    "    print(i.upper())"
   ]
  },
  {
   "cell_type": "code",
   "execution_count": 5,
   "id": "afd64086-3de4-4866-b263-8e7a20648a7b",
   "metadata": {},
   "outputs": [
    {
     "name": "stdout",
     "output_type": "stream",
     "text": [
      "True\n",
      "True\n",
      "True\n",
      "True\n"
     ]
    }
   ],
   "source": [
    " x = \"data\"\n",
    "for i in x:\n",
    "    print(i.isalpha())"
   ]
  },
  {
   "cell_type": "code",
   "execution_count": 7,
   "id": "e22a6a91-7d89-4542-823e-6a9241180c89",
   "metadata": {},
   "outputs": [
    {
     "name": "stdout",
     "output_type": "stream",
     "text": [
      "True\n",
      "True\n",
      "True\n",
      "True\n",
      "False\n"
     ]
    }
   ],
   "source": [
    " x = \"data8\"\n",
    "for i in x:\n",
    "    print(i.isalpha())"
   ]
  },
  {
   "cell_type": "code",
   "execution_count": 9,
   "id": "489af5a7-c019-4c81-85ef-ff6477a54411",
   "metadata": {},
   "outputs": [
    {
     "name": "stdout",
     "output_type": "stream",
     "text": [
      "1\n",
      "1\n",
      "1\n",
      "2\n",
      "1\n",
      "3\n",
      "4\n",
      "data\n",
      "17\n",
      "[4, 5, 6, 'data']\n"
     ]
    }
   ],
   "source": [
    "x = [1,2,3,\"data\",[4,5,6,\"data\"]]\n",
    "for i in x:\n",
    "    print(len(str(i)))\n",
    "    print (str(i))"
   ]
  },
  {
   "cell_type": "code",
   "execution_count": 12,
   "id": "d258f6cd-d9c1-4acb-bcca-6b77b9f07dd6",
   "metadata": {},
   "outputs": [
    {
     "name": "stdout",
     "output_type": "stream",
     "text": [
      "4\n",
      "7\n",
      "7\n",
      "8\n"
     ]
    }
   ],
   "source": [
    "x = \"data science machine learning\"\n",
    "for i in x.split():\n",
    "    print (len(i))"
   ]
  },
  {
   "cell_type": "code",
   "execution_count": 13,
   "id": "2029f813-a59e-441c-bc8b-2b9a524d8c40",
   "metadata": {},
   "outputs": [
    {
     "name": "stdout",
     "output_type": "stream",
     "text": [
      "*\n",
      "**\n",
      "***\n",
      "****\n",
      "*****\n"
     ]
    }
   ],
   "source": [
    "for i in [1,2,3,4,5]:\n",
    "    print(\"*\"*i)"
   ]
  },
  {
   "cell_type": "code",
   "execution_count": 14,
   "id": "25114bbe-d7c1-4cf6-b8ed-54af8398a693",
   "metadata": {},
   "outputs": [
    {
     "name": "stdout",
     "output_type": "stream",
     "text": [
      "*****\n",
      "****\n",
      "***\n",
      "**\n",
      "*\n"
     ]
    }
   ],
   "source": [
    "for i in [1,2,3,4,5]:\n",
    "    print(\"*\"*(6-i))"
   ]
  },
  {
   "cell_type": "code",
   "execution_count": 8,
   "id": "69a9cc74-e208-47b0-b034-76d1e304994e",
   "metadata": {},
   "outputs": [
    {
     "name": "stdout",
     "output_type": "stream",
     "text": [
      "*\n",
      "**\n",
      "***\n",
      "****\n",
      "*****\n",
      "****\n",
      "***\n",
      "**\n",
      "*\n"
     ]
    }
   ],
   "source": [
    "n=5\n",
    "for i in range(1, 10):\n",
    "    if i <= n:\n",
    "        print('*' * i)  \n",
    "    else:\n",
    "        print('*' *(10 - i))  "
   ]
  },
  {
   "cell_type": "code",
   "execution_count": 40,
   "id": "2ad94552-3767-47ad-add8-9f4118a2d9ee",
   "metadata": {},
   "outputs": [
    {
     "name": "stdout",
     "output_type": "stream",
     "text": [
      "1 2 3 4 5 "
     ]
    }
   ],
   "source": [
    "for i in range(1,6):\n",
    "    print (i, end=' ')  "
   ]
  },
  {
   "cell_type": "code",
   "execution_count": 41,
   "id": "2b3f1ac6-cf76-4ffd-9832-081277ee0148",
   "metadata": {},
   "outputs": [
    {
     "name": "stdout",
     "output_type": "stream",
     "text": [
      "1 3 5 "
     ]
    }
   ],
   "source": [
    "for i in range(1,6,2):\n",
    "    print (i, end=' ')  "
   ]
  },
  {
   "cell_type": "code",
   "execution_count": 73,
   "id": "15486070-2628-4f74-8d51-9a469c77a8fb",
   "metadata": {},
   "outputs": [
    {
     "name": "stdout",
     "output_type": "stream",
     "text": [
      "     *\n",
      "    **\n",
      "   ***\n",
      "  ****\n",
      " *****\n"
     ]
    }
   ],
   "source": [
    "for i in range (1,6):\n",
    "    print ((6-i)*\" \"+i*\"*\")"
   ]
  },
  {
   "cell_type": "code",
   "execution_count": null,
   "id": "7568a74f-9695-4b0c-8f6e-0a57045f403d",
   "metadata": {},
   "outputs": [],
   "source": [
    "\n",
    "     *\n",
    "    * *\n",
    "   * * *\n",
    "  * * * *\n",
    " * * * * *\n"
   ]
  },
  {
   "cell_type": "code",
   "execution_count": 19,
   "id": "62af5576-089a-4c36-be1c-ad1da5cd1bd9",
   "metadata": {},
   "outputs": [
    {
     "name": "stdout",
     "output_type": "stream",
     "text": [
      "    * \n",
      "   * * \n",
      "  * * * \n",
      " * * * * \n",
      "* * * * * \n"
     ]
    }
   ],
   "source": [
    "n = 5\n",
    "for i in range (1,n+1):\n",
    "    spaces = n-i\n",
    "    stars = i\n",
    "    print (' '*spaces+\"* \"*stars)"
   ]
  },
  {
   "cell_type": "code",
   "execution_count": 20,
   "id": "108c2174-79e7-49a2-ae95-589c5f9dc91e",
   "metadata": {},
   "outputs": [
    {
     "name": "stdout",
     "output_type": "stream",
     "text": [
      "    * \n",
      "   * * \n",
      "  * * * \n",
      " * * * * \n",
      "* * * * * \n"
     ]
    }
   ],
   "source": [
    "n = 5  # Number of rows\n",
    "\n",
    "for i in range(1, n + 1):\n",
    "    spaces = ' ' * (n - i)\n",
    "    stars = '* ' * i\n",
    "    print(spaces + stars)\n",
    "\n"
   ]
  },
  {
   "cell_type": "code",
   "execution_count": null,
   "id": "3675cc0a-9574-42b6-adb0-d7f1a87efb2d",
   "metadata": {},
   "outputs": [],
   "source": []
  }
 ],
 "metadata": {
  "kernelspec": {
   "display_name": "Python 3 (ipykernel)",
   "language": "python",
   "name": "python3"
  },
  "language_info": {
   "codemirror_mode": {
    "name": "ipython",
    "version": 3
   },
   "file_extension": ".py",
   "mimetype": "text/x-python",
   "name": "python",
   "nbconvert_exporter": "python",
   "pygments_lexer": "ipython3",
   "version": "3.13.2"
  }
 },
 "nbformat": 4,
 "nbformat_minor": 5
}
