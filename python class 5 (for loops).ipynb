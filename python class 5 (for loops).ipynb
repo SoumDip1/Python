{
 "cells": [
  {
   "cell_type": "code",
   "execution_count": 1,
   "id": "c291470e-8f63-45d5-8428-ea57653e9586",
   "metadata": {},
   "outputs": [
    {
     "name": "stdout",
     "output_type": "stream",
     "text": [
      "2\n",
      "3\n",
      "4\n",
      "5\n"
     ]
    }
   ],
   "source": [
    "x = \"data\"\n",
    "for i in range (0,len(x)):\n",
    "    print (i+2)"
   ]
  },
  {
   "cell_type": "code",
   "execution_count": 59,
   "id": "298c5671-b2da-404a-8f10-61f0e78893b5",
   "metadata": {},
   "outputs": [],
   "source": [
    "review = \"The refrigerator works well The design 999 00 of the refrigerator is good . The cooling is great . It has low noise. The storage capacity is also as mentioned. The only flaw as per me was that the Vegetable box is slanting at the back and loses on storage space. To accomodate that space the lower bottle rack has been removed. It's not a deal breaker for me so ok.Consider that when buying. other than that it is awesome.\""
   ]
  },
  {
   "cell_type": "code",
   "execution_count": 60,
   "id": "8f8bb303-3f3a-483e-a939-2fe0631775c2",
   "metadata": {},
   "outputs": [
    {
     "data": {
      "text/plain": [
       "\"The refrigerator works well The design 999 00 of the refrigerator is good . The cooling is great . It has low noise. The storage capacity is also as mentioned. The only flaw as per me was that the Vegetable box is slanting at the back and loses on storage space. To accomodate that space the lower bottle rack has been removed. It's not a deal breaker for me so ok.Consider that when buying. other than that it is awesome.\""
      ]
     },
     "execution_count": 60,
     "metadata": {},
     "output_type": "execute_result"
    }
   ],
   "source": [
    "review"
   ]
  },
  {
   "cell_type": "code",
   "execution_count": 61,
   "id": "3581e626-d462-4e1b-b5d6-c2b474149991",
   "metadata": {},
   "outputs": [
    {
     "data": {
      "text/plain": [
       "422"
      ]
     },
     "execution_count": 61,
     "metadata": {},
     "output_type": "execute_result"
    }
   ],
   "source": [
    "len(review)"
   ]
  },
  {
   "cell_type": "code",
   "execution_count": null,
   "id": "4a5cac83-582a-4e27-877d-921f14ed10b3",
   "metadata": {},
   "outputs": [],
   "source": []
  },
  {
   "cell_type": "code",
   "execution_count": 62,
   "id": "eefba77a-711c-443b-a1b3-2fdde93cae31",
   "metadata": {},
   "outputs": [
    {
     "name": "stdout",
     "output_type": "stream",
     "text": [
      "T\n",
      "h\n",
      "e\n",
      "r\n",
      "e\n",
      "f\n",
      "r\n",
      "i\n",
      "g\n",
      "e\n",
      "r\n",
      "a\n",
      "t\n",
      "o\n",
      "r\n",
      "w\n",
      "o\n",
      "r\n",
      "k\n",
      "s\n",
      "w\n",
      "e\n",
      "l\n",
      "l\n",
      "T\n",
      "h\n",
      "e\n",
      "d\n",
      "e\n",
      "s\n",
      "i\n",
      "g\n",
      "n\n",
      "o\n",
      "f\n",
      "t\n",
      "h\n",
      "e\n",
      "r\n",
      "e\n",
      "f\n",
      "r\n",
      "i\n",
      "g\n",
      "e\n",
      "r\n",
      "a\n",
      "t\n",
      "o\n",
      "r\n",
      "i\n",
      "s\n",
      "g\n",
      "o\n",
      "o\n",
      "d\n",
      "T\n",
      "h\n",
      "e\n",
      "c\n",
      "o\n",
      "o\n",
      "l\n",
      "i\n",
      "n\n",
      "g\n",
      "i\n",
      "s\n",
      "g\n",
      "r\n",
      "e\n",
      "a\n",
      "t\n",
      "I\n",
      "t\n",
      "h\n",
      "a\n",
      "s\n",
      "l\n",
      "o\n",
      "w\n",
      "n\n",
      "o\n",
      "i\n",
      "s\n",
      "e\n",
      "T\n",
      "h\n",
      "e\n",
      "s\n",
      "t\n",
      "o\n",
      "r\n",
      "a\n",
      "g\n",
      "e\n",
      "c\n",
      "a\n",
      "p\n",
      "a\n",
      "c\n",
      "i\n",
      "t\n",
      "y\n",
      "i\n",
      "s\n",
      "a\n",
      "l\n",
      "s\n",
      "o\n",
      "a\n",
      "s\n",
      "m\n",
      "e\n",
      "n\n",
      "t\n",
      "i\n",
      "o\n",
      "n\n",
      "e\n",
      "d\n",
      "T\n",
      "h\n",
      "e\n",
      "o\n",
      "n\n",
      "l\n",
      "y\n",
      "f\n",
      "l\n",
      "a\n",
      "w\n",
      "a\n",
      "s\n",
      "p\n",
      "e\n",
      "r\n",
      "m\n",
      "e\n",
      "w\n",
      "a\n",
      "s\n",
      "t\n",
      "h\n",
      "a\n",
      "t\n",
      "t\n",
      "h\n",
      "e\n",
      "V\n",
      "e\n",
      "g\n",
      "e\n",
      "t\n",
      "a\n",
      "b\n",
      "l\n",
      "e\n",
      "b\n",
      "o\n",
      "x\n",
      "i\n",
      "s\n",
      "s\n",
      "l\n",
      "a\n",
      "n\n",
      "t\n",
      "i\n",
      "n\n",
      "g\n",
      "a\n",
      "t\n",
      "t\n",
      "h\n",
      "e\n",
      "b\n",
      "a\n",
      "c\n",
      "k\n",
      "a\n",
      "n\n",
      "d\n",
      "l\n",
      "o\n",
      "s\n",
      "e\n",
      "s\n",
      "o\n",
      "n\n",
      "s\n",
      "t\n",
      "o\n",
      "r\n",
      "a\n",
      "g\n",
      "e\n",
      "s\n",
      "p\n",
      "a\n",
      "c\n",
      "e\n",
      "T\n",
      "o\n",
      "a\n",
      "c\n",
      "c\n",
      "o\n",
      "m\n",
      "o\n",
      "d\n",
      "a\n",
      "t\n",
      "e\n",
      "t\n",
      "h\n",
      "a\n",
      "t\n",
      "s\n",
      "p\n",
      "a\n",
      "c\n",
      "e\n",
      "t\n",
      "h\n",
      "e\n",
      "l\n",
      "o\n",
      "w\n",
      "e\n",
      "r\n",
      "b\n",
      "o\n",
      "t\n",
      "t\n",
      "l\n",
      "e\n",
      "r\n",
      "a\n",
      "c\n",
      "k\n",
      "h\n",
      "a\n",
      "s\n",
      "b\n",
      "e\n",
      "e\n",
      "n\n",
      "r\n",
      "e\n",
      "m\n",
      "o\n",
      "v\n",
      "e\n",
      "d\n",
      "I\n",
      "t\n",
      "s\n",
      "n\n",
      "o\n",
      "t\n",
      "a\n",
      "d\n",
      "e\n",
      "a\n",
      "l\n",
      "b\n",
      "r\n",
      "e\n",
      "a\n",
      "k\n",
      "e\n",
      "r\n",
      "f\n",
      "o\n",
      "r\n",
      "m\n",
      "e\n",
      "s\n",
      "o\n",
      "o\n",
      "k\n",
      "C\n",
      "o\n",
      "n\n",
      "s\n",
      "i\n",
      "d\n",
      "e\n",
      "r\n",
      "t\n",
      "h\n",
      "a\n",
      "t\n",
      "w\n",
      "h\n",
      "e\n",
      "n\n",
      "b\n",
      "u\n",
      "y\n",
      "i\n",
      "n\n",
      "g\n",
      "o\n",
      "t\n",
      "h\n",
      "e\n",
      "r\n",
      "t\n",
      "h\n",
      "a\n",
      "n\n",
      "t\n",
      "h\n",
      "a\n",
      "t\n",
      "i\n",
      "t\n",
      "i\n",
      "s\n",
      "a\n",
      "w\n",
      "e\n",
      "s\n",
      "o\n",
      "m\n",
      "e\n"
     ]
    }
   ],
   "source": [
    "# TO GET THE LETTERS \n",
    "count = 0\n",
    "len(review), count\n",
    "for i in review:\n",
    "    # print (i)\n",
    "    if i.isalpha():\n",
    "        print (i)\n",
    "        count= count+1"
   ]
  },
  {
   "cell_type": "code",
   "execution_count": 63,
   "id": "14b38cff-801a-45d1-92ef-ccd821150543",
   "metadata": {},
   "outputs": [
    {
     "name": "stdout",
     "output_type": "stream",
     "text": [
      " \n",
      " \n",
      " \n",
      " \n",
      " \n",
      " \n",
      "9\n",
      "9\n",
      "9\n",
      " \n",
      "0\n",
      "0\n",
      " \n",
      " \n",
      " \n",
      " \n",
      " \n",
      " \n",
      ".\n",
      " \n",
      " \n",
      " \n",
      " \n",
      " \n",
      ".\n",
      " \n",
      " \n",
      " \n",
      " \n",
      ".\n",
      " \n",
      " \n",
      " \n",
      " \n",
      " \n",
      " \n",
      " \n",
      ".\n",
      " \n",
      " \n",
      " \n",
      " \n",
      " \n",
      " \n",
      " \n",
      " \n",
      " \n",
      " \n",
      " \n",
      " \n",
      " \n",
      " \n",
      " \n",
      " \n",
      " \n",
      " \n",
      " \n",
      " \n",
      " \n",
      ".\n",
      " \n",
      " \n",
      " \n",
      " \n",
      " \n",
      " \n",
      " \n",
      " \n",
      " \n",
      " \n",
      " \n",
      ".\n",
      " \n",
      "'\n",
      " \n",
      " \n",
      " \n",
      " \n",
      " \n",
      " \n",
      " \n",
      " \n",
      ".\n",
      " \n",
      " \n",
      " \n",
      ".\n",
      " \n",
      " \n",
      " \n",
      " \n",
      " \n",
      " \n",
      ".\n"
     ]
    }
   ],
   "source": [
    "# TO GET THE SPECIAL CHARACTERS\n",
    "count = 0\n",
    "len(review), count\n",
    "for i in review:\n",
    "    if not(i.isalpha()):\n",
    "        print (i)\n",
    "        count= count+1"
   ]
  },
  {
   "cell_type": "code",
   "execution_count": 64,
   "id": "82aa6171-6a8d-441b-aaef-daef176f02d1",
   "metadata": {},
   "outputs": [
    {
     "data": {
      "text/plain": [
       "94"
      ]
     },
     "execution_count": 64,
     "metadata": {},
     "output_type": "execute_result"
    }
   ],
   "source": [
    "count"
   ]
  },
  {
   "cell_type": "code",
   "execution_count": 17,
   "id": "0bd741d8-eef0-4088-a5b1-82252209f8d7",
   "metadata": {},
   "outputs": [
    {
     "name": "stdout",
     "output_type": "stream",
     "text": [
      "T\n",
      "T\n",
      "T\n",
      "I\n",
      "T\n",
      "T\n",
      "V\n",
      "T\n",
      "I\n",
      "C\n"
     ]
    }
   ],
   "source": [
    "# TO GET THE CAPITAL LETTERS AND THE COUNTS\n",
    "count = 0\n",
    "for i in review:\n",
    "    if i.isupper():\n",
    "        print (i)\n",
    "        count=count+1"
   ]
  },
  {
   "cell_type": "code",
   "execution_count": 65,
   "id": "8ffd6b9e-7644-4bec-a1ba-fe8b1d01dd84",
   "metadata": {},
   "outputs": [
    {
     "data": {
      "text/plain": [
       "94"
      ]
     },
     "execution_count": 65,
     "metadata": {},
     "output_type": "execute_result"
    }
   ],
   "source": [
    "count"
   ]
  },
  {
   "cell_type": "code",
   "execution_count": 66,
   "id": "07ba4a6e-5bac-416e-b4d8-41333dcd9b3d",
   "metadata": {},
   "outputs": [
    {
     "name": "stdout",
     "output_type": "stream",
     "text": [
      "3 The\n",
      "12 refrigerator\n",
      "5 works\n",
      "4 well\n",
      "3 The\n",
      "6 design\n",
      "3 999\n",
      "2 00\n",
      "2 of\n",
      "3 the\n",
      "12 refrigerator\n",
      "2 is\n",
      "4 good\n",
      "1 .\n",
      "3 The\n",
      "7 cooling\n",
      "2 is\n",
      "5 great\n",
      "1 .\n",
      "2 It\n",
      "3 has\n",
      "3 low\n",
      "6 noise.\n",
      "3 The\n",
      "7 storage\n",
      "8 capacity\n",
      "2 is\n",
      "4 also\n",
      "2 as\n",
      "10 mentioned.\n",
      "3 The\n",
      "4 only\n",
      "4 flaw\n",
      "2 as\n",
      "3 per\n",
      "2 me\n",
      "3 was\n",
      "4 that\n",
      "3 the\n",
      "9 Vegetable\n",
      "3 box\n",
      "2 is\n",
      "8 slanting\n",
      "2 at\n",
      "3 the\n",
      "4 back\n",
      "3 and\n",
      "5 loses\n",
      "2 on\n",
      "7 storage\n",
      "6 space.\n",
      "2 To\n",
      "10 accomodate\n",
      "4 that\n",
      "5 space\n",
      "3 the\n",
      "5 lower\n",
      "6 bottle\n",
      "4 rack\n",
      "3 has\n",
      "4 been\n",
      "8 removed.\n",
      "4 It's\n",
      "3 not\n",
      "1 a\n",
      "4 deal\n",
      "7 breaker\n",
      "3 for\n",
      "2 me\n",
      "2 so\n",
      "11 ok.Consider\n",
      "4 that\n",
      "4 when\n",
      "7 buying.\n",
      "5 other\n",
      "4 than\n",
      "4 that\n",
      "2 it\n",
      "2 is\n",
      "8 awesome.\n"
     ]
    }
   ],
   "source": [
    "# TO GET THE AVERAGE LENGTH OF A WORD\n",
    "\n",
    "count =  0\n",
    "sum = 0\n",
    "for i in review.split():\n",
    "    print (len (i), i)\n",
    "    count= count+1\n",
    "    sum = sum+len(i)\n",
    "# print(count)\n",
    "# print (sum)\n",
    "# print (sum/count)\n"
   ]
  },
  {
   "cell_type": "code",
   "execution_count": 67,
   "id": "6ff4b8ac-ca01-40d0-8ba4-6efe4993b28b",
   "metadata": {},
   "outputs": [
    {
     "name": "stdout",
     "output_type": "stream",
     "text": [
      "80\n"
     ]
    }
   ],
   "source": [
    "print(count)"
   ]
  },
  {
   "cell_type": "code",
   "execution_count": 68,
   "id": "440584a1-ece4-4873-9767-0db3913c8e0f",
   "metadata": {},
   "outputs": [
    {
     "name": "stdout",
     "output_type": "stream",
     "text": [
      "343\n"
     ]
    }
   ],
   "source": [
    "print (sum)"
   ]
  },
  {
   "cell_type": "code",
   "execution_count": 69,
   "id": "d1382717-71c5-46fa-8ee0-133bbb48aa89",
   "metadata": {},
   "outputs": [
    {
     "name": "stdout",
     "output_type": "stream",
     "text": [
      "AVG word length: 4.2875\n"
     ]
    }
   ],
   "source": [
    "print (\"AVG word length:\",sum/count)"
   ]
  },
  {
   "cell_type": "code",
   "execution_count": 70,
   "id": "f0b1b6d8-16a4-45d0-a864-aa41dd2ef0cb",
   "metadata": {},
   "outputs": [
    {
     "data": {
      "text/plain": [
       "\"The refrigerator works well The design 999 00 of the refrigerator is good . The cooling is great . It has low noise. The storage capacity is also as mentioned. The only flaw as per me was that the Vegetable box is slanting at the back and loses on storage space. To accomodate that space the lower bottle rack has been removed. It's not a deal breaker for me so ok.Consider that when buying. other than that it is awesome.\""
      ]
     },
     "execution_count": 70,
     "metadata": {},
     "output_type": "execute_result"
    }
   ],
   "source": [
    "review"
   ]
  },
  {
   "cell_type": "code",
   "execution_count": 71,
   "id": "3f9db383-a9dd-4a36-ad7f-4c6b29f50a09",
   "metadata": {},
   "outputs": [
    {
     "name": "stdout",
     "output_type": "stream",
     "text": [
      "ehT rotaregirfer skrow llew ehT ngised fo eht rotaregirfer si doog ehT gnilooc si taerg tI sah wol ehT egarots yticapac si osla sa ehT ylno walf sa rep em saw taht eht elbategeV xob si gnitnals ta eht kcab dna sesol no egarots oT etadomocca taht ecaps eht rewol elttob kcar sah neeb ton a laed rekaerb rof em os taht nehw rehto naht taht ti si\n"
     ]
    }
   ],
   "source": [
    "# HOW TO GET THE ENTIRE STRING WORD BY WORD WHERE WORDS WILLL BE IN REVERSE ORDER\n",
    "OUTPUT=\"\"\n",
    "for i in review.split():\n",
    "    if i.isalpha():\n",
    "        # print (i[::-1])\n",
    "        OUTPUT=OUTPUT+\" \"+i[::-1] \n",
    "print(OUTPUT.strip())"
   ]
  },
  {
   "cell_type": "code",
   "execution_count": 12,
   "id": "349adcf7-ce47-4447-bc2b-9acc48ec6643",
   "metadata": {},
   "outputs": [],
   "source": [
    "x = \"data science\""
   ]
  },
  {
   "cell_type": "code",
   "execution_count": 13,
   "id": "f02ef396-6109-4de8-a496-76a8f4d06510",
   "metadata": {},
   "outputs": [
    {
     "data": {
      "text/plain": [
       "'data science'"
      ]
     },
     "execution_count": 13,
     "metadata": {},
     "output_type": "execute_result"
    }
   ],
   "source": [
    "x"
   ]
  },
  {
   "cell_type": "code",
   "execution_count": 26,
   "id": "f16792da-26fc-4113-8609-d534af708c8a",
   "metadata": {},
   "outputs": [
    {
     "name": "stdout",
     "output_type": "stream",
     "text": [
      "atad ecneics\n"
     ]
    }
   ],
   "source": [
    "output =\"\"\n",
    "for i in x.split():\n",
    "    output=output+\" \"+(i[::-1])\n",
    "print (output.strip())"
   ]
  },
  {
   "cell_type": "code",
   "execution_count": 72,
   "id": "6a152144-5ab3-4812-ba22-5ce7f30b6928",
   "metadata": {},
   "outputs": [
    {
     "data": {
      "text/plain": [
       "\"The refrigerator works well The design 999 00 of the refrigerator is good . The cooling is great . It has low noise. The storage capacity is also as mentioned. The only flaw as per me was that the Vegetable box is slanting at the back and loses on storage space. To accomodate that space the lower bottle rack has been removed. It's not a deal breaker for me so ok.Consider that when buying. other than that it is awesome.\""
      ]
     },
     "execution_count": 72,
     "metadata": {},
     "output_type": "execute_result"
    }
   ],
   "source": [
    "review"
   ]
  },
  {
   "cell_type": "code",
   "execution_count": 38,
   "id": "4461ffd6-ee8f-4d61-93bb-347b2fdebd40",
   "metadata": {},
   "outputs": [],
   "source": [
    "bad=['bad','horrible','waste','disappointed','flaw']\n",
    "good= ['good','awesome','happy']"
   ]
  },
  {
   "cell_type": "code",
   "execution_count": 73,
   "id": "b0b4b3e2-7924-4813-a64b-92e128709248",
   "metadata": {},
   "outputs": [
    {
     "name": "stdout",
     "output_type": "stream",
     "text": [
      "positive\n"
     ]
    }
   ],
   "source": [
    "bad=['bad','horrible','waste','disappointed','flaw']\n",
    "good= ['good','awesome','happy','great']\n",
    "bad_count = 0\n",
    "good_count = 0\n",
    "for i in review.lower().split():\n",
    "    if i in bad:\n",
    "        bad_count= bad_count+1\n",
    "    elif i in good:\n",
    "        good_count= good_count+1\n",
    "    else:\n",
    "        pass\n",
    "if bad_count>good_count:\n",
    "    print (\"negative\")\n",
    "else:\n",
    "    print(\"positive\")"
   ]
  },
  {
   "cell_type": "code",
   "execution_count": 74,
   "id": "a63ec749-47d6-42c5-87ec-b6a74b2ffeb0",
   "metadata": {},
   "outputs": [
    {
     "data": {
      "text/plain": [
       "1"
      ]
     },
     "execution_count": 74,
     "metadata": {},
     "output_type": "execute_result"
    }
   ],
   "source": [
    "bad_count"
   ]
  },
  {
   "cell_type": "code",
   "execution_count": 75,
   "id": "acabaf83-2142-4d5b-81d6-13bf82271160",
   "metadata": {},
   "outputs": [
    {
     "name": "stdout",
     "output_type": "stream",
     "text": [
      "2\n"
     ]
    }
   ],
   "source": [
    "print (good_count)"
   ]
  },
  {
   "cell_type": "code",
   "execution_count": null,
   "id": "474e1ca3-88bc-44bf-b224-4cc31490fad5",
   "metadata": {},
   "outputs": [],
   "source": []
  },
  {
   "cell_type": "code",
   "execution_count": null,
   "id": "6901c57e-32db-4559-8433-1ba5a444aea9",
   "metadata": {},
   "outputs": [],
   "source": []
  },
  {
   "cell_type": "code",
   "execution_count": null,
   "id": "bc7ef248-6bce-413b-a250-7b7be184eda6",
   "metadata": {},
   "outputs": [],
   "source": []
  },
  {
   "cell_type": "code",
   "execution_count": null,
   "id": "870730d9-d7d6-4233-9029-dd541d3a311f",
   "metadata": {},
   "outputs": [],
   "source": []
  },
  {
   "cell_type": "code",
   "execution_count": null,
   "id": "ce9629f7-02da-47fc-9223-406ab7c42ffd",
   "metadata": {},
   "outputs": [],
   "source": []
  }
 ],
 "metadata": {
  "kernelspec": {
   "display_name": "Python 3 (ipykernel)",
   "language": "python",
   "name": "python3"
  },
  "language_info": {
   "codemirror_mode": {
    "name": "ipython",
    "version": 3
   },
   "file_extension": ".py",
   "mimetype": "text/x-python",
   "name": "python",
   "nbconvert_exporter": "python",
   "pygments_lexer": "ipython3",
   "version": "3.13.2"
  }
 },
 "nbformat": 4,
 "nbformat_minor": 5
}
