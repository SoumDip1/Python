{
 "cells": [
  {
   "cell_type": "code",
   "execution_count": null,
   "id": "a5e887fc-1035-4b8c-85d9-2c8907f763a0",
   "metadata": {},
   "outputs": [],
   "source": [
    "pwd"
   ]
  },
  {
   "cell_type": "code",
   "execution_count": 6,
   "id": "1ece2658-2fda-40d3-85d1-565d2f0947be",
   "metadata": {},
   "outputs": [],
   "source": [
    "name = 'soumyo'"
   ]
  },
  {
   "cell_type": "code",
   "execution_count": 4,
   "id": "d05dd68d-967c-4414-b344-c4b8969997e6",
   "metadata": {},
   "outputs": [],
   "source": [
    "import keyword"
   ]
  },
  {
   "cell_type": "code",
   "execution_count": 5,
   "id": "3cf91213-72ea-4606-8cd0-2411f464d903",
   "metadata": {},
   "outputs": [
    {
     "name": "stdout",
     "output_type": "stream",
     "text": [
      "['False', 'None', 'True', 'and', 'as', 'assert', 'async', 'await', 'break', 'class', 'continue', 'def', 'del', 'elif', 'else', 'except', 'finally', 'for', 'from', 'global', 'if', 'import', 'in', 'is', 'lambda', 'nonlocal', 'not', 'or', 'pass', 'raise', 'return', 'try', 'while', 'with', 'yield']\n"
     ]
    }
   ],
   "source": [
    "print (keyword.kwlist)"
   ]
  },
  {
   "cell_type": "code",
   "execution_count": 8,
   "id": "c4bc2fa5-f72b-416c-8b72-662bb5dfef71",
   "metadata": {},
   "outputs": [],
   "source": [
    "age = 10+3j"
   ]
  },
  {
   "cell_type": "code",
   "execution_count": 9,
   "id": "31dda311-1801-4213-a32a-9fbcde67f493",
   "metadata": {},
   "outputs": [
    {
     "data": {
      "text/plain": [
       "complex"
      ]
     },
     "execution_count": 9,
     "metadata": {},
     "output_type": "execute_result"
    }
   ],
   "source": [
    "type (age)"
   ]
  },
  {
   "cell_type": "code",
   "execution_count": 10,
   "id": "fe149b44-1b39-466f-9457-96064363ed8a",
   "metadata": {},
   "outputs": [
    {
     "name": "stdout",
     "output_type": "stream",
     "text": [
      "2000\n",
      "soumyo\n",
      "1.5\n",
      "(1+3j)\n"
     ]
    }
   ],
   "source": [
    "salary = 2000\n",
    "name = 'soumyo'\n",
    "exp = 1.5\n",
    "randomnumbers = 1+3j\n",
    "print (salary)\n",
    "print (name)\n",
    "print (exp)\n",
    "print (randomnumbers)"
   ]
  },
  {
   "cell_type": "code",
   "execution_count": null,
   "id": "15b0a85d-c837-4f97-ab64-d3da611b000e",
   "metadata": {},
   "outputs": [],
   "source": [
    "### INDEXING in PYTHON"
   ]
  },
  {
   "cell_type": "code",
   "execution_count": 11,
   "id": "59575d1d-900c-45bb-af64-6f45329f21a8",
   "metadata": {},
   "outputs": [],
   "source": [
    "x = \"data science\""
   ]
  },
  {
   "cell_type": "code",
   "execution_count": 12,
   "id": "5e7f84f9-deca-4df6-8963-638279013f65",
   "metadata": {},
   "outputs": [
    {
     "data": {
      "text/plain": [
       "('d', 'e', 'n', 's')"
      ]
     },
     "execution_count": 12,
     "metadata": {},
     "output_type": "execute_result"
    }
   ],
   "source": [
    "x [0], x[-1], x[-3], x[5]"
   ]
  },
  {
   "cell_type": "code",
   "execution_count": 1,
   "id": "94782df9-a3a9-45f7-abf1-5bc9bdcc4696",
   "metadata": {},
   "outputs": [],
   "source": [
    "x = 'aedjklionbvfd'"
   ]
  },
  {
   "cell_type": "code",
   "execution_count": null,
   "id": "9ca11805-ef3c-4e1f-acb3-62baafb5843e",
   "metadata": {},
   "outputs": [],
   "source": [
    "# Format: x[index starts with: index ends with(output will not include)]"
   ]
  },
  {
   "cell_type": "code",
   "execution_count": 3,
   "id": "91d1b249-fcb7-48a6-a22f-beb2a6f176ec",
   "metadata": {},
   "outputs": [
    {
     "data": {
      "text/plain": [
       "'d'"
      ]
     },
     "execution_count": 3,
     "metadata": {},
     "output_type": "execute_result"
    }
   ],
   "source": [
    "x[2:3]"
   ]
  },
  {
   "cell_type": "code",
   "execution_count": 6,
   "id": "eb72543c-fb8d-4de7-81db-ad09721b64bf",
   "metadata": {},
   "outputs": [
    {
     "data": {
      "text/plain": [
       "'djkli'"
      ]
     },
     "execution_count": 6,
     "metadata": {},
     "output_type": "execute_result"
    }
   ],
   "source": [
    "x[2:7]"
   ]
  },
  {
   "cell_type": "code",
   "execution_count": null,
   "id": "4a87a8f2-3195-4ab3-ad93-1c25c79b7455",
   "metadata": {},
   "outputs": [],
   "source": [
    "# Format: x[index starts with: index ends with(output will not include): steps count]"
   ]
  },
  {
   "cell_type": "code",
   "execution_count": 8,
   "id": "e7fd49e8-7913-4d34-b16e-54c95d936332",
   "metadata": {},
   "outputs": [
    {
     "data": {
      "text/plain": [
       "'dln'"
      ]
     },
     "execution_count": 8,
     "metadata": {},
     "output_type": "execute_result"
    }
   ],
   "source": [
    "x[2:9:3]"
   ]
  },
  {
   "cell_type": "code",
   "execution_count": 10,
   "id": "22dce268-a447-4688-a2bd-274220c32845",
   "metadata": {},
   "outputs": [
    {
     "data": {
      "text/plain": [
       "'aedjklionbvfd'"
      ]
     },
     "execution_count": 10,
     "metadata": {},
     "output_type": "execute_result"
    }
   ],
   "source": [
    "x[::]"
   ]
  },
  {
   "cell_type": "code",
   "execution_count": 11,
   "id": "188ce9e2-9b48-4241-b5ff-7f5f3197725b",
   "metadata": {},
   "outputs": [
    {
     "data": {
      "text/plain": [
       "'jv'"
      ]
     },
     "execution_count": 11,
     "metadata": {},
     "output_type": "execute_result"
    }
   ],
   "source": [
    "x[3::7]"
   ]
  },
  {
   "cell_type": "code",
   "execution_count": 12,
   "id": "cda270d5-8d4b-4902-baeb-c150ff2f6b60",
   "metadata": {},
   "outputs": [
    {
     "data": {
      "text/plain": [
       "'ao'"
      ]
     },
     "execution_count": 12,
     "metadata": {},
     "output_type": "execute_result"
    }
   ],
   "source": [
    "x[::7]"
   ]
  },
  {
   "cell_type": "code",
   "execution_count": 13,
   "id": "3e775082-a034-49c5-9ca7-ea776c8e70e9",
   "metadata": {},
   "outputs": [
    {
     "data": {
      "text/plain": [
       "'dfvbnoilkjdea'"
      ]
     },
     "execution_count": 13,
     "metadata": {},
     "output_type": "execute_result"
    }
   ],
   "source": [
    "x[::-1]"
   ]
  },
  {
   "cell_type": "code",
   "execution_count": 14,
   "id": "7e6bc69b-2cd0-4cb6-852d-daa2f283b0bb",
   "metadata": {},
   "outputs": [
    {
     "data": {
      "text/plain": [
       "'nv'"
      ]
     },
     "execution_count": 14,
     "metadata": {},
     "output_type": "execute_result"
    }
   ],
   "source": [
    "x[-5:-1:2]"
   ]
  },
  {
   "cell_type": "code",
   "execution_count": 16,
   "id": "9beb6d74-f16b-4e62-b6bb-a7daac949594",
   "metadata": {},
   "outputs": [
    {
     "data": {
      "text/plain": [
       "''"
      ]
     },
     "execution_count": 16,
     "metadata": {},
     "output_type": "execute_result"
    }
   ],
   "source": [
    "x[8:2]"
   ]
  },
  {
   "cell_type": "code",
   "execution_count": 17,
   "id": "617bf19c-150b-4ff4-95c2-6c065e8a5f91",
   "metadata": {},
   "outputs": [
    {
     "data": {
      "text/plain": [
       "'noilkj'"
      ]
     },
     "execution_count": 17,
     "metadata": {},
     "output_type": "execute_result"
    }
   ],
   "source": [
    "x[8:2:-1]"
   ]
  },
  {
   "cell_type": "code",
   "execution_count": null,
   "id": "61deef13-9bc2-49ad-81a4-f4fac177cc78",
   "metadata": {},
   "outputs": [],
   "source": []
  }
 ],
 "metadata": {
  "kernelspec": {
   "display_name": "Python 3 (ipykernel)",
   "language": "python",
   "name": "python3"
  },
  "language_info": {
   "codemirror_mode": {
    "name": "ipython",
    "version": 3
   },
   "file_extension": ".py",
   "mimetype": "text/x-python",
   "name": "python",
   "nbconvert_exporter": "python",
   "pygments_lexer": "ipython3",
   "version": "3.13.2"
  }
 },
 "nbformat": 4,
 "nbformat_minor": 5
}
