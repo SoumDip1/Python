{
 "cells": [
  {
   "cell_type": "code",
   "execution_count": 3,
   "id": "3253457d-2f3c-44e8-9117-d48c09454745",
   "metadata": {},
   "outputs": [],
   "source": [
    "import numpy as np"
   ]
  },
  {
   "cell_type": "code",
   "execution_count": null,
   "id": "5c0934c2-ad54-46cf-9048-47c8598534b7",
   "metadata": {},
   "outputs": [],
   "source": []
  },
  {
   "cell_type": "code",
   "execution_count": 4,
   "id": "282111a1-bce5-4275-90d7-547e0a2acac1",
   "metadata": {},
   "outputs": [
    {
     "data": {
      "text/plain": [
       "array([7, 9, 2, 1, 6, 5, 9, 3, 9, 7], dtype=int32)"
      ]
     },
     "execution_count": 4,
     "metadata": {},
     "output_type": "execute_result"
    }
   ],
   "source": [
    "array = np.random.randint(0,10,10)\n",
    "array"
   ]
  },
  {
   "cell_type": "code",
   "execution_count": 5,
   "id": "02908bc3-31df-4096-bf09-9a026d94ae5d",
   "metadata": {},
   "outputs": [
    {
     "data": {
      "text/plain": [
       "(10,)"
      ]
     },
     "execution_count": 5,
     "metadata": {},
     "output_type": "execute_result"
    }
   ],
   "source": [
    "array.shape"
   ]
  },
  {
   "cell_type": "code",
   "execution_count": 10,
   "id": "1a374de2-18fe-482f-8e5e-74f4c496f028",
   "metadata": {},
   "outputs": [
    {
     "data": {
      "text/plain": [
       "array([[7, 9],\n",
       "       [2, 1],\n",
       "       [6, 5],\n",
       "       [9, 3],\n",
       "       [9, 7]], dtype=int32)"
      ]
     },
     "execution_count": 10,
     "metadata": {},
     "output_type": "execute_result"
    }
   ],
   "source": [
    "# we can reshape the array and it the multiplication of the two numbers have to be the number of array which was predefined.\n",
    "array.reshape(5,2)"
   ]
  },
  {
   "cell_type": "code",
   "execution_count": 51,
   "id": "fe1fb9de-3347-46b1-a030-d4fe8861afe6",
   "metadata": {},
   "outputs": [
    {
     "data": {
      "text/plain": [
       "array([[7, 4, 5],\n",
       "       [8, 3, 7],\n",
       "       [0, 9, 0]], dtype=int32)"
      ]
     },
     "execution_count": 51,
     "metadata": {},
     "output_type": "execute_result"
    }
   ],
   "source": [
    "data = np.random.randint(0,10,(3,3))\n",
    "data"
   ]
  },
  {
   "cell_type": "code",
   "execution_count": 52,
   "id": "5be8a4ee-8fc7-4111-9c7e-0f335470b6f7",
   "metadata": {},
   "outputs": [
    {
     "data": {
      "text/plain": [
       "array([7, 4, 5, 8, 3, 7, 0, 9, 0], dtype=int32)"
      ]
     },
     "execution_count": 52,
     "metadata": {},
     "output_type": "execute_result"
    }
   ],
   "source": [
    "# this function is used to flatened the multidimentional array\n",
    "y= data.ravel() ## it will not create deep copy and we can do modification on the array\n",
    "y"
   ]
  },
  {
   "cell_type": "code",
   "execution_count": 53,
   "id": "c88bf3b0-883a-41de-a814-8a93964c3d9e",
   "metadata": {},
   "outputs": [
    {
     "data": {
      "text/plain": [
       "array([200,   4,   5,   8,   3,   7,   0,   9,   0], dtype=int32)"
      ]
     },
     "execution_count": 53,
     "metadata": {},
     "output_type": "execute_result"
    }
   ],
   "source": [
    "# lIKe\n",
    "y[0] = 200  ## it will modify the the value of 0 index \n",
    "y"
   ]
  },
  {
   "cell_type": "code",
   "execution_count": 54,
   "id": "6310aa96-9fad-4750-bf03-e0af9cc6a1b5",
   "metadata": {},
   "outputs": [
    {
     "data": {
      "text/plain": [
       "array([[200,   4,   5],\n",
       "       [  8,   3,   7],\n",
       "       [  0,   9,   0]], dtype=int32)"
      ]
     },
     "execution_count": 54,
     "metadata": {},
     "output_type": "execute_result"
    }
   ],
   "source": [
    "data #it will cmodify the vaue of original array also"
   ]
  },
  {
   "cell_type": "code",
   "execution_count": 44,
   "id": "89bd7cc1-afdb-4b68-b914-e9092b0582df",
   "metadata": {},
   "outputs": [
    {
     "data": {
      "text/plain": [
       "array([[1, 7, 3],\n",
       "       [7, 3, 7],\n",
       "       [3, 0, 5]], dtype=int32)"
      ]
     },
     "execution_count": 44,
     "metadata": {},
     "output_type": "execute_result"
    }
   ],
   "source": [
    "data1 = np.random.randint(0,10,(3,3))\n",
    "data1"
   ]
  },
  {
   "cell_type": "code",
   "execution_count": 45,
   "id": "75d2b3a7-b667-4ea1-93c6-7cdd5dcec105",
   "metadata": {},
   "outputs": [
    {
     "data": {
      "text/plain": [
       "array([1, 7, 3, 7, 3, 7, 3, 0, 5], dtype=int32)"
      ]
     },
     "execution_count": 45,
     "metadata": {},
     "output_type": "execute_result"
    }
   ],
   "source": [
    "x= data1.flatten() # It will create the shallow copy and will not modify the original array\n",
    "x"
   ]
  },
  {
   "cell_type": "code",
   "execution_count": 46,
   "id": "1d88535a-a911-4fac-9c2a-5e36037909d3",
   "metadata": {},
   "outputs": [
    {
     "data": {
      "text/plain": [
       "array([200,   7,   3,   7,   3,   7,   3,   0,   5], dtype=int32)"
      ]
     },
     "execution_count": 46,
     "metadata": {},
     "output_type": "execute_result"
    }
   ],
   "source": [
    "## like\n",
    "x[0] = 200\n",
    "x"
   ]
  },
  {
   "cell_type": "code",
   "execution_count": 47,
   "id": "f5ab9806-c7a2-428f-bc56-142f163b090d",
   "metadata": {},
   "outputs": [
    {
     "data": {
      "text/plain": [
       "array([[1, 7, 3],\n",
       "       [7, 3, 7],\n",
       "       [3, 0, 5]], dtype=int32)"
      ]
     },
     "execution_count": 47,
     "metadata": {},
     "output_type": "execute_result"
    }
   ],
   "source": [
    "data1  ## here it will not changre the valye of 0 index in the array"
   ]
  },
  {
   "cell_type": "code",
   "execution_count": 56,
   "id": "2efc594d-0712-4257-8b21-250dcb35d43e",
   "metadata": {},
   "outputs": [
    {
     "data": {
      "text/plain": [
       "array([[1, 7, 3],\n",
       "       [7, 3, 0],\n",
       "       [3, 7, 5]], dtype=int32)"
      ]
     },
     "execution_count": 56,
     "metadata": {},
     "output_type": "execute_result"
    }
   ],
   "source": [
    "data1.T ## it is transpose of the data it actually converts the column to rows and rows to column"
   ]
  },
  {
   "cell_type": "code",
   "execution_count": 59,
   "id": "ce899dac-3bdc-451b-a32f-be8107b371f3",
   "metadata": {},
   "outputs": [
    {
     "data": {
      "text/plain": [
       "array([[200,   4,   5],\n",
       "       [  8,   3,   7],\n",
       "       [  0,   9,   0]], dtype=int32)"
      ]
     },
     "execution_count": 59,
     "metadata": {},
     "output_type": "execute_result"
    }
   ],
   "source": [
    "data"
   ]
  },
  {
   "cell_type": "code",
   "execution_count": 60,
   "id": "694328ee-831c-4245-9b0b-2dfb74e26902",
   "metadata": {},
   "outputs": [
    {
     "data": {
      "text/plain": [
       "array([[1, 7, 3],\n",
       "       [7, 3, 7],\n",
       "       [3, 0, 5]], dtype=int32)"
      ]
     },
     "execution_count": 60,
     "metadata": {},
     "output_type": "execute_result"
    }
   ],
   "source": [
    "data1"
   ]
  },
  {
   "cell_type": "code",
   "execution_count": 63,
   "id": "9e346071-e4b1-4556-9182-5e8dabb0cc52",
   "metadata": {},
   "outputs": [
    {
     "data": {
      "text/plain": [
       "array([[200,   4,   5],\n",
       "       [  8,   3,   7],\n",
       "       [  0,   9,   0],\n",
       "       [  1,   7,   3],\n",
       "       [  7,   3,   7],\n",
       "       [  3,   0,   5]], dtype=int32)"
      ]
     },
     "execution_count": 63,
     "metadata": {},
     "output_type": "execute_result"
    }
   ],
   "source": [
    "## concatenation\n",
    "\n",
    "np.concatenate((data,data1),axis = 0) # row level concatenation"
   ]
  },
  {
   "cell_type": "code",
   "execution_count": 64,
   "id": "bb0a56eb-f9a2-4326-b104-c2d4eaa70ee6",
   "metadata": {},
   "outputs": [
    {
     "data": {
      "text/plain": [
       "array([[200,   4,   5,   1,   7,   3],\n",
       "       [  8,   3,   7,   7,   3,   7],\n",
       "       [  0,   9,   0,   3,   0,   5]], dtype=int32)"
      ]
     },
     "execution_count": 64,
     "metadata": {},
     "output_type": "execute_result"
    }
   ],
   "source": [
    "np.concatenate((data,data1),axis = 1) # column level concatenation"
   ]
  },
  {
   "cell_type": "code",
   "execution_count": 65,
   "id": "dffa9b67-d4ff-4ae6-ae8a-d5137ce5fbf3",
   "metadata": {},
   "outputs": [
    {
     "data": {
      "text/plain": [
       "array([[1, 6, 8],\n",
       "       [9, 4, 7],\n",
       "       [2, 7, 0]], dtype=int32)"
      ]
     },
     "execution_count": 65,
     "metadata": {},
     "output_type": "execute_result"
    }
   ],
   "source": [
    "# suppose\n",
    "\n",
    "a = np.random.randint(0,10,(3,3))\n",
    "a"
   ]
  },
  {
   "cell_type": "code",
   "execution_count": 67,
   "id": "21b771af-2d43-4056-b26b-283bfd64ed12",
   "metadata": {},
   "outputs": [
    {
     "data": {
      "text/plain": [
       "array([[8, 8],\n",
       "       [4, 8],\n",
       "       [6, 5]], dtype=int32)"
      ]
     },
     "execution_count": 67,
     "metadata": {},
     "output_type": "execute_result"
    }
   ],
   "source": [
    "b = np.random.randint(0,10,(3,2))\n",
    "b"
   ]
  },
  {
   "cell_type": "code",
   "execution_count": 72,
   "id": "19483e17-74fa-4c08-9aed-45614411dd25",
   "metadata": {},
   "outputs": [
    {
     "ename": "ValueError",
     "evalue": "all the input array dimensions except for the concatenation axis must match exactly, but along dimension 1, the array at index 0 has size 3 and the array at index 1 has size 2",
     "output_type": "error",
     "traceback": [
      "\u001b[31m---------------------------------------------------------------------------\u001b[39m",
      "\u001b[31mValueError\u001b[39m                                Traceback (most recent call last)",
      "\u001b[36mCell\u001b[39m\u001b[36m \u001b[39m\u001b[32mIn[72]\u001b[39m\u001b[32m, line 2\u001b[39m\n\u001b[32m      1\u001b[39m \u001b[38;5;66;03m# now lets do the concatenation \u001b[39;00m\n\u001b[32m----> \u001b[39m\u001b[32m2\u001b[39m \u001b[43mnp\u001b[49m\u001b[43m.\u001b[49m\u001b[43mconcatenate\u001b[49m\u001b[43m(\u001b[49m\u001b[43m(\u001b[49m\u001b[43ma\u001b[49m\u001b[43m,\u001b[49m\u001b[43mb\u001b[49m\u001b[43m)\u001b[49m\u001b[43m,\u001b[49m\u001b[43m \u001b[49m\u001b[43maxis\u001b[49m\u001b[43m=\u001b[49m\u001b[32;43m0\u001b[39;49m\u001b[43m \u001b[49m\u001b[43m)\u001b[49m\n\u001b[32m      3\u001b[39m \u001b[38;5;66;03m# it will not perform thr operation because the coloumn size is different\u001b[39;00m\n",
      "\u001b[31mValueError\u001b[39m: all the input array dimensions except for the concatenation axis must match exactly, but along dimension 1, the array at index 0 has size 3 and the array at index 1 has size 2"
     ]
    }
   ],
   "source": [
    "# now lets do the concatenation \n",
    "np.concatenate((a,b), axis=0 )\n",
    "# it will not perform thr operation because the coloumn size is different"
   ]
  },
  {
   "cell_type": "code",
   "execution_count": 73,
   "id": "69a58bf7-3f4c-4e71-8ee7-5f36d5a930d0",
   "metadata": {
    "collapsed": true,
    "jupyter": {
     "outputs_hidden": true
    }
   },
   "outputs": [
    {
     "data": {
      "text/plain": [
       "array([[1, 6, 8, 8, 8],\n",
       "       [9, 4, 7, 4, 8],\n",
       "       [2, 7, 0, 6, 5]], dtype=int32)"
      ]
     },
     "execution_count": 73,
     "metadata": {},
     "output_type": "execute_result"
    }
   ],
   "source": [
    "np.concatenate((a,b), axis=1 ) \n",
    "# it will perform the operation because the coloumn size is same"
   ]
  },
  {
   "cell_type": "code",
   "execution_count": 78,
   "id": "36284138-37c9-49cc-8ecb-171b55de007f",
   "metadata": {},
   "outputs": [
    {
     "ename": "ValueError",
     "evalue": "all the input array dimensions except for the concatenation axis must match exactly, but along dimension 1, the array at index 0 has size 3 and the array at index 1 has size 2",
     "output_type": "error",
     "traceback": [
      "\u001b[31m---------------------------------------------------------------------------\u001b[39m",
      "\u001b[31mValueError\u001b[39m                                Traceback (most recent call last)",
      "\u001b[36mCell\u001b[39m\u001b[36m \u001b[39m\u001b[32mIn[78]\u001b[39m\u001b[32m, line 1\u001b[39m\n\u001b[32m----> \u001b[39m\u001b[32m1\u001b[39m \u001b[43mnp\u001b[49m\u001b[43m.\u001b[49m\u001b[43mvstack\u001b[49m\u001b[43m(\u001b[49m\u001b[43m(\u001b[49m\u001b[43ma\u001b[49m\u001b[43m,\u001b[49m\u001b[43mb\u001b[49m\u001b[43m)\u001b[49m\u001b[43m)\u001b[49m \u001b[38;5;66;03m# Here also it will not perform because the size is different\u001b[39;00m\n",
      "\u001b[36mFile \u001b[39m\u001b[32m~\\AppData\\Local\\Programs\\Python\\Python313\\Lib\\site-packages\\numpy\\_core\\shape_base.py:292\u001b[39m, in \u001b[36mvstack\u001b[39m\u001b[34m(tup, dtype, casting)\u001b[39m\n\u001b[32m    290\u001b[39m \u001b[38;5;28;01mif\u001b[39;00m \u001b[38;5;129;01mnot\u001b[39;00m \u001b[38;5;28misinstance\u001b[39m(arrs, \u001b[38;5;28mtuple\u001b[39m):\n\u001b[32m    291\u001b[39m     arrs = (arrs,)\n\u001b[32m--> \u001b[39m\u001b[32m292\u001b[39m \u001b[38;5;28;01mreturn\u001b[39;00m \u001b[43m_nx\u001b[49m\u001b[43m.\u001b[49m\u001b[43mconcatenate\u001b[49m\u001b[43m(\u001b[49m\u001b[43marrs\u001b[49m\u001b[43m,\u001b[49m\u001b[43m \u001b[49m\u001b[32;43m0\u001b[39;49m\u001b[43m,\u001b[49m\u001b[43m \u001b[49m\u001b[43mdtype\u001b[49m\u001b[43m=\u001b[49m\u001b[43mdtype\u001b[49m\u001b[43m,\u001b[49m\u001b[43m \u001b[49m\u001b[43mcasting\u001b[49m\u001b[43m=\u001b[49m\u001b[43mcasting\u001b[49m\u001b[43m)\u001b[49m\n",
      "\u001b[31mValueError\u001b[39m: all the input array dimensions except for the concatenation axis must match exactly, but along dimension 1, the array at index 0 has size 3 and the array at index 1 has size 2"
     ]
    }
   ],
   "source": [
    "np.vstack((a,b)) # Here also it will not perform because the size is different"
   ]
  },
  {
   "cell_type": "code",
   "execution_count": 79,
   "id": "e35b844c-af87-44d9-96b7-192c699010af",
   "metadata": {},
   "outputs": [
    {
     "data": {
      "text/plain": [
       "array([[1, 6, 8, 8, 8],\n",
       "       [9, 4, 7, 4, 8],\n",
       "       [2, 7, 0, 6, 5]], dtype=int32)"
      ]
     },
     "execution_count": 79,
     "metadata": {},
     "output_type": "execute_result"
    }
   ],
   "source": [
    "np.hstack((a,b)) # Here it will perform because the coloumn size is same"
   ]
  },
  {
   "cell_type": "code",
   "execution_count": 82,
   "id": "f1475c0e-5daa-4258-819d-9ce68b14383f",
   "metadata": {},
   "outputs": [
    {
     "data": {
      "text/plain": [
       "array([[2, 5, 8, 7],\n",
       "       [5, 0, 6, 6],\n",
       "       [4, 9, 1, 9],\n",
       "       [7, 2, 2, 1]], dtype=int32)"
      ]
     },
     "execution_count": 82,
     "metadata": {},
     "output_type": "execute_result"
    }
   ],
   "source": [
    "data2 = np.random.randint(0,10,(4,4))\n",
    "data2"
   ]
  },
  {
   "cell_type": "code",
   "execution_count": 91,
   "id": "c64e2975-c26b-4b79-8eae-ac564ce9ce32",
   "metadata": {},
   "outputs": [
    {
     "data": {
      "text/plain": [
       "[array([[2, 5],\n",
       "        [5, 0],\n",
       "        [4, 9],\n",
       "        [7, 2]], dtype=int32),\n",
       " array([[8, 7],\n",
       "        [6, 6],\n",
       "        [1, 9],\n",
       "        [2, 1]], dtype=int32)]"
      ]
     },
     "execution_count": 91,
     "metadata": {},
     "output_type": "execute_result"
    }
   ],
   "source": [
    "np.split(data2,2,axis=1)"
   ]
  },
  {
   "cell_type": "code",
   "execution_count": 93,
   "id": "ce849f4c-ce2d-43ca-9e2d-1bad9b0d3141",
   "metadata": {},
   "outputs": [
    {
     "data": {
      "text/plain": [
       "[array([[2, 5, 8, 7]], dtype=int32),\n",
       " array([[5, 0, 6, 6]], dtype=int32),\n",
       " array([[4, 9, 1, 9]], dtype=int32),\n",
       " array([[7, 2, 2, 1]], dtype=int32)]"
      ]
     },
     "execution_count": 93,
     "metadata": {},
     "output_type": "execute_result"
    }
   ],
   "source": [
    "np.split(data2,4,axis=0)"
   ]
  },
  {
   "cell_type": "code",
   "execution_count": 94,
   "id": "7c820974-fe30-4c17-b45e-30f41881b059",
   "metadata": {},
   "outputs": [
    {
     "data": {
      "text/plain": [
       "[array([[2, 5],\n",
       "        [5, 0],\n",
       "        [4, 9],\n",
       "        [7, 2]], dtype=int32),\n",
       " array([[8, 7],\n",
       "        [6, 6],\n",
       "        [1, 9],\n",
       "        [2, 1]], dtype=int32)]"
      ]
     },
     "execution_count": 94,
     "metadata": {},
     "output_type": "execute_result"
    }
   ],
   "source": [
    "np.hsplit(data2,2)"
   ]
  },
  {
   "cell_type": "code",
   "execution_count": 95,
   "id": "cd191cda-bf4c-4c12-9008-2b02205e5442",
   "metadata": {},
   "outputs": [
    {
     "data": {
      "text/plain": [
       "[array([[2, 5, 8, 7],\n",
       "        [5, 0, 6, 6]], dtype=int32),\n",
       " array([[4, 9, 1, 9],\n",
       "        [7, 2, 2, 1]], dtype=int32)]"
      ]
     },
     "execution_count": 95,
     "metadata": {},
     "output_type": "execute_result"
    }
   ],
   "source": [
    "np.vsplit(data2,2)"
   ]
  },
  {
   "cell_type": "code",
   "execution_count": null,
   "id": "6cf67556-3727-4625-af78-c082326099cc",
   "metadata": {},
   "outputs": [],
   "source": [
    "### SET functions in NUMPY"
   ]
  },
  {
   "cell_type": "code",
   "execution_count": 4,
   "id": "3fcce53a-e20d-4011-b7e4-d36f33cef492",
   "metadata": {},
   "outputs": [
    {
     "data": {
      "text/plain": [
       "array([1, 2, 3, 4, 9, 3, 4, 6, 7])"
      ]
     },
     "execution_count": 4,
     "metadata": {},
     "output_type": "execute_result"
    }
   ],
   "source": [
    "g = np.array([1,2,3,4,9,3,4,6,7])\n",
    "g"
   ]
  },
  {
   "cell_type": "code",
   "execution_count": 5,
   "id": "a6d6bf5b-4139-47a6-91b7-aa5c4c60e7db",
   "metadata": {},
   "outputs": [
    {
     "data": {
      "text/plain": [
       "array([4, 5, 6, 7])"
      ]
     },
     "execution_count": 5,
     "metadata": {},
     "output_type": "execute_result"
    }
   ],
   "source": [
    "h = np.array([4,5,6,7]) \n",
    "h"
   ]
  },
  {
   "cell_type": "code",
   "execution_count": 7,
   "id": "70b0713f-d39f-4292-b863-c5125b9c59ff",
   "metadata": {},
   "outputs": [
    {
     "data": {
      "text/plain": [
       "array([1, 2, 3, 4, 6, 7, 9])"
      ]
     },
     "execution_count": 7,
     "metadata": {},
     "output_type": "execute_result"
    }
   ],
   "source": [
    "np.unique(g)"
   ]
  },
  {
   "cell_type": "code",
   "execution_count": 8,
   "id": "5137fd6c-c257-4531-bbf1-eed1cabfbe2a",
   "metadata": {},
   "outputs": [
    {
     "data": {
      "text/plain": [
       "array([4, 6, 7])"
      ]
     },
     "execution_count": 8,
     "metadata": {},
     "output_type": "execute_result"
    }
   ],
   "source": [
    "np.intersect1d(g,h)"
   ]
  },
  {
   "cell_type": "code",
   "execution_count": 9,
   "id": "fc6e9d3e-b602-4f9f-94ff-c7d381e441ed",
   "metadata": {},
   "outputs": [
    {
     "data": {
      "text/plain": [
       "array([1, 2, 3, 9])"
      ]
     },
     "execution_count": 9,
     "metadata": {},
     "output_type": "execute_result"
    }
   ],
   "source": [
    "np.setdiff1d(g,h)"
   ]
  },
  {
   "cell_type": "code",
   "execution_count": 10,
   "id": "259b7f10-1da5-4429-be95-20dbf0f53efb",
   "metadata": {},
   "outputs": [
    {
     "data": {
      "text/plain": [
       "array([5])"
      ]
     },
     "execution_count": 10,
     "metadata": {},
     "output_type": "execute_result"
    }
   ],
   "source": [
    "np.setdiff1d(h,g)"
   ]
  },
  {
   "cell_type": "code",
   "execution_count": null,
   "id": "5ec3b991-f2cb-4b27-874a-f94c820c73ae",
   "metadata": {},
   "outputs": [],
   "source": [
    "####"
   ]
  },
  {
   "cell_type": "code",
   "execution_count": 11,
   "id": "7b84f0e6-dee1-4152-b2d5-e50a30e323fd",
   "metadata": {},
   "outputs": [
    {
     "data": {
      "text/plain": [
       "array([89, 19, 76, 41, 12, 11, 42, 26, 66, 96], dtype=int32)"
      ]
     },
     "execution_count": 11,
     "metadata": {},
     "output_type": "execute_result"
    }
   ],
   "source": [
    "sales= np.random.randint(10,100,10)\n",
    "sales"
   ]
  },
  {
   "cell_type": "code",
   "execution_count": 12,
   "id": "a4553fb3-a064-497e-8c68-bf861598899e",
   "metadata": {},
   "outputs": [
    {
     "data": {
      "text/plain": [
       "(4,)"
      ]
     },
     "execution_count": 12,
     "metadata": {},
     "output_type": "execute_result"
    }
   ],
   "source": [
    "# how many customer bought above 50\n",
    "sales[sales>50].shape"
   ]
  },
  {
   "cell_type": "code",
   "execution_count": 14,
   "id": "eb29ab57-71a0-42ef-90b5-f2e9e90bafe7",
   "metadata": {},
   "outputs": [
    {
     "data": {
      "text/plain": [
       "4"
      ]
     },
     "execution_count": 14,
     "metadata": {},
     "output_type": "execute_result"
    }
   ],
   "source": [
    "len(sales[sales>50]) # it will also give the same result"
   ]
  },
  {
   "cell_type": "code",
   "execution_count": 18,
   "id": "b1c5f122-f893-4625-9e55-ee6e5ef4ab03",
   "metadata": {},
   "outputs": [
    {
     "data": {
      "text/plain": [
       "4"
      ]
     },
     "execution_count": 18,
     "metadata": {},
     "output_type": "execute_result"
    }
   ],
   "source": [
    "# how many of the customers bought above the average value\n",
    "len(sales[sales>=sales.mean()])"
   ]
  },
  {
   "cell_type": "code",
   "execution_count": 19,
   "id": "25abb5a3-b153-4b83-b893-c15c093b7442",
   "metadata": {},
   "outputs": [
    {
     "data": {
      "text/plain": [
       "array([89, 76, 66, 96], dtype=int32)"
      ]
     },
     "execution_count": 19,
     "metadata": {},
     "output_type": "execute_result"
    }
   ],
   "source": [
    "sales[sales>=sales.mean()]"
   ]
  },
  {
   "cell_type": "code",
   "execution_count": 20,
   "id": "2a5de691-0e14-4765-b801-18e9f72f7746",
   "metadata": {},
   "outputs": [
    {
     "data": {
      "text/plain": [
       "6"
      ]
     },
     "execution_count": 20,
     "metadata": {},
     "output_type": "execute_result"
    }
   ],
   "source": [
    "# how many of the customers bought below the average value\n",
    "len(sales[sales<=sales.mean()])"
   ]
  },
  {
   "cell_type": "code",
   "execution_count": 21,
   "id": "3b9fd5ee-5795-4769-a594-bce7e1e74412",
   "metadata": {},
   "outputs": [
    {
     "data": {
      "text/plain": [
       "array([19, 41, 12, 11, 42, 26], dtype=int32)"
      ]
     },
     "execution_count": 21,
     "metadata": {},
     "output_type": "execute_result"
    }
   ],
   "source": [
    "sales[sales<=sales.mean()]"
   ]
  },
  {
   "cell_type": "code",
   "execution_count": null,
   "id": "ac2d9d27-58e6-4204-aa84-df7d46258498",
   "metadata": {},
   "outputs": [],
   "source": []
  },
  {
   "cell_type": "code",
   "execution_count": 5,
   "id": "a361c2d9-2846-4d84-9e19-c3e783c00b16",
   "metadata": {},
   "outputs": [
    {
     "data": {
      "text/plain": [
       "array([[76, 75, 47, 11, 10],\n",
       "       [73, 63, 75, 38, 41],\n",
       "       [99, 27, 48, 76, 52],\n",
       "       [64, 67, 44, 93, 44],\n",
       "       [39, 41, 36, 92, 67],\n",
       "       [22, 31, 13, 14, 77],\n",
       "       [41, 78, 64, 47, 26],\n",
       "       [57, 25, 98,  9, 41],\n",
       "       [89, 15,  6, 41, 15],\n",
       "       [96, 12, 17, 33,  7]], dtype=int32)"
      ]
     },
     "execution_count": 5,
     "metadata": {},
     "output_type": "execute_result"
    }
   ],
   "source": [
    "## asuming 10 stores and 5 products with those sales value\n",
    "sales = np.random.randint(1,100,(10,5))\n",
    "sales"
   ]
  },
  {
   "cell_type": "code",
   "execution_count": 6,
   "id": "5a68b3e4-6b26-4373-98ca-56b225431526",
   "metadata": {},
   "outputs": [
    {
     "data": {
      "text/plain": [
       "array([76, 75, 47, 11, 10], dtype=int32)"
      ]
     },
     "execution_count": 6,
     "metadata": {},
     "output_type": "execute_result"
    }
   ],
   "source": [
    "## saggregating store 1\n",
    "sales[0,]"
   ]
  },
  {
   "cell_type": "code",
   "execution_count": 7,
   "id": "26584524-4f19-43bd-a5e2-2314729e5b48",
   "metadata": {},
   "outputs": [
    {
     "data": {
      "text/plain": [
       "np.int64(219)"
      ]
     },
     "execution_count": 7,
     "metadata": {},
     "output_type": "execute_result"
    }
   ],
   "source": [
    "## what is the total sales done by store 1\n",
    "sales[0,].sum()"
   ]
  },
  {
   "cell_type": "code",
   "execution_count": 8,
   "id": "7c2bbae6-fb7e-493d-bd98-890cc8bbfe37",
   "metadata": {},
   "outputs": [
    {
     "data": {
      "text/plain": [
       "array([219, 290, 302, 312, 275, 157, 256, 230, 166, 165])"
      ]
     },
     "execution_count": 8,
     "metadata": {},
     "output_type": "execute_result"
    }
   ],
   "source": [
    "# total sales of each store\n",
    "sales.sum(axis=1)"
   ]
  },
  {
   "cell_type": "code",
   "execution_count": 9,
   "id": "1b3b923d-8124-42f1-a00d-cd770933eb97",
   "metadata": {},
   "outputs": [
    {
     "data": {
      "text/plain": [
       "array([76, 75, 99, 93, 92, 77, 78, 98, 89, 96], dtype=int32)"
      ]
     },
     "execution_count": 9,
     "metadata": {},
     "output_type": "execute_result"
    }
   ],
   "source": [
    "# max sales of produts store wise\n",
    "sales.max(axis=1)"
   ]
  },
  {
   "cell_type": "code",
   "execution_count": 10,
   "id": "06979ee2-54fa-41c7-b7b8-af4682283180",
   "metadata": {},
   "outputs": [
    {
     "data": {
      "text/plain": [
       "np.int32(99)"
      ]
     },
     "execution_count": 10,
     "metadata": {},
     "output_type": "execute_result"
    }
   ],
   "source": [
    "max(sales.max(axis=1))"
   ]
  },
  {
   "cell_type": "code",
   "execution_count": 11,
   "id": "87a0da8a-7456-452c-bc9e-4eda46fdca56",
   "metadata": {},
   "outputs": [
    {
     "data": {
      "text/plain": [
       "np.int64(3)"
      ]
     },
     "execution_count": 11,
     "metadata": {},
     "output_type": "execute_result"
    }
   ],
   "source": [
    "# in which store it has the maximum sales for product 1\n",
    "\n",
    "sales[:,0].argmax()+1   # here we have put +1 because the index starts from 0 but to get the exact number we need to do so"
   ]
  },
  {
   "cell_type": "code",
   "execution_count": 12,
   "id": "75d1b561-f6a8-440d-9a23-518f548c423f",
   "metadata": {},
   "outputs": [
    {
     "data": {
      "text/plain": [
       "array([[76, 75, 47, 11, 10],\n",
       "       [73, 63, 75, 38, 41],\n",
       "       [99, 27, 48, 76, 52],\n",
       "       [64, 67, 44, 93, 44],\n",
       "       [39, 41, 36, 92, 67],\n",
       "       [22, 31, 13, 14, 77],\n",
       "       [41, 78, 64, 47, 26],\n",
       "       [57, 25, 98,  9, 41],\n",
       "       [89, 15,  6, 41, 15],\n",
       "       [96, 12, 17, 33,  7]], dtype=int32)"
      ]
     },
     "execution_count": 12,
     "metadata": {},
     "output_type": "execute_result"
    }
   ],
   "source": [
    "sales"
   ]
  },
  {
   "cell_type": "code",
   "execution_count": 19,
   "id": "dd2cc4df-c832-4eea-a825-999510a5ba22",
   "metadata": {},
   "outputs": [
    {
     "data": {
      "text/plain": [
       "np.int64(1)"
      ]
     },
     "execution_count": 19,
     "metadata": {},
     "output_type": "execute_result"
    }
   ],
   "source": [
    "## which product on an average is making more sales\n",
    "sales.mean(axis=0).argmax()+1"
   ]
  },
  {
   "cell_type": "code",
   "execution_count": 20,
   "id": "a8619005-595e-4f59-b105-054debc46e95",
   "metadata": {},
   "outputs": [
    {
     "data": {
      "text/plain": [
       "array([65.6, 43.4, 44.8, 45.4, 38. ])"
      ]
     },
     "execution_count": 20,
     "metadata": {},
     "output_type": "execute_result"
    }
   ],
   "source": [
    "sales.mean(axis=0)"
   ]
  },
  {
   "cell_type": "markdown",
   "id": "e7fbad3f-4cd2-41f6-a47f-6078222058aa",
   "metadata": {},
   "source": []
  },
  {
   "cell_type": "code",
   "execution_count": 24,
   "id": "a43be944-0219-4e8c-bde0-37b3bacebb6b",
   "metadata": {},
   "outputs": [
    {
     "data": {
      "text/plain": [
       "array([[76, 75, 47, 11, 10],\n",
       "       [73, 63, 75, 38, 41],\n",
       "       [99, 27, 48, 76, 52],\n",
       "       [64, 67, 44, 93, 44],\n",
       "       [39, 41, 36, 92, 67],\n",
       "       [22, 31, 13, 14, 77],\n",
       "       [41, 78, 64, 47, 26],\n",
       "       [57, 25, 98,  9, 41],\n",
       "       [89, 15,  6, 41, 15],\n",
       "       [96, 12, 17, 33,  7]], dtype=int32)"
      ]
     },
     "execution_count": 24,
     "metadata": {},
     "output_type": "execute_result"
    }
   ],
   "source": [
    "sales"
   ]
  },
  {
   "cell_type": "markdown",
   "id": "8be1706a-1525-4b5c-b58f-58e7b0d61c44",
   "metadata": {},
   "source": [
    "| Store     | Sales | units     | txn       |customer   | profit    | drive through\n",
    "|-----------|-------|-----------|-----------|-----------|-----------|\n",
    "\n",
    "| Store 1   | 76    | 75        | 47        | 11        | 10        | 0\n",
    "| Store 2   | 73    | 63        | 75        | 38        | 41        | 1\n",
    "| Store 3   | 99    | 27        | 48        | 76        | 52        | 0\n",
    "| Store 4   | 64    | 67        | 44        | 93        | 44        | 1\n",
    "| Store 5   | 39    | 41        | 36        | 92        | 67        | 0\n",
    "| Store 6   | 22    | 31        | 13        | 14        | 77        | 0\n",
    "| Store 7   | 41    | 78        | 64        | 47        | 26        | 1\n",
    "| Store 8   | 57    | 25        | 98        |  9        | 41        | 0\n",
    "| Store 9   | 89    | 15        |  6        | 41        | 15        | 1\n",
    "| Store 10  | 96    | 12        | 17        | 33        |  7        | 0"
   ]
  },
  {
   "cell_type": "code",
   "execution_count": 37,
   "id": "9452afbf-20a9-4bf7-bdbb-3de1057464ec",
   "metadata": {},
   "outputs": [
    {
     "data": {
      "text/plain": [
       "array([ 1.61702128,  0.97333333,  2.0625    ,  1.45454545,  1.08333333,\n",
       "        1.69230769,  0.640625  ,  0.58163265, 14.83333333,  5.64705882])"
      ]
     },
     "execution_count": 37,
     "metadata": {},
     "output_type": "execute_result"
    }
   ],
   "source": [
    "## which store has the max basket value BASKET VALUE= (SALES/TXN)\n",
    "(sales[:,0]/sales[:,2])"
   ]
  },
  {
   "cell_type": "code",
   "execution_count": 41,
   "id": "9965fabe-753d-419b-9706-da12c1928bd3",
   "metadata": {},
   "outputs": [
    {
     "data": {
      "text/plain": [
       "array([ 1,  0,  2,  1,  1,  1,  0,  0, 14,  5])"
      ]
     },
     "execution_count": 41,
     "metadata": {},
     "output_type": "execute_result"
    }
   ],
   "source": [
    "# to convert the float to integer we need to use ASTYPE(INT) function\n",
    "(sales[:,0]/sales[:,2]).astype(int)"
   ]
  },
  {
   "cell_type": "code",
   "execution_count": 42,
   "id": "0def3908-e64f-44d3-b08d-50ae354f945d",
   "metadata": {},
   "outputs": [
    {
     "data": {
      "text/plain": [
       "np.int64(9)"
      ]
     },
     "execution_count": 42,
     "metadata": {},
     "output_type": "execute_result"
    }
   ],
   "source": [
    "(sales[:,0]/sales[:,2]).argmax()+1"
   ]
  },
  {
   "cell_type": "code",
   "execution_count": 44,
   "id": "0a02e3b2-2454-4339-90fb-cb11fefa521a",
   "metadata": {},
   "outputs": [
    {
     "name": "stdout",
     "output_type": "stream",
     "text": [
      "[[76 75 47 11 10  0]\n",
      " [73 63 75 38 41  1]\n",
      " [99 27 48 76 52  0]\n",
      " [64 67 44 93 44  1]\n",
      " [39 41 36 92 67  0]\n",
      " [22 31 13 14 77  0]\n",
      " [41 78 64 47 26  1]\n",
      " [57 25 98  9 41  0]\n",
      " [89 15  6 41 15  1]\n",
      " [96 12 17 33  7  0]]\n"
     ]
    }
   ],
   "source": [
    "import numpy as np\n",
    "\n",
    "data = np.array([[76, 75, 47, 11, 10, 0],\n",
    "       [73, 63, 75, 38, 41, 1],\n",
    "       [99, 27, 48, 76, 52, 0],\n",
    "       [64, 67, 44, 93, 44, 1],\n",
    "       [39, 41, 36, 92, 67, 0],\n",
    "       [22, 31, 13, 14, 77, 0],\n",
    "       [41, 78, 64, 47, 26, 1],\n",
    "       [57, 25, 98,  9, 41, 0],\n",
    "       [89, 15,  6, 41, 15, 1],\n",
    "       [96, 12, 17, 33,  7, 0]])\n",
    "print (data)\n"
   ]
  },
  {
   "cell_type": "code",
   "execution_count": 45,
   "id": "7517bf1f-7ccb-4cf1-8c81-2dff472208eb",
   "metadata": {},
   "outputs": [
    {
     "data": {
      "text/plain": [
       "array([[76, 75, 47, 11, 10,  0],\n",
       "       [73, 63, 75, 38, 41,  1],\n",
       "       [99, 27, 48, 76, 52,  0],\n",
       "       [64, 67, 44, 93, 44,  1],\n",
       "       [39, 41, 36, 92, 67,  0],\n",
       "       [22, 31, 13, 14, 77,  0],\n",
       "       [41, 78, 64, 47, 26,  1],\n",
       "       [57, 25, 98,  9, 41,  0],\n",
       "       [89, 15,  6, 41, 15,  1],\n",
       "       [96, 12, 17, 33,  7,  0]])"
      ]
     },
     "execution_count": 45,
     "metadata": {},
     "output_type": "execute_result"
    }
   ],
   "source": [
    "data"
   ]
  },
  {
   "cell_type": "code",
   "execution_count": 47,
   "id": "7af82640-dd3a-47f6-b896-7cfe07e5bbd7",
   "metadata": {},
   "outputs": [
    {
     "name": "stdout",
     "output_type": "stream",
     "text": [
      "no drive through store\n"
     ]
    }
   ],
   "source": [
    "## find if the drive through store are giving more sales or not\n",
    "\n",
    "if data[data[:,-1]==0].sum()>data[data[:,-1]==1].sum():\n",
    "    print (\"no drive through store\")\n",
    "else:\n",
    "    (\"drive through\")"
   ]
  },
  {
   "cell_type": "code",
   "execution_count": 2,
   "id": "67f44d63-e057-4b94-8559-c03ffd255665",
   "metadata": {},
   "outputs": [],
   "source": [
    "import numpy as np"
   ]
  },
  {
   "cell_type": "code",
   "execution_count": null,
   "id": "f1d864b7-ea6c-472b-8923-237e24e77f30",
   "metadata": {
    "jupyter": {
     "source_hidden": true
    }
   },
   "outputs": [],
   "source": [
    "## broadcasting"
   ]
  },
  {
   "cell_type": "code",
   "execution_count": null,
   "id": "a1b0621e-609c-4e1d-8852-c877b3c12007",
   "metadata": {},
   "outputs": [],
   "source": [
    "## ROW LEVEL BROADCASTING"
   ]
  },
  {
   "cell_type": "code",
   "execution_count": 5,
   "id": "0c6485ff-50d6-4a85-842a-5dc4e953b447",
   "metadata": {},
   "outputs": [
    {
     "data": {
      "text/plain": [
       "array([[0, 9, 7],\n",
       "       [7, 5, 8],\n",
       "       [5, 4, 3]], dtype=int32)"
      ]
     },
     "execution_count": 5,
     "metadata": {},
     "output_type": "execute_result"
    }
   ],
   "source": [
    "x = np.random.randint(0,10,(3,3))\n",
    "x"
   ]
  },
  {
   "cell_type": "code",
   "execution_count": 7,
   "id": "5090002d-a6ed-462b-ad2e-a9af228422f3",
   "metadata": {},
   "outputs": [],
   "source": [
    "y = 10"
   ]
  },
  {
   "cell_type": "code",
   "execution_count": 9,
   "id": "5a2212f6-7877-483c-be0b-6059245597ec",
   "metadata": {},
   "outputs": [
    {
     "data": {
      "text/plain": [
       "array([[10, 19, 17],\n",
       "       [17, 15, 18],\n",
       "       [15, 14, 13]], dtype=int32)"
      ]
     },
     "execution_count": 9,
     "metadata": {},
     "output_type": "execute_result"
    }
   ],
   "source": [
    "x+y ## here the value of y(10) will be added to each of the element of x"
   ]
  },
  {
   "cell_type": "code",
   "execution_count": 10,
   "id": "76e0fed3-8b57-4394-9ecb-ef30128a1c54",
   "metadata": {},
   "outputs": [
    {
     "data": {
      "text/plain": [
       "array([[3, 7, 3]], dtype=int32)"
      ]
     },
     "execution_count": 10,
     "metadata": {},
     "output_type": "execute_result"
    }
   ],
   "source": [
    "y = np.random.randint(0,10,(1,3))\n",
    "y"
   ]
  },
  {
   "cell_type": "code",
   "execution_count": 16,
   "id": "6076ae7a-d3cf-4640-93c1-7699ae4dd144",
   "metadata": {},
   "outputs": [
    {
     "data": {
      "text/plain": [
       "array([[ 9, 18, 16],\n",
       "       [ 7,  5,  8],\n",
       "       [14, 13, 12]], dtype=int32)"
      ]
     },
     "execution_count": 16,
     "metadata": {},
     "output_type": "execute_result"
    }
   ],
   "source": [
    "x+y  ## here the element of y will be added to elementd of x at row level"
   ]
  },
  {
   "cell_type": "code",
   "execution_count": null,
   "id": "93927194-ddca-4af4-8819-86dfdedfb29d",
   "metadata": {},
   "outputs": [],
   "source": [
    "## COLOUMN LEVEL BROADCASTING"
   ]
  },
  {
   "cell_type": "code",
   "execution_count": 15,
   "id": "80801b77-610c-4b84-a5fd-081a714190cb",
   "metadata": {},
   "outputs": [
    {
     "data": {
      "text/plain": [
       "array([[0, 9, 7],\n",
       "       [7, 5, 8],\n",
       "       [5, 4, 3]], dtype=int32)"
      ]
     },
     "execution_count": 15,
     "metadata": {},
     "output_type": "execute_result"
    }
   ],
   "source": [
    "x"
   ]
  },
  {
   "cell_type": "code",
   "execution_count": 13,
   "id": "6087bbf0-9c02-4b86-8594-3750fcfe435f",
   "metadata": {},
   "outputs": [
    {
     "data": {
      "text/plain": [
       "array([[9],\n",
       "       [0],\n",
       "       [9]], dtype=int32)"
      ]
     },
     "execution_count": 13,
     "metadata": {},
     "output_type": "execute_result"
    }
   ],
   "source": [
    "y = np.random.randint(0,10,(3,1))\n",
    "y"
   ]
  },
  {
   "cell_type": "code",
   "execution_count": 17,
   "id": "42d3a694-cc6e-4f08-a6b3-9dc8f806847b",
   "metadata": {},
   "outputs": [
    {
     "data": {
      "text/plain": [
       "array([[ 9, 18, 16],\n",
       "       [ 7,  5,  8],\n",
       "       [14, 13, 12]], dtype=int32)"
      ]
     },
     "execution_count": 17,
     "metadata": {},
     "output_type": "execute_result"
    }
   ],
   "source": [
    "x+y ## here the element of y will be added to elementd of x at coloumn level"
   ]
  },
  {
   "cell_type": "code",
   "execution_count": 18,
   "id": "d01bbdc0-cd88-4607-aed5-45b15dc5be4f",
   "metadata": {},
   "outputs": [
    {
     "data": {
      "text/plain": [
       "array([[4, 9, 9]], dtype=int32)"
      ]
     },
     "execution_count": 18,
     "metadata": {},
     "output_type": "execute_result"
    }
   ],
   "source": [
    "x = np.random.randint(0,10,(1,3))\n",
    "x"
   ]
  },
  {
   "cell_type": "code",
   "execution_count": 19,
   "id": "8e8508f0-3d9d-400c-99a7-b965453661ce",
   "metadata": {},
   "outputs": [
    {
     "data": {
      "text/plain": [
       "array([[7],\n",
       "       [9],\n",
       "       [8]], dtype=int32)"
      ]
     },
     "execution_count": 19,
     "metadata": {},
     "output_type": "execute_result"
    }
   ],
   "source": [
    "y = np.random.randint(0,10,(3,1))\n",
    "y"
   ]
  },
  {
   "cell_type": "code",
   "execution_count": 21,
   "id": "be6c8daf-e8ff-4987-a724-b6ce5f9eb297",
   "metadata": {},
   "outputs": [
    {
     "data": {
      "text/plain": [
       "array([[11, 16, 16],\n",
       "       [13, 18, 18],\n",
       "       [12, 17, 17]], dtype=int32)"
      ]
     },
     "execution_count": 21,
     "metadata": {},
     "output_type": "execute_result"
    }
   ],
   "source": [
    "x+y ## here all the row level elements are getting added to the coloumn level elements to extend the array"
   ]
  },
  {
   "cell_type": "code",
   "execution_count": null,
   "id": "12deb418-26ee-442c-a13e-068e1ea67928",
   "metadata": {},
   "outputs": [],
   "source": []
  },
  {
   "cell_type": "code",
   "execution_count": 25,
   "id": "bf01c7dd-88a2-4c99-96a6-db7e38aa98ab",
   "metadata": {},
   "outputs": [
    {
     "ename": "ModuleNotFoundError",
     "evalue": "No module named 'cv2'",
     "output_type": "error",
     "traceback": [
      "\u001b[31m---------------------------------------------------------------------------\u001b[39m",
      "\u001b[31mModuleNotFoundError\u001b[39m                       Traceback (most recent call last)",
      "\u001b[36mCell\u001b[39m\u001b[36m \u001b[39m\u001b[32mIn[25]\u001b[39m\u001b[32m, line 1\u001b[39m\n\u001b[32m----> \u001b[39m\u001b[32m1\u001b[39m \u001b[38;5;28;01mimport\u001b[39;00m\u001b[38;5;250m \u001b[39m\u001b[34;01mcv2\u001b[39;00m\n\u001b[32m      2\u001b[39m data = cv2.imread(\u001b[33mr\u001b[39m\u001b[33m\"\u001b[39m\u001b[33mC:\u001b[39m\u001b[33m\\\u001b[39m\u001b[33mUsers\u001b[39m\u001b[33m\\\u001b[39m\u001b[33mdell\u001b[39m\u001b[33m\\\u001b[39m\u001b[33mDesktop\u001b[39m\u001b[33m\\\u001b[39m\u001b[33mDE CLASSES PYTHON\u001b[39m\u001b[33m\\\u001b[39m\u001b[33mPython codes\u001b[39m\u001b[33m\\\u001b[39m\u001b[33mScreenshot 2025-06-16 052801.png\u001b[39m\u001b[33m\"\u001b[39m)\n",
      "\u001b[31mModuleNotFoundError\u001b[39m: No module named 'cv2'"
     ]
    }
   ],
   "source": [
    "import cv2\n",
    "data = cv2.imread(r\"C:\\Users\\dell\\Desktop\\DE CLASSES PYTHON\\Python codes\\Screenshot 2025-06-16 052801.png\")"
   ]
  },
  {
   "cell_type": "code",
   "execution_count": null,
   "id": "c3b06189-91a2-4e83-8d24-ee8d9e3b67b7",
   "metadata": {},
   "outputs": [],
   "source": []
  }
 ],
 "metadata": {
  "kernelspec": {
   "display_name": "Python 3 (ipykernel)",
   "language": "python",
   "name": "python3"
  },
  "language_info": {
   "codemirror_mode": {
    "name": "ipython",
    "version": 3
   },
   "file_extension": ".py",
   "mimetype": "text/x-python",
   "name": "python",
   "nbconvert_exporter": "python",
   "pygments_lexer": "ipython3",
   "version": "3.13.2"
  }
 },
 "nbformat": 4,
 "nbformat_minor": 5
}
