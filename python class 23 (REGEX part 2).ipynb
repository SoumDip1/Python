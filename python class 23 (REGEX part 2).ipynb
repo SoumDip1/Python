{
 "cells": [
  {
   "cell_type": "code",
   "execution_count": null,
   "id": "4ae19f73-5078-4cae-9445-f1b1858a314a",
   "metadata": {},
   "outputs": [],
   "source": []
  },
  {
   "cell_type": "code",
   "execution_count": 2,
   "id": "17ab3481-1e80-40bc-9576-f71ebc2303f0",
   "metadata": {},
   "outputs": [
    {
     "data": {
      "text/plain": [
       "['a', 'a', 'c', 'c', 'a', 'c', 'a']"
      ]
     },
     "execution_count": 2,
     "metadata": {},
     "output_type": "execute_result"
    }
   ],
   "source": [
    "import regex as re\n",
    "re.findall(r\"[a-c]\", \"data science machine learning\")"
   ]
  },
  {
   "cell_type": "code",
   "execution_count": 2,
   "id": "a141da1c-d567-4237-a9d7-e696d786be5a",
   "metadata": {},
   "outputs": [
    {
     "data": {
      "text/plain": [
       "['D', 'A', 'a', 'c', 'c', 'a', 'c', 'a']"
      ]
     },
     "execution_count": 2,
     "metadata": {},
     "output_type": "execute_result"
    }
   ],
   "source": [
    "re.findall(r\"[a-cAD]\", \"DAta science machine learning\")"
   ]
  },
  {
   "cell_type": "code",
   "execution_count": 5,
   "id": "40ddba59-6fc5-4386-88a0-8f74514e2018",
   "metadata": {},
   "outputs": [
    {
     "data": {
      "text/plain": [
       "['Dat']"
      ]
     },
     "execution_count": 5,
     "metadata": {},
     "output_type": "execute_result"
    }
   ],
   "source": [
    "re.findall(\"D.t\", \"Data science\")"
   ]
  },
  {
   "cell_type": "code",
   "execution_count": 6,
   "id": "279aa6e8-8747-4a6f-8e24-55cf25077fd8",
   "metadata": {},
   "outputs": [
    {
     "data": {
      "text/plain": [
       "['Data']"
      ]
     },
     "execution_count": 6,
     "metadata": {},
     "output_type": "execute_result"
    }
   ],
   "source": [
    "re.findall(\"D..a\", \"Data science\")"
   ]
  },
  {
   "cell_type": "code",
   "execution_count": 12,
   "id": "a96523b8-5e54-4557-b814-d4d13b6a5e2e",
   "metadata": {},
   "outputs": [
    {
     "data": {
      "text/plain": [
       "['hello']"
      ]
     },
     "execution_count": 12,
     "metadata": {},
     "output_type": "execute_result"
    }
   ],
   "source": [
    "re.findall(r\"^hello\", \"hello world\")   # if a string starts with specific letters then it will return this"
   ]
  },
  {
   "cell_type": "code",
   "execution_count": 23,
   "id": "82a5051b-c7b9-4cc3-808a-63525235de4e",
   "metadata": {},
   "outputs": [
    {
     "data": {
      "text/plain": [
       "[]"
      ]
     },
     "execution_count": 23,
     "metadata": {},
     "output_type": "execute_result"
    }
   ],
   "source": [
    "re.findall(r\"^hello\", \"world hello\")  # here it will return as empty because the string is not starting with the specific values"
   ]
  },
  {
   "cell_type": "code",
   "execution_count": 24,
   "id": "99a0ca70-8321-4d76-9755-98a806115aa3",
   "metadata": {},
   "outputs": [
    {
     "data": {
      "text/plain": [
       "['hello']"
      ]
     },
     "execution_count": 24,
     "metadata": {},
     "output_type": "execute_result"
    }
   ],
   "source": [
    "re.findall(r\"hello$\", \"world hello\") # to get the output of the string which is ending with specific letters we need to use $ sign"
   ]
  },
  {
   "cell_type": "code",
   "execution_count": 28,
   "id": "fa7e5c97-d0a1-4825-a43f-450254f62d05",
   "metadata": {},
   "outputs": [
    {
     "data": {
      "text/plain": [
       "['d', '', '', '', '', '', 'd', '', '', '', '', '', '', 'd', '', '', '', '']"
      ]
     },
     "execution_count": 28,
     "metadata": {},
     "output_type": "execute_result"
    }
   ],
   "source": [
    "re.findall(r\"d*\", \"datascdataengdbms\") # it will return the dtring and will search for the next occurence and until that it will return empty string"
   ]
  },
  {
   "cell_type": "code",
   "execution_count": 33,
   "id": "a2897e31-314a-4887-a3ae-760aade8b2f9",
   "metadata": {},
   "outputs": [
    {
     "data": {
      "text/plain": [
       "['aaab', 'ab', 'b', 'aab']"
      ]
     },
     "execution_count": 33,
     "metadata": {},
     "output_type": "execute_result"
    }
   ],
   "source": [
    "re.findall(r\"a*b\", \"aaab ab b aab\") # it returns the zero or more occurrences of 'a' and a single 'b'"
   ]
  },
  {
   "cell_type": "code",
   "execution_count": 32,
   "id": "93d01c6e-692e-4793-bcdb-ae690a4b7c09",
   "metadata": {},
   "outputs": [
    {
     "data": {
      "text/plain": [
       "['a', 'a', 'a', 'a', 'a', 'a', 'bba']"
      ]
     },
     "execution_count": 32,
     "metadata": {},
     "output_type": "execute_result"
    }
   ],
   "source": [
    "re.findall(r\"b*a\", \"aaab ab b aab bba\")"
   ]
  },
  {
   "cell_type": "code",
   "execution_count": 3,
   "id": "0610f363-432b-43c5-b5df-adedddd24854",
   "metadata": {},
   "outputs": [
    {
     "data": {
      "text/plain": [
       "['aaa', 'a', 'a']"
      ]
     },
     "execution_count": 3,
     "metadata": {},
     "output_type": "execute_result"
    }
   ],
   "source": [
    "re.findall(r\"a+\", \"aaa a dad\")  # searches for zero or more occurence of \"a\""
   ]
  },
  {
   "cell_type": "code",
   "execution_count": 8,
   "id": "963443e4-c941-4e0b-8771-ae4544a73069",
   "metadata": {},
   "outputs": [
    {
     "name": "stderr",
     "output_type": "stream",
     "text": [
      "<>:1: SyntaxWarning: invalid escape sequence '\\d'\n",
      "<>:1: SyntaxWarning: invalid escape sequence '\\d'\n",
      "C:\\Users\\dell\\AppData\\Local\\Temp\\ipykernel_13896\\3170161896.py:1: SyntaxWarning: invalid escape sequence '\\d'\n",
      "  re.findall(\"\\d+\", \"Address is 101, Floor 121\") # searches for the numeric digit\n"
     ]
    },
    {
     "data": {
      "text/plain": [
       "['101', '121']"
      ]
     },
     "execution_count": 8,
     "metadata": {},
     "output_type": "execute_result"
    }
   ],
   "source": [
    "re.findall(\"\\d+\", \"Address is 101, Floor 121\") # searches for the numeric digit "
   ]
  },
  {
   "cell_type": "code",
   "execution_count": 7,
   "id": "b85bbabd-e5bc-4cd9-aeae-ba048317b039",
   "metadata": {},
   "outputs": [
    {
     "data": {
      "text/plain": [
       "['at', 'at']"
      ]
     },
     "execution_count": 7,
     "metadata": {},
     "output_type": "execute_result"
    }
   ],
   "source": [
    "re.findall(r\"a?t\",\"datxata\") # searches for zero or more occurence of \"at\""
   ]
  },
  {
   "cell_type": "code",
   "execution_count": 11,
   "id": "31943fe5-b105-44b9-835a-711124fd42b0",
   "metadata": {},
   "outputs": [
    {
     "data": {
      "text/plain": [
       "['falls', 'stays']"
      ]
     },
     "execution_count": 11,
     "metadata": {},
     "output_type": "execute_result"
    }
   ],
   "source": [
    "re.findall(\"falls|stays\", \"He whos falls and stays down is lost\") # search for specific words"
   ]
  },
  {
   "cell_type": "code",
   "execution_count": 15,
   "id": "a9f4d6e3-75c2-4055-aca3-0454f3efe100",
   "metadata": {},
   "outputs": [
    {
     "data": {
      "text/plain": [
       "['hello', 'hecco', 'hezzo']"
      ]
     },
     "execution_count": 15,
     "metadata": {},
     "output_type": "execute_result"
    }
   ],
   "source": [
    "re.findall(\"he.{2}o\", \"hello hecco hezzoon\") #search for specific words which match the specific format"
   ]
  },
  {
   "cell_type": "code",
   "execution_count": 17,
   "id": "2cb72330-bdc1-40e2-9923-b6528feb2bac",
   "metadata": {},
   "outputs": [
    {
     "data": {
      "text/plain": [
       "['hezzoo']"
      ]
     },
     "execution_count": 17,
     "metadata": {},
     "output_type": "execute_result"
    }
   ],
   "source": [
    "re.findall(\"he.{3}o\", \"hello hecco hezzoon\")"
   ]
  },
  {
   "cell_type": "code",
   "execution_count": null,
   "id": "2e97511e-2b4b-4dc3-b820-a3de501d7f2a",
   "metadata": {},
   "outputs": [],
   "source": [
    "re.findall"
   ]
  },
  {
   "cell_type": "code",
   "execution_count": 6,
   "id": "202e3ac7-769d-4d92-9b4c-549e7e7ac69b",
   "metadata": {},
   "outputs": [
    {
     "name": "stderr",
     "output_type": "stream",
     "text": [
      "<>:1: SyntaxWarning: invalid escape sequence '\\d'\n",
      "<>:1: SyntaxWarning: invalid escape sequence '\\d'\n",
      "C:\\Users\\dell\\AppData\\Local\\Temp\\ipykernel_17668\\2514651692.py:1: SyntaxWarning: invalid escape sequence '\\d'\n",
      "  output = re.findall(\"\\d+\", \"Address is 101, Floor 121\")  # it will return the output as string\n"
     ]
    }
   ],
   "source": [
    "output = re.findall(\"\\d+\", \"Address is 101, Floor 121\")  # it will return the output as string"
   ]
  },
  {
   "cell_type": "code",
   "execution_count": 8,
   "id": "48bacbd2-a368-4ff0-a049-e987c24dd8f5",
   "metadata": {},
   "outputs": [
    {
     "data": {
      "text/plain": [
       "['101', '121']"
      ]
     },
     "execution_count": 8,
     "metadata": {},
     "output_type": "execute_result"
    }
   ],
   "source": [
    "output #the output is in a form of string"
   ]
  },
  {
   "cell_type": "code",
   "execution_count": 10,
   "id": "1f8475b4-fc1b-44b5-aeb8-6c4ec8f8a538",
   "metadata": {},
   "outputs": [
    {
     "data": {
      "text/plain": [
       "[101, 121]"
      ]
     },
     "execution_count": 10,
     "metadata": {},
     "output_type": "execute_result"
    }
   ],
   "source": [
    "[int(i) for i in output]  # this is way to convert the string to numeric or integer form"
   ]
  },
  {
   "cell_type": "code",
   "execution_count": 12,
   "id": "e5a718af-53d5-47bf-bf95-a187fe00c58f",
   "metadata": {},
   "outputs": [
    {
     "data": {
      "text/plain": [
       "['data', 'science', '101']"
      ]
     },
     "execution_count": 12,
     "metadata": {},
     "output_type": "execute_result"
    }
   ],
   "source": [
    "re.findall (r\"\\w+\",\"data science 101!\") # this is used to filter the special characters and to get the string and integer value"
   ]
  },
  {
   "cell_type": "code",
   "execution_count": 15,
   "id": "f49905de-1a64-4ff5-8390-a96454621103",
   "metadata": {},
   "outputs": [
    {
     "data": {
      "text/plain": [
       "['a@b.com,', 'c@d.net']"
      ]
     },
     "execution_count": 15,
     "metadata": {},
     "output_type": "execute_result"
    }
   ],
   "source": [
    "re.findall(r\"\\S+@\\S+\", \"Contact: a@b.com, c@d.net\") # this is the waybto extract the email id"
   ]
  },
  {
   "cell_type": "code",
   "execution_count": 18,
   "id": "d7be0d61-bc52-42c0-8e05-9bfd99c37eb2",
   "metadata": {},
   "outputs": [
    {
     "data": {
      "text/plain": [
       "['P', 'I', 'F']"
      ]
     },
     "execution_count": 18,
     "metadata": {},
     "output_type": "execute_result"
    }
   ],
   "source": [
    "re.findall(r\"[A-Z]\", \"Python Is Fun\") # only capital letters will get return as output"
   ]
  },
  {
   "cell_type": "markdown",
   "id": "076399a3-47ec-492e-98a4-97c8970a0cff",
   "metadata": {},
   "source": [
    "# re.search function"
   ]
  },
  {
   "cell_type": "code",
   "execution_count": 21,
   "id": "4f126af3-f25c-487d-a248-6bc9aab5acc4",
   "metadata": {},
   "outputs": [
    {
     "data": {
      "text/plain": [
       "<regex.Match object; span=(9, 13), match='data'>"
      ]
     },
     "execution_count": 21,
     "metadata": {},
     "output_type": "execute_result"
    }
   ],
   "source": [
    "re.search(r\"data\", \" science data\") # it looks for the first occurrence of the substring \"data\" in the string \" science data\" and also shows the index range"
   ]
  },
  {
   "cell_type": "code",
   "execution_count": 24,
   "id": "128ac47d-5c7f-46f8-bd6f-7ce7092e1261",
   "metadata": {},
   "outputs": [
    {
     "data": {
      "text/plain": [
       "'data'"
      ]
     },
     "execution_count": 24,
     "metadata": {},
     "output_type": "execute_result"
    }
   ],
   "source": [
    "re.search(r\"data\", \" science data\").group()  # it will give the cumulative output  "
   ]
  },
  {
   "cell_type": "code",
   "execution_count": 28,
   "id": "4b6d05e9-9b42-40aa-b141-feb07a9a52ea",
   "metadata": {},
   "outputs": [
    {
     "data": {
      "text/plain": [
       "<regex.Match object; span=(0, 4), match='Data'>"
      ]
     },
     "execution_count": 28,
     "metadata": {},
     "output_type": "execute_result"
    }
   ],
   "source": [
    "re.search(r\"data\", \"Data science\", re.IGNORECASE) # it ignores the lower or uppercase and search for the respective match"
   ]
  },
  {
   "cell_type": "code",
   "execution_count": 31,
   "id": "d438cd3e-288b-4190-86d7-44a808762c8d",
   "metadata": {},
   "outputs": [
    {
     "data": {
      "text/plain": [
       "<regex.Match object; span=(0, 3), match='cat'>"
      ]
     },
     "execution_count": 31,
     "metadata": {},
     "output_type": "execute_result"
    }
   ],
   "source": [
    "re.search(r\"c.t\", \"cat, cut, cot\") # though all the words matches with the specific format but still it will return the first match"
   ]
  },
  {
   "cell_type": "code",
   "execution_count": 33,
   "id": "a31e8a85-4c23-4b5a-8fda-7b71be4d3da3",
   "metadata": {},
   "outputs": [
    {
     "data": {
      "text/plain": [
       "<regex.Match object; span=(5, 17), match='123-456-7890'>"
      ]
     },
     "execution_count": 33,
     "metadata": {},
     "output_type": "execute_result"
    }
   ],
   "source": [
    "re.search(r\"\\d{3}-\\d{3}-\\d{4}\", \"Call 123-456-7890\")  # it will return the match of numeric only "
   ]
  },
  {
   "cell_type": "markdown",
   "id": "f050cf85-09f1-4a8e-ad00-c62332cc12f6",
   "metadata": {},
   "source": [
    "# re.split function"
   ]
  },
  {
   "cell_type": "code",
   "execution_count": 35,
   "id": "18889e81-9272-4a0b-9231-f54bdf9ad191",
   "metadata": {},
   "outputs": [
    {
     "data": {
      "text/plain": [
       "['Data', 'Sci', 'ence']"
      ]
     },
     "execution_count": 35,
     "metadata": {},
     "output_type": "execute_result"
    }
   ],
   "source": [
    "re.split(r\"\\s+\", \"Data Sci ence\") # it splits the string by deleting the whitespaes"
   ]
  },
  {
   "cell_type": "code",
   "execution_count": 37,
   "id": "955efa30-4b65-4ef3-aa05-10b0b550cc36",
   "metadata": {},
   "outputs": [
    {
     "data": {
      "text/plain": [
       "[' data', 'science', 'course']"
      ]
     },
     "execution_count": 37,
     "metadata": {},
     "output_type": "execute_result"
    }
   ],
   "source": [
    "re.split(r\",\", \" data,science,course\") # it returns the comma separated value in a split format"
   ]
  },
  {
   "cell_type": "code",
   "execution_count": 40,
   "id": "a8ed8031-8561-436f-a78b-db3667876f9f",
   "metadata": {},
   "outputs": [
    {
     "data": {
      "text/plain": [
       "['a', 'b', 'c', 'd']"
      ]
     },
     "execution_count": 40,
     "metadata": {},
     "output_type": "execute_result"
    }
   ],
   "source": [
    "re.split(r\"[;:, ]\" ,\"a,b:c;d\")  # it will filter the specific characters and return the output"
   ]
  },
  {
   "cell_type": "code",
   "execution_count": 43,
   "id": "7073f86c-6301-4d0d-af90-0a254ac23e21",
   "metadata": {},
   "outputs": [
    {
     "data": {
      "text/plain": [
       "['abc', 'xyz', 'def']"
      ]
     },
     "execution_count": 43,
     "metadata": {},
     "output_type": "execute_result"
    }
   ],
   "source": [
    "re.split(r\"\\d+\", \"abc123xyz456def\") # \"123\" is matched and removed → splits between \"abc\" and \"xyz\""
   ]
  },
  {
   "cell_type": "code",
   "execution_count": 44,
   "id": "6311b28c-ea96-46c4-a139-b7eed0a4af44",
   "metadata": {},
   "outputs": [
    {
     "data": {
      "text/plain": [
       "['', '123', '456', '']"
      ]
     },
     "execution_count": 44,
     "metadata": {},
     "output_type": "execute_result"
    }
   ],
   "source": [
    "re.split(r\"\\D+\", \"abc123xyz456def\") # it splits the non digit characters and remove"
   ]
  },
  {
   "cell_type": "code",
   "execution_count": 48,
   "id": "d31c7255-fad5-4411-bf5a-54b696331b3b",
   "metadata": {},
   "outputs": [
    {
     "data": {
      "text/plain": [
       "['world1_world2', 'world3', 'world4']"
      ]
     },
     "execution_count": 48,
     "metadata": {},
     "output_type": "execute_result"
    }
   ],
   "source": [
    "re.split(r\"\\W+\", \"world1_world2-world3 world4\") # it will split the special characters and return the string only '_' is included"
   ]
  },
  {
   "cell_type": "code",
   "execution_count": null,
   "id": "8d59f442-7fa6-40f5-bb9f-9e6b1fc6a0a7",
   "metadata": {},
   "outputs": [],
   "source": []
  },
  {
   "cell_type": "code",
   "execution_count": null,
   "id": "717f2fcf-bdd6-496a-a8d2-2eebee5acab3",
   "metadata": {},
   "outputs": [],
   "source": []
  },
  {
   "cell_type": "code",
   "execution_count": null,
   "id": "8016d718-34f6-41c8-9c0d-59fc5968078a",
   "metadata": {},
   "outputs": [],
   "source": []
  },
  {
   "cell_type": "code",
   "execution_count": null,
   "id": "99c80389-9041-4ef6-b778-863e48de090c",
   "metadata": {},
   "outputs": [],
   "source": []
  },
  {
   "cell_type": "code",
   "execution_count": null,
   "id": "12930620-7c51-4f38-89dc-863d55f5564c",
   "metadata": {},
   "outputs": [],
   "source": []
  },
  {
   "cell_type": "code",
   "execution_count": null,
   "id": "3e78621e-0d7a-468b-abb6-17ff2f70eac0",
   "metadata": {},
   "outputs": [],
   "source": []
  },
  {
   "cell_type": "code",
   "execution_count": null,
   "id": "135bc282-09ef-4dbb-b616-68f1e2f49b7b",
   "metadata": {},
   "outputs": [],
   "source": []
  }
 ],
 "metadata": {
  "kernelspec": {
   "display_name": "Python 3 (ipykernel)",
   "language": "python",
   "name": "python3"
  },
  "language_info": {
   "codemirror_mode": {
    "name": "ipython",
    "version": 3
   },
   "file_extension": ".py",
   "mimetype": "text/x-python",
   "name": "python",
   "nbconvert_exporter": "python",
   "pygments_lexer": "ipython3",
   "version": "3.13.2"
  }
 },
 "nbformat": 4,
 "nbformat_minor": 5
}
